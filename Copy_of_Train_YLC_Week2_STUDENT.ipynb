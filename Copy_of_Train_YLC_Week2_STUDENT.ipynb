{
  "nbformat": 4,
  "nbformat_minor": 0,
  "metadata": {
    "colab": {
      "provenance": [],
      "include_colab_link": true
    },
    "kernelspec": {
      "name": "python3",
      "display_name": "Python 3"
    },
    "language_info": {
      "name": "python"
    }
  },
  "cells": [
    {
      "cell_type": "markdown",
      "metadata": {
        "id": "view-in-github",
        "colab_type": "text"
      },
      "source": [
        "<a href=\"https://colab.research.google.com/github/jqirko6/AI-ML-2022/blob/main/Copy_of_Train_YLC_Week2_STUDENT.ipynb\" target=\"_parent\"><img src=\"https://colab.research.google.com/assets/colab-badge.svg\" alt=\"Open In Colab\"/></a>"
      ]
    },
    {
      "cell_type": "markdown",
      "source": [
        "# Week 2 Homework: Exploratory Data Analysis (EDA)\n",
        "---\n",
        "In this week's homework, you'll practice the exploratory data analysis (EDA) skills you learned during lecture and lab this week. You will work with three datasets and learn more about them.\n",
        "\n",
        "There is optional additional practice to practice data cleaning and wrangling if your lab group completed those sections."
      ],
      "metadata": {
        "id": "U7FgZPkM9MrF"
      }
    },
    {
      "cell_type": "markdown",
      "source": [
        "##### **Make sure to run these libraries before starting.**"
      ],
      "metadata": {
        "id": "SDkdA2v0_Wl1"
      }
    },
    {
      "cell_type": "code",
      "source": [
        "# import pandas as pd\n",
        "import pandas as pd\n",
        "\n",
        "# Import datasets submodule\n",
        "from sklearn import datasets"
      ],
      "metadata": {
        "id": "Z6X-73pa_kXd"
      },
      "execution_count": null,
      "outputs": []
    },
    {
      "cell_type": "markdown",
      "source": [
        "## **Dataset #1**\n",
        "---"
      ],
      "metadata": {
        "id": "wZhFUWCX_MIm"
      }
    },
    {
      "cell_type": "markdown",
      "source": [
        "The dataset below contains information about 10 U.S. States in alphabetical order."
      ],
      "metadata": {
        "id": "lZ-ToXXH_lnF"
      }
    },
    {
      "cell_type": "code",
      "source": [
        "df = pd.DataFrame({'U.S. State':['Alabama', 'Alaska', 'Arizona', 'Arkansas', 'California', 'Colorado', 'Connecticut', 'Delaware', 'Florida', 'Georgia'],\n",
        "                         'Size (mi)': [52420, 665384, 113990, 53178, 163695, 104094, 5543, 2489, 65758, 59425],\n",
        "                         'Number of U.S. Representatives':[7, 1, 9, 4, 53, 7, 5, 1, 27, 14]})"
      ],
      "metadata": {
        "id": "WolgOGQo_oS9"
      },
      "execution_count": null,
      "outputs": []
    },
    {
      "cell_type": "code",
      "source": [
        "df"
      ],
      "metadata": {
        "id": "Cw8T1bK5A7Kp",
        "colab": {
          "base_uri": "https://localhost:8080/",
          "height": 359
        },
        "outputId": "968cc990-8dee-4124-c931-ee79d43516ee"
      },
      "execution_count": null,
      "outputs": [
        {
          "output_type": "execute_result",
          "data": {
            "text/plain": [
              "    U.S. State  Size (mi)  Number of U.S. Representatives\n",
              "0      Alabama      52420                               7\n",
              "1       Alaska     665384                               1\n",
              "2      Arizona     113990                               9\n",
              "3     Arkansas      53178                               4\n",
              "4   California     163695                              53\n",
              "5     Colorado     104094                               7\n",
              "6  Connecticut       5543                               5\n",
              "7     Delaware       2489                               1\n",
              "8      Florida      65758                              27\n",
              "9      Georgia      59425                              14"
            ],
            "text/html": [
              "\n",
              "  <div id=\"df-13617a17-c4cc-4216-a995-b3902c4200f6\">\n",
              "    <div class=\"colab-df-container\">\n",
              "      <div>\n",
              "<style scoped>\n",
              "    .dataframe tbody tr th:only-of-type {\n",
              "        vertical-align: middle;\n",
              "    }\n",
              "\n",
              "    .dataframe tbody tr th {\n",
              "        vertical-align: top;\n",
              "    }\n",
              "\n",
              "    .dataframe thead th {\n",
              "        text-align: right;\n",
              "    }\n",
              "</style>\n",
              "<table border=\"1\" class=\"dataframe\">\n",
              "  <thead>\n",
              "    <tr style=\"text-align: right;\">\n",
              "      <th></th>\n",
              "      <th>U.S. State</th>\n",
              "      <th>Size (mi)</th>\n",
              "      <th>Number of U.S. Representatives</th>\n",
              "    </tr>\n",
              "  </thead>\n",
              "  <tbody>\n",
              "    <tr>\n",
              "      <th>0</th>\n",
              "      <td>Alabama</td>\n",
              "      <td>52420</td>\n",
              "      <td>7</td>\n",
              "    </tr>\n",
              "    <tr>\n",
              "      <th>1</th>\n",
              "      <td>Alaska</td>\n",
              "      <td>665384</td>\n",
              "      <td>1</td>\n",
              "    </tr>\n",
              "    <tr>\n",
              "      <th>2</th>\n",
              "      <td>Arizona</td>\n",
              "      <td>113990</td>\n",
              "      <td>9</td>\n",
              "    </tr>\n",
              "    <tr>\n",
              "      <th>3</th>\n",
              "      <td>Arkansas</td>\n",
              "      <td>53178</td>\n",
              "      <td>4</td>\n",
              "    </tr>\n",
              "    <tr>\n",
              "      <th>4</th>\n",
              "      <td>California</td>\n",
              "      <td>163695</td>\n",
              "      <td>53</td>\n",
              "    </tr>\n",
              "    <tr>\n",
              "      <th>5</th>\n",
              "      <td>Colorado</td>\n",
              "      <td>104094</td>\n",
              "      <td>7</td>\n",
              "    </tr>\n",
              "    <tr>\n",
              "      <th>6</th>\n",
              "      <td>Connecticut</td>\n",
              "      <td>5543</td>\n",
              "      <td>5</td>\n",
              "    </tr>\n",
              "    <tr>\n",
              "      <th>7</th>\n",
              "      <td>Delaware</td>\n",
              "      <td>2489</td>\n",
              "      <td>1</td>\n",
              "    </tr>\n",
              "    <tr>\n",
              "      <th>8</th>\n",
              "      <td>Florida</td>\n",
              "      <td>65758</td>\n",
              "      <td>27</td>\n",
              "    </tr>\n",
              "    <tr>\n",
              "      <th>9</th>\n",
              "      <td>Georgia</td>\n",
              "      <td>59425</td>\n",
              "      <td>14</td>\n",
              "    </tr>\n",
              "  </tbody>\n",
              "</table>\n",
              "</div>\n",
              "      <button class=\"colab-df-convert\" onclick=\"convertToInteractive('df-13617a17-c4cc-4216-a995-b3902c4200f6')\"\n",
              "              title=\"Convert this dataframe to an interactive table.\"\n",
              "              style=\"display:none;\">\n",
              "        \n",
              "  <svg xmlns=\"http://www.w3.org/2000/svg\" height=\"24px\"viewBox=\"0 0 24 24\"\n",
              "       width=\"24px\">\n",
              "    <path d=\"M0 0h24v24H0V0z\" fill=\"none\"/>\n",
              "    <path d=\"M18.56 5.44l.94 2.06.94-2.06 2.06-.94-2.06-.94-.94-2.06-.94 2.06-2.06.94zm-11 1L8.5 8.5l.94-2.06 2.06-.94-2.06-.94L8.5 2.5l-.94 2.06-2.06.94zm10 10l.94 2.06.94-2.06 2.06-.94-2.06-.94-.94-2.06-.94 2.06-2.06.94z\"/><path d=\"M17.41 7.96l-1.37-1.37c-.4-.4-.92-.59-1.43-.59-.52 0-1.04.2-1.43.59L10.3 9.45l-7.72 7.72c-.78.78-.78 2.05 0 2.83L4 21.41c.39.39.9.59 1.41.59.51 0 1.02-.2 1.41-.59l7.78-7.78 2.81-2.81c.8-.78.8-2.07 0-2.86zM5.41 20L4 18.59l7.72-7.72 1.47 1.35L5.41 20z\"/>\n",
              "  </svg>\n",
              "      </button>\n",
              "      \n",
              "  <style>\n",
              "    .colab-df-container {\n",
              "      display:flex;\n",
              "      flex-wrap:wrap;\n",
              "      gap: 12px;\n",
              "    }\n",
              "\n",
              "    .colab-df-convert {\n",
              "      background-color: #E8F0FE;\n",
              "      border: none;\n",
              "      border-radius: 50%;\n",
              "      cursor: pointer;\n",
              "      display: none;\n",
              "      fill: #1967D2;\n",
              "      height: 32px;\n",
              "      padding: 0 0 0 0;\n",
              "      width: 32px;\n",
              "    }\n",
              "\n",
              "    .colab-df-convert:hover {\n",
              "      background-color: #E2EBFA;\n",
              "      box-shadow: 0px 1px 2px rgba(60, 64, 67, 0.3), 0px 1px 3px 1px rgba(60, 64, 67, 0.15);\n",
              "      fill: #174EA6;\n",
              "    }\n",
              "\n",
              "    [theme=dark] .colab-df-convert {\n",
              "      background-color: #3B4455;\n",
              "      fill: #D2E3FC;\n",
              "    }\n",
              "\n",
              "    [theme=dark] .colab-df-convert:hover {\n",
              "      background-color: #434B5C;\n",
              "      box-shadow: 0px 1px 3px 1px rgba(0, 0, 0, 0.15);\n",
              "      filter: drop-shadow(0px 1px 2px rgba(0, 0, 0, 0.3));\n",
              "      fill: #FFFFFF;\n",
              "    }\n",
              "  </style>\n",
              "\n",
              "      <script>\n",
              "        const buttonEl =\n",
              "          document.querySelector('#df-13617a17-c4cc-4216-a995-b3902c4200f6 button.colab-df-convert');\n",
              "        buttonEl.style.display =\n",
              "          google.colab.kernel.accessAllowed ? 'block' : 'none';\n",
              "\n",
              "        async function convertToInteractive(key) {\n",
              "          const element = document.querySelector('#df-13617a17-c4cc-4216-a995-b3902c4200f6');\n",
              "          const dataTable =\n",
              "            await google.colab.kernel.invokeFunction('convertToInteractive',\n",
              "                                                     [key], {});\n",
              "          if (!dataTable) return;\n",
              "\n",
              "          const docLinkHtml = 'Like what you see? Visit the ' +\n",
              "            '<a target=\"_blank\" href=https://colab.research.google.com/notebooks/data_table.ipynb>data table notebook</a>'\n",
              "            + ' to learn more about interactive tables.';\n",
              "          element.innerHTML = '';\n",
              "          dataTable['output_type'] = 'display_data';\n",
              "          await google.colab.output.renderOutput(dataTable, element);\n",
              "          const docLink = document.createElement('div');\n",
              "          docLink.innerHTML = docLinkHtml;\n",
              "          element.appendChild(docLink);\n",
              "        }\n",
              "      </script>\n",
              "    </div>\n",
              "  </div>\n",
              "  "
            ]
          },
          "metadata": {},
          "execution_count": 3
        }
      ]
    },
    {
      "cell_type": "markdown",
      "source": [
        "#### **Exercise 1:** How many variables are there?"
      ],
      "metadata": {
        "id": "16qhiHllBKX_"
      }
    },
    {
      "cell_type": "code",
      "source": [
        "len(df.columns)"
      ],
      "metadata": {
        "id": "yeCXPmd-BOoE",
        "colab": {
          "base_uri": "https://localhost:8080/"
        },
        "outputId": "c6c0d974-b46f-4190-8627-135440f0e901"
      },
      "execution_count": null,
      "outputs": [
        {
          "output_type": "execute_result",
          "data": {
            "text/plain": [
              "3"
            ]
          },
          "metadata": {},
          "execution_count": 7
        }
      ]
    },
    {
      "cell_type": "markdown",
      "source": [
        "#### **Exercise 2:** What is the data type of `U.S. State`?"
      ],
      "metadata": {
        "id": "pkUHM248BnAt"
      }
    },
    {
      "cell_type": "code",
      "source": [
        "df[\"U.S. State\"].describe"
      ],
      "metadata": {
        "id": "cuwh0LefBvHv",
        "colab": {
          "base_uri": "https://localhost:8080/"
        },
        "outputId": "c0864b92-b308-4d2f-e2c3-91c2fe5af214"
      },
      "execution_count": null,
      "outputs": [
        {
          "output_type": "execute_result",
          "data": {
            "text/plain": [
              "<bound method NDFrame.describe of 0        Alabama\n",
              "1         Alaska\n",
              "2        Arizona\n",
              "3       Arkansas\n",
              "4     California\n",
              "5       Colorado\n",
              "6    Connecticut\n",
              "7       Delaware\n",
              "8        Florida\n",
              "9        Georgia\n",
              "Name: U.S. State, dtype: object>"
            ]
          },
          "metadata": {},
          "execution_count": 22
        }
      ]
    },
    {
      "cell_type": "markdown",
      "source": [
        "#### **Exercise 3:** What is the mean of the variable `Size`?"
      ],
      "metadata": {
        "id": "J9Z1HhDfB465"
      }
    },
    {
      "cell_type": "code",
      "source": [
        "df['Size (mi)'].mean()"
      ],
      "metadata": {
        "id": "-xRVldNzCDvu",
        "colab": {
          "base_uri": "https://localhost:8080/"
        },
        "outputId": "202fd840-34ed-47a4-8e69-d34168131808"
      },
      "execution_count": null,
      "outputs": [
        {
          "output_type": "execute_result",
          "data": {
            "text/plain": [
              "128597.6"
            ]
          },
          "metadata": {},
          "execution_count": 9
        }
      ]
    },
    {
      "cell_type": "markdown",
      "source": [
        "#### **Exercise 4:** What is the average number of U.S. House of Representatives that each state has?"
      ],
      "metadata": {
        "id": "0VpfZbG9B_FS"
      }
    },
    {
      "cell_type": "code",
      "source": [
        "df[\"Number of U.S. Representatives\"].mean()"
      ],
      "metadata": {
        "id": "CJvbQ1LSC2W0",
        "colab": {
          "base_uri": "https://localhost:8080/"
        },
        "outputId": "a826a9ff-e8c2-41aa-a9b9-58cc7c22de4a"
      },
      "execution_count": null,
      "outputs": [
        {
          "output_type": "execute_result",
          "data": {
            "text/plain": [
              "12.8"
            ]
          },
          "metadata": {},
          "execution_count": 23
        }
      ]
    },
    {
      "cell_type": "markdown",
      "source": [
        "## **Dataset #2**\n",
        "---"
      ],
      "metadata": {
        "id": "-h1OOAijFERg"
      }
    },
    {
      "cell_type": "markdown",
      "source": [
        "This DataFrame loads data from the NBA including the game matchups, location, all shots taken, when on the shot clock they were taken, whether the shot was a make or a miss, the shooter, the closest defender, and more.\n",
        "\n",
        "Each row represents a possesion prior to a shot."
      ],
      "metadata": {
        "id": "BrteBaWdapzH"
      }
    },
    {
      "cell_type": "code",
      "source": [
        "#load CSV\n",
        "url = \"https://raw.githubusercontent.com/the-codingschool/datascience/master/Unit%202/shot_logs.csv\"\n",
        "basketball_df = pd.read_csv(url)\n",
        "basketball_df"
      ],
      "metadata": {
        "id": "DhYnVlIHaqSH",
        "colab": {
          "base_uri": "https://localhost:8080/",
          "height": 993
        },
        "outputId": "dd6b6ce9-d0de-49b6-f855-9f300bcb6e68"
      },
      "execution_count": null,
      "outputs": [
        {
          "output_type": "execute_result",
          "data": {
            "text/plain": [
              "         GAME_ID                   MATCHUP LOCATION  W  FINAL_MARGIN  \\\n",
              "0       21400899  MAR 04, 2015 - CHA @ BKN        A  W            24   \n",
              "1       21400899  MAR 04, 2015 - CHA @ BKN        A  W            24   \n",
              "2       21400899  MAR 04, 2015 - CHA @ BKN        A  W            24   \n",
              "3       21400899  MAR 04, 2015 - CHA @ BKN        A  W            24   \n",
              "4       21400899  MAR 04, 2015 - CHA @ BKN        A  W            24   \n",
              "...          ...                       ...      ... ..           ...   \n",
              "128064  21400006  OCT 29, 2014 - BKN @ BOS        A  L           -16   \n",
              "128065  21400006  OCT 29, 2014 - BKN @ BOS        A  L           -16   \n",
              "128066  21400006  OCT 29, 2014 - BKN @ BOS        A  L           -16   \n",
              "128067  21400006  OCT 29, 2014 - BKN @ BOS        A  L           -16   \n",
              "128068  21400006  OCT 29, 2014 - BKN @ BOS        A  L           -16   \n",
              "\n",
              "        SHOT_NUMBER  PERIOD GAME_CLOCK  SHOT_CLOCK  DRIBBLES  ...  SHOT_DIST  \\\n",
              "0                 1       1       1:09        10.8         2  ...        7.7   \n",
              "1                 2       1       0:14         3.4         0  ...       28.2   \n",
              "2                 3       1       0:00         NaN         3  ...       10.1   \n",
              "3                 4       2      11:47        10.3         2  ...       17.2   \n",
              "4                 5       2      10:34        10.9         2  ...        3.7   \n",
              "...             ...     ...        ...         ...       ...  ...        ...   \n",
              "128064            5       3       1:52        18.3         5  ...        8.7   \n",
              "128065            6       4      11:28        19.8         4  ...        0.6   \n",
              "128066            7       4      11:10        23.0         2  ...       16.9   \n",
              "128067            8       4       2:37         9.1         4  ...       18.3   \n",
              "128068            9       4       0:12         NaN         5  ...        5.1   \n",
              "\n",
              "        PTS_TYPE  SHOT_RESULT   CLOSEST_DEFENDER CLOSEST_DEFENDER_PLAYER_ID  \\\n",
              "0              2         made     Anderson, Alan                     101187   \n",
              "1              3       missed  Bogdanovic, Bojan                     202711   \n",
              "2              2       missed  Bogdanovic, Bojan                     202711   \n",
              "3              2       missed      Brown, Markel                     203900   \n",
              "4              2       missed    Young, Thaddeus                     201152   \n",
              "...          ...          ...                ...                        ...   \n",
              "128064         2       missed      Smart, Marcus                     203935   \n",
              "128065         2         made       Turner, Evan                     202323   \n",
              "128066         2         made   Thornton, Marcus                     201977   \n",
              "128067         2       missed     Bradley, Avery                     202340   \n",
              "128068         2         made     Bradley, Avery                     202340   \n",
              "\n",
              "        CLOSE_DEF_DIST  FGM  PTS    player_name player_id  \n",
              "0                  1.3    1    2  brian roberts    203148  \n",
              "1                  6.1    0    0  brian roberts    203148  \n",
              "2                  0.9    0    0  brian roberts    203148  \n",
              "3                  3.4    0    0  brian roberts    203148  \n",
              "4                  1.1    0    0  brian roberts    203148  \n",
              "...                ...  ...  ...            ...       ...  \n",
              "128064             0.8    0    0   jarrett jack    101127  \n",
              "128065             0.6    1    2   jarrett jack    101127  \n",
              "128066             4.2    1    2   jarrett jack    101127  \n",
              "128067             3.0    0    0   jarrett jack    101127  \n",
              "128068             2.3    1    2   jarrett jack    101127  \n",
              "\n",
              "[128069 rows x 21 columns]"
            ],
            "text/html": [
              "\n",
              "  <div id=\"df-c6fac936-5d5a-46a2-b9d7-bd4e9b4d0d6c\">\n",
              "    <div class=\"colab-df-container\">\n",
              "      <div>\n",
              "<style scoped>\n",
              "    .dataframe tbody tr th:only-of-type {\n",
              "        vertical-align: middle;\n",
              "    }\n",
              "\n",
              "    .dataframe tbody tr th {\n",
              "        vertical-align: top;\n",
              "    }\n",
              "\n",
              "    .dataframe thead th {\n",
              "        text-align: right;\n",
              "    }\n",
              "</style>\n",
              "<table border=\"1\" class=\"dataframe\">\n",
              "  <thead>\n",
              "    <tr style=\"text-align: right;\">\n",
              "      <th></th>\n",
              "      <th>GAME_ID</th>\n",
              "      <th>MATCHUP</th>\n",
              "      <th>LOCATION</th>\n",
              "      <th>W</th>\n",
              "      <th>FINAL_MARGIN</th>\n",
              "      <th>SHOT_NUMBER</th>\n",
              "      <th>PERIOD</th>\n",
              "      <th>GAME_CLOCK</th>\n",
              "      <th>SHOT_CLOCK</th>\n",
              "      <th>DRIBBLES</th>\n",
              "      <th>...</th>\n",
              "      <th>SHOT_DIST</th>\n",
              "      <th>PTS_TYPE</th>\n",
              "      <th>SHOT_RESULT</th>\n",
              "      <th>CLOSEST_DEFENDER</th>\n",
              "      <th>CLOSEST_DEFENDER_PLAYER_ID</th>\n",
              "      <th>CLOSE_DEF_DIST</th>\n",
              "      <th>FGM</th>\n",
              "      <th>PTS</th>\n",
              "      <th>player_name</th>\n",
              "      <th>player_id</th>\n",
              "    </tr>\n",
              "  </thead>\n",
              "  <tbody>\n",
              "    <tr>\n",
              "      <th>0</th>\n",
              "      <td>21400899</td>\n",
              "      <td>MAR 04, 2015 - CHA @ BKN</td>\n",
              "      <td>A</td>\n",
              "      <td>W</td>\n",
              "      <td>24</td>\n",
              "      <td>1</td>\n",
              "      <td>1</td>\n",
              "      <td>1:09</td>\n",
              "      <td>10.8</td>\n",
              "      <td>2</td>\n",
              "      <td>...</td>\n",
              "      <td>7.7</td>\n",
              "      <td>2</td>\n",
              "      <td>made</td>\n",
              "      <td>Anderson, Alan</td>\n",
              "      <td>101187</td>\n",
              "      <td>1.3</td>\n",
              "      <td>1</td>\n",
              "      <td>2</td>\n",
              "      <td>brian roberts</td>\n",
              "      <td>203148</td>\n",
              "    </tr>\n",
              "    <tr>\n",
              "      <th>1</th>\n",
              "      <td>21400899</td>\n",
              "      <td>MAR 04, 2015 - CHA @ BKN</td>\n",
              "      <td>A</td>\n",
              "      <td>W</td>\n",
              "      <td>24</td>\n",
              "      <td>2</td>\n",
              "      <td>1</td>\n",
              "      <td>0:14</td>\n",
              "      <td>3.4</td>\n",
              "      <td>0</td>\n",
              "      <td>...</td>\n",
              "      <td>28.2</td>\n",
              "      <td>3</td>\n",
              "      <td>missed</td>\n",
              "      <td>Bogdanovic, Bojan</td>\n",
              "      <td>202711</td>\n",
              "      <td>6.1</td>\n",
              "      <td>0</td>\n",
              "      <td>0</td>\n",
              "      <td>brian roberts</td>\n",
              "      <td>203148</td>\n",
              "    </tr>\n",
              "    <tr>\n",
              "      <th>2</th>\n",
              "      <td>21400899</td>\n",
              "      <td>MAR 04, 2015 - CHA @ BKN</td>\n",
              "      <td>A</td>\n",
              "      <td>W</td>\n",
              "      <td>24</td>\n",
              "      <td>3</td>\n",
              "      <td>1</td>\n",
              "      <td>0:00</td>\n",
              "      <td>NaN</td>\n",
              "      <td>3</td>\n",
              "      <td>...</td>\n",
              "      <td>10.1</td>\n",
              "      <td>2</td>\n",
              "      <td>missed</td>\n",
              "      <td>Bogdanovic, Bojan</td>\n",
              "      <td>202711</td>\n",
              "      <td>0.9</td>\n",
              "      <td>0</td>\n",
              "      <td>0</td>\n",
              "      <td>brian roberts</td>\n",
              "      <td>203148</td>\n",
              "    </tr>\n",
              "    <tr>\n",
              "      <th>3</th>\n",
              "      <td>21400899</td>\n",
              "      <td>MAR 04, 2015 - CHA @ BKN</td>\n",
              "      <td>A</td>\n",
              "      <td>W</td>\n",
              "      <td>24</td>\n",
              "      <td>4</td>\n",
              "      <td>2</td>\n",
              "      <td>11:47</td>\n",
              "      <td>10.3</td>\n",
              "      <td>2</td>\n",
              "      <td>...</td>\n",
              "      <td>17.2</td>\n",
              "      <td>2</td>\n",
              "      <td>missed</td>\n",
              "      <td>Brown, Markel</td>\n",
              "      <td>203900</td>\n",
              "      <td>3.4</td>\n",
              "      <td>0</td>\n",
              "      <td>0</td>\n",
              "      <td>brian roberts</td>\n",
              "      <td>203148</td>\n",
              "    </tr>\n",
              "    <tr>\n",
              "      <th>4</th>\n",
              "      <td>21400899</td>\n",
              "      <td>MAR 04, 2015 - CHA @ BKN</td>\n",
              "      <td>A</td>\n",
              "      <td>W</td>\n",
              "      <td>24</td>\n",
              "      <td>5</td>\n",
              "      <td>2</td>\n",
              "      <td>10:34</td>\n",
              "      <td>10.9</td>\n",
              "      <td>2</td>\n",
              "      <td>...</td>\n",
              "      <td>3.7</td>\n",
              "      <td>2</td>\n",
              "      <td>missed</td>\n",
              "      <td>Young, Thaddeus</td>\n",
              "      <td>201152</td>\n",
              "      <td>1.1</td>\n",
              "      <td>0</td>\n",
              "      <td>0</td>\n",
              "      <td>brian roberts</td>\n",
              "      <td>203148</td>\n",
              "    </tr>\n",
              "    <tr>\n",
              "      <th>...</th>\n",
              "      <td>...</td>\n",
              "      <td>...</td>\n",
              "      <td>...</td>\n",
              "      <td>...</td>\n",
              "      <td>...</td>\n",
              "      <td>...</td>\n",
              "      <td>...</td>\n",
              "      <td>...</td>\n",
              "      <td>...</td>\n",
              "      <td>...</td>\n",
              "      <td>...</td>\n",
              "      <td>...</td>\n",
              "      <td>...</td>\n",
              "      <td>...</td>\n",
              "      <td>...</td>\n",
              "      <td>...</td>\n",
              "      <td>...</td>\n",
              "      <td>...</td>\n",
              "      <td>...</td>\n",
              "      <td>...</td>\n",
              "      <td>...</td>\n",
              "    </tr>\n",
              "    <tr>\n",
              "      <th>128064</th>\n",
              "      <td>21400006</td>\n",
              "      <td>OCT 29, 2014 - BKN @ BOS</td>\n",
              "      <td>A</td>\n",
              "      <td>L</td>\n",
              "      <td>-16</td>\n",
              "      <td>5</td>\n",
              "      <td>3</td>\n",
              "      <td>1:52</td>\n",
              "      <td>18.3</td>\n",
              "      <td>5</td>\n",
              "      <td>...</td>\n",
              "      <td>8.7</td>\n",
              "      <td>2</td>\n",
              "      <td>missed</td>\n",
              "      <td>Smart, Marcus</td>\n",
              "      <td>203935</td>\n",
              "      <td>0.8</td>\n",
              "      <td>0</td>\n",
              "      <td>0</td>\n",
              "      <td>jarrett jack</td>\n",
              "      <td>101127</td>\n",
              "    </tr>\n",
              "    <tr>\n",
              "      <th>128065</th>\n",
              "      <td>21400006</td>\n",
              "      <td>OCT 29, 2014 - BKN @ BOS</td>\n",
              "      <td>A</td>\n",
              "      <td>L</td>\n",
              "      <td>-16</td>\n",
              "      <td>6</td>\n",
              "      <td>4</td>\n",
              "      <td>11:28</td>\n",
              "      <td>19.8</td>\n",
              "      <td>4</td>\n",
              "      <td>...</td>\n",
              "      <td>0.6</td>\n",
              "      <td>2</td>\n",
              "      <td>made</td>\n",
              "      <td>Turner, Evan</td>\n",
              "      <td>202323</td>\n",
              "      <td>0.6</td>\n",
              "      <td>1</td>\n",
              "      <td>2</td>\n",
              "      <td>jarrett jack</td>\n",
              "      <td>101127</td>\n",
              "    </tr>\n",
              "    <tr>\n",
              "      <th>128066</th>\n",
              "      <td>21400006</td>\n",
              "      <td>OCT 29, 2014 - BKN @ BOS</td>\n",
              "      <td>A</td>\n",
              "      <td>L</td>\n",
              "      <td>-16</td>\n",
              "      <td>7</td>\n",
              "      <td>4</td>\n",
              "      <td>11:10</td>\n",
              "      <td>23.0</td>\n",
              "      <td>2</td>\n",
              "      <td>...</td>\n",
              "      <td>16.9</td>\n",
              "      <td>2</td>\n",
              "      <td>made</td>\n",
              "      <td>Thornton, Marcus</td>\n",
              "      <td>201977</td>\n",
              "      <td>4.2</td>\n",
              "      <td>1</td>\n",
              "      <td>2</td>\n",
              "      <td>jarrett jack</td>\n",
              "      <td>101127</td>\n",
              "    </tr>\n",
              "    <tr>\n",
              "      <th>128067</th>\n",
              "      <td>21400006</td>\n",
              "      <td>OCT 29, 2014 - BKN @ BOS</td>\n",
              "      <td>A</td>\n",
              "      <td>L</td>\n",
              "      <td>-16</td>\n",
              "      <td>8</td>\n",
              "      <td>4</td>\n",
              "      <td>2:37</td>\n",
              "      <td>9.1</td>\n",
              "      <td>4</td>\n",
              "      <td>...</td>\n",
              "      <td>18.3</td>\n",
              "      <td>2</td>\n",
              "      <td>missed</td>\n",
              "      <td>Bradley, Avery</td>\n",
              "      <td>202340</td>\n",
              "      <td>3.0</td>\n",
              "      <td>0</td>\n",
              "      <td>0</td>\n",
              "      <td>jarrett jack</td>\n",
              "      <td>101127</td>\n",
              "    </tr>\n",
              "    <tr>\n",
              "      <th>128068</th>\n",
              "      <td>21400006</td>\n",
              "      <td>OCT 29, 2014 - BKN @ BOS</td>\n",
              "      <td>A</td>\n",
              "      <td>L</td>\n",
              "      <td>-16</td>\n",
              "      <td>9</td>\n",
              "      <td>4</td>\n",
              "      <td>0:12</td>\n",
              "      <td>NaN</td>\n",
              "      <td>5</td>\n",
              "      <td>...</td>\n",
              "      <td>5.1</td>\n",
              "      <td>2</td>\n",
              "      <td>made</td>\n",
              "      <td>Bradley, Avery</td>\n",
              "      <td>202340</td>\n",
              "      <td>2.3</td>\n",
              "      <td>1</td>\n",
              "      <td>2</td>\n",
              "      <td>jarrett jack</td>\n",
              "      <td>101127</td>\n",
              "    </tr>\n",
              "  </tbody>\n",
              "</table>\n",
              "<p>128069 rows × 21 columns</p>\n",
              "</div>\n",
              "      <button class=\"colab-df-convert\" onclick=\"convertToInteractive('df-c6fac936-5d5a-46a2-b9d7-bd4e9b4d0d6c')\"\n",
              "              title=\"Convert this dataframe to an interactive table.\"\n",
              "              style=\"display:none;\">\n",
              "        \n",
              "  <svg xmlns=\"http://www.w3.org/2000/svg\" height=\"24px\"viewBox=\"0 0 24 24\"\n",
              "       width=\"24px\">\n",
              "    <path d=\"M0 0h24v24H0V0z\" fill=\"none\"/>\n",
              "    <path d=\"M18.56 5.44l.94 2.06.94-2.06 2.06-.94-2.06-.94-.94-2.06-.94 2.06-2.06.94zm-11 1L8.5 8.5l.94-2.06 2.06-.94-2.06-.94L8.5 2.5l-.94 2.06-2.06.94zm10 10l.94 2.06.94-2.06 2.06-.94-2.06-.94-.94-2.06-.94 2.06-2.06.94z\"/><path d=\"M17.41 7.96l-1.37-1.37c-.4-.4-.92-.59-1.43-.59-.52 0-1.04.2-1.43.59L10.3 9.45l-7.72 7.72c-.78.78-.78 2.05 0 2.83L4 21.41c.39.39.9.59 1.41.59.51 0 1.02-.2 1.41-.59l7.78-7.78 2.81-2.81c.8-.78.8-2.07 0-2.86zM5.41 20L4 18.59l7.72-7.72 1.47 1.35L5.41 20z\"/>\n",
              "  </svg>\n",
              "      </button>\n",
              "      \n",
              "  <style>\n",
              "    .colab-df-container {\n",
              "      display:flex;\n",
              "      flex-wrap:wrap;\n",
              "      gap: 12px;\n",
              "    }\n",
              "\n",
              "    .colab-df-convert {\n",
              "      background-color: #E8F0FE;\n",
              "      border: none;\n",
              "      border-radius: 50%;\n",
              "      cursor: pointer;\n",
              "      display: none;\n",
              "      fill: #1967D2;\n",
              "      height: 32px;\n",
              "      padding: 0 0 0 0;\n",
              "      width: 32px;\n",
              "    }\n",
              "\n",
              "    .colab-df-convert:hover {\n",
              "      background-color: #E2EBFA;\n",
              "      box-shadow: 0px 1px 2px rgba(60, 64, 67, 0.3), 0px 1px 3px 1px rgba(60, 64, 67, 0.15);\n",
              "      fill: #174EA6;\n",
              "    }\n",
              "\n",
              "    [theme=dark] .colab-df-convert {\n",
              "      background-color: #3B4455;\n",
              "      fill: #D2E3FC;\n",
              "    }\n",
              "\n",
              "    [theme=dark] .colab-df-convert:hover {\n",
              "      background-color: #434B5C;\n",
              "      box-shadow: 0px 1px 3px 1px rgba(0, 0, 0, 0.15);\n",
              "      filter: drop-shadow(0px 1px 2px rgba(0, 0, 0, 0.3));\n",
              "      fill: #FFFFFF;\n",
              "    }\n",
              "  </style>\n",
              "\n",
              "      <script>\n",
              "        const buttonEl =\n",
              "          document.querySelector('#df-c6fac936-5d5a-46a2-b9d7-bd4e9b4d0d6c button.colab-df-convert');\n",
              "        buttonEl.style.display =\n",
              "          google.colab.kernel.accessAllowed ? 'block' : 'none';\n",
              "\n",
              "        async function convertToInteractive(key) {\n",
              "          const element = document.querySelector('#df-c6fac936-5d5a-46a2-b9d7-bd4e9b4d0d6c');\n",
              "          const dataTable =\n",
              "            await google.colab.kernel.invokeFunction('convertToInteractive',\n",
              "                                                     [key], {});\n",
              "          if (!dataTable) return;\n",
              "\n",
              "          const docLinkHtml = 'Like what you see? Visit the ' +\n",
              "            '<a target=\"_blank\" href=https://colab.research.google.com/notebooks/data_table.ipynb>data table notebook</a>'\n",
              "            + ' to learn more about interactive tables.';\n",
              "          element.innerHTML = '';\n",
              "          dataTable['output_type'] = 'display_data';\n",
              "          await google.colab.output.renderOutput(dataTable, element);\n",
              "          const docLink = document.createElement('div');\n",
              "          docLink.innerHTML = docLinkHtml;\n",
              "          element.appendChild(docLink);\n",
              "        }\n",
              "      </script>\n",
              "    </div>\n",
              "  </div>\n",
              "  "
            ]
          },
          "metadata": {},
          "execution_count": 32
        }
      ]
    },
    {
      "cell_type": "markdown",
      "source": [
        "#### **Problem #1**. How many rows are there? Print the shape of the DataFrame."
      ],
      "metadata": {
        "id": "U9cnTF7Pawiq"
      }
    },
    {
      "cell_type": "code",
      "source": [
        "len(basketball_df.head())"
      ],
      "metadata": {
        "colab": {
          "base_uri": "https://localhost:8080/"
        },
        "id": "w4F7FdkFXpXR",
        "outputId": "47a1c1a3-45b5-4879-9351-bb5f34bc72f0"
      },
      "execution_count": null,
      "outputs": [
        {
          "output_type": "execute_result",
          "data": {
            "text/plain": [
              "5"
            ]
          },
          "metadata": {},
          "execution_count": 57
        }
      ]
    },
    {
      "cell_type": "markdown",
      "source": [
        "#### **Problem #2**. What is the datatype of `DRIBBLES`?"
      ],
      "metadata": {
        "id": "4DBbfXiMa12O"
      }
    },
    {
      "cell_type": "code",
      "source": [
        "basketball_df.info()"
      ],
      "metadata": {
        "id": "z6hYZ0Dv__oY",
        "colab": {
          "base_uri": "https://localhost:8080/"
        },
        "outputId": "34a0ecfe-79b9-44e0-8932-f65290107a45"
      },
      "execution_count": null,
      "outputs": [
        {
          "output_type": "stream",
          "name": "stdout",
          "text": [
            "<class 'pandas.core.frame.DataFrame'>\n",
            "RangeIndex: 128069 entries, 0 to 128068\n",
            "Data columns (total 21 columns):\n",
            " #   Column                      Non-Null Count   Dtype  \n",
            "---  ------                      --------------   -----  \n",
            " 0   GAME_ID                     128069 non-null  int64  \n",
            " 1   MATCHUP                     128069 non-null  object \n",
            " 2   LOCATION                    128069 non-null  object \n",
            " 3   W                           128069 non-null  object \n",
            " 4   FINAL_MARGIN                128069 non-null  int64  \n",
            " 5   SHOT_NUMBER                 128069 non-null  int64  \n",
            " 6   PERIOD                      128069 non-null  int64  \n",
            " 7   GAME_CLOCK                  128069 non-null  object \n",
            " 8   SHOT_CLOCK                  122502 non-null  float64\n",
            " 9   DRIBBLES                    128069 non-null  int64  \n",
            " 10  TOUCH_TIME                  128069 non-null  float64\n",
            " 11  SHOT_DIST                   128069 non-null  float64\n",
            " 12  PTS_TYPE                    128069 non-null  int64  \n",
            " 13  SHOT_RESULT                 128069 non-null  object \n",
            " 14  CLOSEST_DEFENDER            128069 non-null  object \n",
            " 15  CLOSEST_DEFENDER_PLAYER_ID  128069 non-null  int64  \n",
            " 16  CLOSE_DEF_DIST              128069 non-null  float64\n",
            " 17  FGM                         128069 non-null  int64  \n",
            " 18  PTS                         128069 non-null  int64  \n",
            " 19  player_name                 128069 non-null  object \n",
            " 20  player_id                   128069 non-null  int64  \n",
            "dtypes: float64(4), int64(10), object(7)\n",
            "memory usage: 20.5+ MB\n"
          ]
        }
      ]
    },
    {
      "cell_type": "markdown",
      "source": [
        "#### **Problem #3**: What are the mean number of dribbles per possesion? Use `DRIBBLES` as the feature."
      ],
      "metadata": {
        "id": "_UKSAp2WK2wA"
      }
    },
    {
      "cell_type": "code",
      "source": [
        "basketball_df['DRIBBLES'].mean()"
      ],
      "metadata": {
        "id": "0N3u3dXwMT4R",
        "colab": {
          "base_uri": "https://localhost:8080/"
        },
        "outputId": "0566033d-2359-450f-99c1-4f6bc371c672"
      },
      "execution_count": null,
      "outputs": [
        {
          "output_type": "execute_result",
          "data": {
            "text/plain": [
              "2.023354597912063"
            ]
          },
          "metadata": {},
          "execution_count": 42
        }
      ]
    },
    {
      "cell_type": "markdown",
      "source": [
        "#### **Problem #4**: Examine the value counts of the `player_name` column."
      ],
      "metadata": {
        "id": "YCNwGr_YLuw9"
      }
    },
    {
      "cell_type": "code",
      "source": [
        "basketball_df['player_name'].value_counts()"
      ],
      "metadata": {
        "id": "IqZ_xrJoKhKu",
        "colab": {
          "base_uri": "https://localhost:8080/"
        },
        "outputId": "2a968dce-dd60-43b8-858e-899307e880c0"
      },
      "execution_count": null,
      "outputs": [
        {
          "output_type": "execute_result",
          "data": {
            "text/plain": [
              "james harden         1054\n",
              "mnta ellis           1052\n",
              "lamarcus aldridge    1050\n",
              "damian lillard        986\n",
              "lebron james          978\n",
              "                     ... \n",
              "alan crabbe            94\n",
              "mike miller            94\n",
              "joey dorsey            93\n",
              "jerome jordan          88\n",
              "greg smith             47\n",
              "Name: player_name, Length: 281, dtype: int64"
            ]
          },
          "metadata": {},
          "execution_count": 63
        }
      ]
    },
    {
      "cell_type": "markdown",
      "source": [
        "#### **Problem #5**: Which player had the ball on the 1000th possession?"
      ],
      "metadata": {
        "id": "HIabEM5INlyZ"
      }
    },
    {
      "cell_type": "code",
      "source": [
        "basketball_df['player_name'][1001]"
      ],
      "metadata": {
        "id": "XsX6iDY1N6KE",
        "colab": {
          "base_uri": "https://localhost:8080/",
          "height": 38
        },
        "outputId": "bd8a0381-f5d9-4057-fd18-b22b1f6512dd"
      },
      "execution_count": null,
      "outputs": [
        {
          "output_type": "execute_result",
          "data": {
            "text/plain": [
              "'al jefferson'"
            ],
            "application/vnd.google.colaboratory.intrinsic+json": {
              "type": "string"
            }
          },
          "metadata": {},
          "execution_count": 67
        }
      ]
    },
    {
      "cell_type": "markdown",
      "source": [
        "#### **Problem #6**: Were more shots made or missed by players? Use the feature `SHOT_RESULT`."
      ],
      "metadata": {
        "id": "lGceH2GUGtEK"
      }
    },
    {
      "cell_type": "code",
      "source": [
        "basketball_df['SHOT_RESULT'].describe()"
      ],
      "metadata": {
        "id": "tq6MajW9Gvdi",
        "colab": {
          "base_uri": "https://localhost:8080/"
        },
        "outputId": "eb0bb231-1344-475e-a323-5b1037bda15a"
      },
      "execution_count": null,
      "outputs": [
        {
          "output_type": "execute_result",
          "data": {
            "text/plain": [
              "count     128069\n",
              "unique         2\n",
              "top       missed\n",
              "freq       70164\n",
              "Name: SHOT_RESULT, dtype: object"
            ]
          },
          "metadata": {},
          "execution_count": 74
        }
      ]
    },
    {
      "cell_type": "markdown",
      "source": [
        "#### **Problem #7:** What was the median for the final margin in each basketball game? Use the feature `final_margin`."
      ],
      "metadata": {
        "id": "lKPLyGX9HeO-"
      }
    },
    {
      "cell_type": "code",
      "source": [
        "basketball_df['FINAL_MARGIN'].median()"
      ],
      "metadata": {
        "id": "cnx4dC80H9Zi",
        "colab": {
          "base_uri": "https://localhost:8080/"
        },
        "outputId": "5f6b5307-3b0f-4950-b3e4-f835c9dba64c"
      },
      "execution_count": null,
      "outputs": [
        {
          "output_type": "execute_result",
          "data": {
            "text/plain": [
              "1.0"
            ]
          },
          "metadata": {},
          "execution_count": 75
        }
      ]
    },
    {
      "cell_type": "markdown",
      "source": [
        "### **Dataset #3**\n",
        "---"
      ],
      "metadata": {
        "id": "AlM7m2XSaTjJ"
      }
    },
    {
      "cell_type": "markdown",
      "source": [
        "This dataset contains information collected by the U.S Census Service concerning housing in the area of Boston, Massachusetts. It is a very commonly used dataset within the machine learning space - this particular version is the original *raw* version. It contains `Nan` values and anomalous results.\n",
        "\n",
        "\n",
        "**There are 11 attributes in each case of the dataset.**\n",
        "\n",
        "`CRIM` - per capita crime rate by town\n",
        "\n",
        "`ZN` - proportion of residential land zoned for lots over 25,000 sq.ft.\n",
        "\n",
        "`INDUS` - proportion of non-retail business acres per town.\n",
        "\n",
        "`CHAS` - Charles River dummy variable (1 if tract bounds river; 0 otherwise)\n",
        "\n",
        "`NOX` - nitric oxides concentration (parts per 10 million)\n",
        "\n",
        "`RM` - average number of rooms per dwelling\n",
        "\n",
        "`AGE` - proportion of owner-occupied units built prior to 1940\n",
        "\n",
        "`DIS` - weighted distances to five Boston employment centres\n",
        "\n",
        "`RAD` - index of accessibility to radial highways\n",
        "\n",
        "`TAX` - full-value property-tax rate per $10,000\n",
        "\n",
        "`PTRATIO` - pupil-teacher ratio by town\n",
        "\n",
        "More information about the dataset can be found [here](https://www.cs.toronto.edu/~delve/data/boston/bostonDetail.html)."
      ],
      "metadata": {
        "id": "K42d_AuKeetI"
      }
    },
    {
      "cell_type": "markdown",
      "source": [
        "**Run the code below to load the dataframe:**"
      ],
      "metadata": {
        "id": "7Bo-cFO8ekUM"
      }
    },
    {
      "cell_type": "code",
      "source": [
        "data_url = \"http://lib.stat.cmu.edu/datasets/boston\"\n",
        "df = pd.read_csv(data_url, sep=\"\\s+\", skiprows=22, header=None)\n",
        "columns = ['CRIM', 'ZN', 'INDUS', 'CHAS', 'NOX', 'RM', 'AGE', 'DIS', 'RAD', 'TAX',\n",
        "       'PTRATIO']\n",
        "df.columns = columns\n",
        "df"
      ],
      "metadata": {
        "id": "dvbkgtSBeleJ",
        "colab": {
          "base_uri": "https://localhost:8080/",
          "height": 483
        },
        "outputId": "a1571104-8d99-423d-c3dd-70d9bdc8be31"
      },
      "execution_count": null,
      "outputs": [
        {
          "output_type": "execute_result",
          "data": {
            "text/plain": [
              "           CRIM     ZN  INDUS  CHAS    NOX     RM   AGE     DIS  RAD    TAX  \\\n",
              "0       0.00632  18.00   2.31   0.0  0.538  6.575  65.2  4.0900  1.0  296.0   \n",
              "1     396.90000   4.98  24.00   NaN    NaN    NaN   NaN     NaN  NaN    NaN   \n",
              "2       0.02731   0.00   7.07   0.0  0.469  6.421  78.9  4.9671  2.0  242.0   \n",
              "3     396.90000   9.14  21.60   NaN    NaN    NaN   NaN     NaN  NaN    NaN   \n",
              "4       0.02729   0.00   7.07   0.0  0.469  7.185  61.1  4.9671  2.0  242.0   \n",
              "...         ...    ...    ...   ...    ...    ...   ...     ...  ...    ...   \n",
              "1007  396.90000   5.64  23.90   NaN    NaN    NaN   NaN     NaN  NaN    NaN   \n",
              "1008    0.10959   0.00  11.93   0.0  0.573  6.794  89.3  2.3889  1.0  273.0   \n",
              "1009  393.45000   6.48  22.00   NaN    NaN    NaN   NaN     NaN  NaN    NaN   \n",
              "1010    0.04741   0.00  11.93   0.0  0.573  6.030  80.8  2.5050  1.0  273.0   \n",
              "1011  396.90000   7.88  11.90   NaN    NaN    NaN   NaN     NaN  NaN    NaN   \n",
              "\n",
              "      PTRATIO  \n",
              "0        15.3  \n",
              "1         NaN  \n",
              "2        17.8  \n",
              "3         NaN  \n",
              "4        17.8  \n",
              "...       ...  \n",
              "1007      NaN  \n",
              "1008     21.0  \n",
              "1009      NaN  \n",
              "1010     21.0  \n",
              "1011      NaN  \n",
              "\n",
              "[1012 rows x 11 columns]"
            ],
            "text/html": [
              "\n",
              "  <div id=\"df-25e3b73c-5de8-4e50-9c7b-8152460ee7d9\">\n",
              "    <div class=\"colab-df-container\">\n",
              "      <div>\n",
              "<style scoped>\n",
              "    .dataframe tbody tr th:only-of-type {\n",
              "        vertical-align: middle;\n",
              "    }\n",
              "\n",
              "    .dataframe tbody tr th {\n",
              "        vertical-align: top;\n",
              "    }\n",
              "\n",
              "    .dataframe thead th {\n",
              "        text-align: right;\n",
              "    }\n",
              "</style>\n",
              "<table border=\"1\" class=\"dataframe\">\n",
              "  <thead>\n",
              "    <tr style=\"text-align: right;\">\n",
              "      <th></th>\n",
              "      <th>CRIM</th>\n",
              "      <th>ZN</th>\n",
              "      <th>INDUS</th>\n",
              "      <th>CHAS</th>\n",
              "      <th>NOX</th>\n",
              "      <th>RM</th>\n",
              "      <th>AGE</th>\n",
              "      <th>DIS</th>\n",
              "      <th>RAD</th>\n",
              "      <th>TAX</th>\n",
              "      <th>PTRATIO</th>\n",
              "    </tr>\n",
              "  </thead>\n",
              "  <tbody>\n",
              "    <tr>\n",
              "      <th>0</th>\n",
              "      <td>0.00632</td>\n",
              "      <td>18.00</td>\n",
              "      <td>2.31</td>\n",
              "      <td>0.0</td>\n",
              "      <td>0.538</td>\n",
              "      <td>6.575</td>\n",
              "      <td>65.2</td>\n",
              "      <td>4.0900</td>\n",
              "      <td>1.0</td>\n",
              "      <td>296.0</td>\n",
              "      <td>15.3</td>\n",
              "    </tr>\n",
              "    <tr>\n",
              "      <th>1</th>\n",
              "      <td>396.90000</td>\n",
              "      <td>4.98</td>\n",
              "      <td>24.00</td>\n",
              "      <td>NaN</td>\n",
              "      <td>NaN</td>\n",
              "      <td>NaN</td>\n",
              "      <td>NaN</td>\n",
              "      <td>NaN</td>\n",
              "      <td>NaN</td>\n",
              "      <td>NaN</td>\n",
              "      <td>NaN</td>\n",
              "    </tr>\n",
              "    <tr>\n",
              "      <th>2</th>\n",
              "      <td>0.02731</td>\n",
              "      <td>0.00</td>\n",
              "      <td>7.07</td>\n",
              "      <td>0.0</td>\n",
              "      <td>0.469</td>\n",
              "      <td>6.421</td>\n",
              "      <td>78.9</td>\n",
              "      <td>4.9671</td>\n",
              "      <td>2.0</td>\n",
              "      <td>242.0</td>\n",
              "      <td>17.8</td>\n",
              "    </tr>\n",
              "    <tr>\n",
              "      <th>3</th>\n",
              "      <td>396.90000</td>\n",
              "      <td>9.14</td>\n",
              "      <td>21.60</td>\n",
              "      <td>NaN</td>\n",
              "      <td>NaN</td>\n",
              "      <td>NaN</td>\n",
              "      <td>NaN</td>\n",
              "      <td>NaN</td>\n",
              "      <td>NaN</td>\n",
              "      <td>NaN</td>\n",
              "      <td>NaN</td>\n",
              "    </tr>\n",
              "    <tr>\n",
              "      <th>4</th>\n",
              "      <td>0.02729</td>\n",
              "      <td>0.00</td>\n",
              "      <td>7.07</td>\n",
              "      <td>0.0</td>\n",
              "      <td>0.469</td>\n",
              "      <td>7.185</td>\n",
              "      <td>61.1</td>\n",
              "      <td>4.9671</td>\n",
              "      <td>2.0</td>\n",
              "      <td>242.0</td>\n",
              "      <td>17.8</td>\n",
              "    </tr>\n",
              "    <tr>\n",
              "      <th>...</th>\n",
              "      <td>...</td>\n",
              "      <td>...</td>\n",
              "      <td>...</td>\n",
              "      <td>...</td>\n",
              "      <td>...</td>\n",
              "      <td>...</td>\n",
              "      <td>...</td>\n",
              "      <td>...</td>\n",
              "      <td>...</td>\n",
              "      <td>...</td>\n",
              "      <td>...</td>\n",
              "    </tr>\n",
              "    <tr>\n",
              "      <th>1007</th>\n",
              "      <td>396.90000</td>\n",
              "      <td>5.64</td>\n",
              "      <td>23.90</td>\n",
              "      <td>NaN</td>\n",
              "      <td>NaN</td>\n",
              "      <td>NaN</td>\n",
              "      <td>NaN</td>\n",
              "      <td>NaN</td>\n",
              "      <td>NaN</td>\n",
              "      <td>NaN</td>\n",
              "      <td>NaN</td>\n",
              "    </tr>\n",
              "    <tr>\n",
              "      <th>1008</th>\n",
              "      <td>0.10959</td>\n",
              "      <td>0.00</td>\n",
              "      <td>11.93</td>\n",
              "      <td>0.0</td>\n",
              "      <td>0.573</td>\n",
              "      <td>6.794</td>\n",
              "      <td>89.3</td>\n",
              "      <td>2.3889</td>\n",
              "      <td>1.0</td>\n",
              "      <td>273.0</td>\n",
              "      <td>21.0</td>\n",
              "    </tr>\n",
              "    <tr>\n",
              "      <th>1009</th>\n",
              "      <td>393.45000</td>\n",
              "      <td>6.48</td>\n",
              "      <td>22.00</td>\n",
              "      <td>NaN</td>\n",
              "      <td>NaN</td>\n",
              "      <td>NaN</td>\n",
              "      <td>NaN</td>\n",
              "      <td>NaN</td>\n",
              "      <td>NaN</td>\n",
              "      <td>NaN</td>\n",
              "      <td>NaN</td>\n",
              "    </tr>\n",
              "    <tr>\n",
              "      <th>1010</th>\n",
              "      <td>0.04741</td>\n",
              "      <td>0.00</td>\n",
              "      <td>11.93</td>\n",
              "      <td>0.0</td>\n",
              "      <td>0.573</td>\n",
              "      <td>6.030</td>\n",
              "      <td>80.8</td>\n",
              "      <td>2.5050</td>\n",
              "      <td>1.0</td>\n",
              "      <td>273.0</td>\n",
              "      <td>21.0</td>\n",
              "    </tr>\n",
              "    <tr>\n",
              "      <th>1011</th>\n",
              "      <td>396.90000</td>\n",
              "      <td>7.88</td>\n",
              "      <td>11.90</td>\n",
              "      <td>NaN</td>\n",
              "      <td>NaN</td>\n",
              "      <td>NaN</td>\n",
              "      <td>NaN</td>\n",
              "      <td>NaN</td>\n",
              "      <td>NaN</td>\n",
              "      <td>NaN</td>\n",
              "      <td>NaN</td>\n",
              "    </tr>\n",
              "  </tbody>\n",
              "</table>\n",
              "<p>1012 rows × 11 columns</p>\n",
              "</div>\n",
              "      <button class=\"colab-df-convert\" onclick=\"convertToInteractive('df-25e3b73c-5de8-4e50-9c7b-8152460ee7d9')\"\n",
              "              title=\"Convert this dataframe to an interactive table.\"\n",
              "              style=\"display:none;\">\n",
              "        \n",
              "  <svg xmlns=\"http://www.w3.org/2000/svg\" height=\"24px\"viewBox=\"0 0 24 24\"\n",
              "       width=\"24px\">\n",
              "    <path d=\"M0 0h24v24H0V0z\" fill=\"none\"/>\n",
              "    <path d=\"M18.56 5.44l.94 2.06.94-2.06 2.06-.94-2.06-.94-.94-2.06-.94 2.06-2.06.94zm-11 1L8.5 8.5l.94-2.06 2.06-.94-2.06-.94L8.5 2.5l-.94 2.06-2.06.94zm10 10l.94 2.06.94-2.06 2.06-.94-2.06-.94-.94-2.06-.94 2.06-2.06.94z\"/><path d=\"M17.41 7.96l-1.37-1.37c-.4-.4-.92-.59-1.43-.59-.52 0-1.04.2-1.43.59L10.3 9.45l-7.72 7.72c-.78.78-.78 2.05 0 2.83L4 21.41c.39.39.9.59 1.41.59.51 0 1.02-.2 1.41-.59l7.78-7.78 2.81-2.81c.8-.78.8-2.07 0-2.86zM5.41 20L4 18.59l7.72-7.72 1.47 1.35L5.41 20z\"/>\n",
              "  </svg>\n",
              "      </button>\n",
              "      \n",
              "  <style>\n",
              "    .colab-df-container {\n",
              "      display:flex;\n",
              "      flex-wrap:wrap;\n",
              "      gap: 12px;\n",
              "    }\n",
              "\n",
              "    .colab-df-convert {\n",
              "      background-color: #E8F0FE;\n",
              "      border: none;\n",
              "      border-radius: 50%;\n",
              "      cursor: pointer;\n",
              "      display: none;\n",
              "      fill: #1967D2;\n",
              "      height: 32px;\n",
              "      padding: 0 0 0 0;\n",
              "      width: 32px;\n",
              "    }\n",
              "\n",
              "    .colab-df-convert:hover {\n",
              "      background-color: #E2EBFA;\n",
              "      box-shadow: 0px 1px 2px rgba(60, 64, 67, 0.3), 0px 1px 3px 1px rgba(60, 64, 67, 0.15);\n",
              "      fill: #174EA6;\n",
              "    }\n",
              "\n",
              "    [theme=dark] .colab-df-convert {\n",
              "      background-color: #3B4455;\n",
              "      fill: #D2E3FC;\n",
              "    }\n",
              "\n",
              "    [theme=dark] .colab-df-convert:hover {\n",
              "      background-color: #434B5C;\n",
              "      box-shadow: 0px 1px 3px 1px rgba(0, 0, 0, 0.15);\n",
              "      filter: drop-shadow(0px 1px 2px rgba(0, 0, 0, 0.3));\n",
              "      fill: #FFFFFF;\n",
              "    }\n",
              "  </style>\n",
              "\n",
              "      <script>\n",
              "        const buttonEl =\n",
              "          document.querySelector('#df-25e3b73c-5de8-4e50-9c7b-8152460ee7d9 button.colab-df-convert');\n",
              "        buttonEl.style.display =\n",
              "          google.colab.kernel.accessAllowed ? 'block' : 'none';\n",
              "\n",
              "        async function convertToInteractive(key) {\n",
              "          const element = document.querySelector('#df-25e3b73c-5de8-4e50-9c7b-8152460ee7d9');\n",
              "          const dataTable =\n",
              "            await google.colab.kernel.invokeFunction('convertToInteractive',\n",
              "                                                     [key], {});\n",
              "          if (!dataTable) return;\n",
              "\n",
              "          const docLinkHtml = 'Like what you see? Visit the ' +\n",
              "            '<a target=\"_blank\" href=https://colab.research.google.com/notebooks/data_table.ipynb>data table notebook</a>'\n",
              "            + ' to learn more about interactive tables.';\n",
              "          element.innerHTML = '';\n",
              "          dataTable['output_type'] = 'display_data';\n",
              "          await google.colab.output.renderOutput(dataTable, element);\n",
              "          const docLink = document.createElement('div');\n",
              "          docLink.innerHTML = docLinkHtml;\n",
              "          element.appendChild(docLink);\n",
              "        }\n",
              "      </script>\n",
              "    </div>\n",
              "  </div>\n",
              "  "
            ]
          },
          "metadata": {},
          "execution_count": 5
        }
      ]
    },
    {
      "cell_type": "markdown",
      "source": [
        "#### **Exercise 1:** Using only the DataFrame attributes, how many rows of data does the DataFrame have?"
      ],
      "metadata": {
        "id": "OhgOu3qZPain"
      }
    },
    {
      "cell_type": "code",
      "source": [
        "len(df.head())"
      ],
      "metadata": {
        "id": "GtJQ_YlPPaio",
        "colab": {
          "base_uri": "https://localhost:8080/"
        },
        "outputId": "5977b495-3950-494a-d5ff-0c7c29e8178b"
      },
      "execution_count": null,
      "outputs": [
        {
          "output_type": "execute_result",
          "data": {
            "text/plain": [
              "5"
            ]
          },
          "metadata": {},
          "execution_count": 79
        }
      ]
    },
    {
      "cell_type": "markdown",
      "source": [
        "#### **Exercise 2:** What is the average number of rooms per home?"
      ],
      "metadata": {
        "id": "IfkCBIVaevw2"
      }
    },
    {
      "cell_type": "code",
      "source": [
        "df['RM'].mean()"
      ],
      "metadata": {
        "id": "-LzaHGGUexRH",
        "colab": {
          "base_uri": "https://localhost:8080/"
        },
        "outputId": "32f15cbf-e7e8-48b4-bf5b-262cee460b90"
      },
      "execution_count": null,
      "outputs": [
        {
          "output_type": "execute_result",
          "data": {
            "text/plain": [
              "6.284634387351779"
            ]
          },
          "metadata": {},
          "execution_count": 84
        }
      ]
    },
    {
      "cell_type": "markdown",
      "source": [
        "#### **Exercise 3:** What is the median of the `DIS` feature?"
      ],
      "metadata": {
        "id": "haN0oKyee5dH"
      }
    },
    {
      "cell_type": "code",
      "source": [
        "df['DIS'].median()"
      ],
      "metadata": {
        "id": "dyV-4i9de61-",
        "colab": {
          "base_uri": "https://localhost:8080/"
        },
        "outputId": "dad7e716-d3f9-4ecb-d974-8d8fdb40850b"
      },
      "execution_count": null,
      "outputs": [
        {
          "output_type": "execute_result",
          "data": {
            "text/plain": [
              "3.2074499999999997"
            ]
          },
          "metadata": {},
          "execution_count": 85
        }
      ]
    },
    {
      "cell_type": "markdown",
      "source": [
        "#### **Exercise 4:** Index the 494th row."
      ],
      "metadata": {
        "id": "nMJpLJyMOMgS"
      }
    },
    {
      "cell_type": "code",
      "source": [
        "df.index[494]"
      ],
      "metadata": {
        "id": "_KY47Bk0OMgS",
        "colab": {
          "base_uri": "https://localhost:8080/"
        },
        "outputId": "12ee8d2d-2fb3-432b-f654-c7c15b5eb95f"
      },
      "execution_count": null,
      "outputs": [
        {
          "output_type": "execute_result",
          "data": {
            "text/plain": [
              "494"
            ]
          },
          "metadata": {},
          "execution_count": 9
        }
      ]
    },
    {
      "cell_type": "markdown",
      "source": [
        "#### **Exercise 5:** How much mitric oxides concentration is there in total?"
      ],
      "metadata": {
        "id": "oEZcspFmOwIr"
      }
    },
    {
      "cell_type": "code",
      "source": [
        "df['NOX'].sum()"
      ],
      "metadata": {
        "id": "ndpUoquNLqj9",
        "colab": {
          "base_uri": "https://localhost:8080/"
        },
        "outputId": "b956fb22-99ff-497a-aaea-b8a099a9081f"
      },
      "execution_count": null,
      "outputs": [
        {
          "output_type": "execute_result",
          "data": {
            "text/plain": [
              "280.6757"
            ]
          },
          "metadata": {},
          "execution_count": 10
        }
      ]
    },
    {
      "cell_type": "markdown",
      "source": [
        "#### **Exercise 6:** Which feature(s) have the most missing data?"
      ],
      "metadata": {
        "id": "y0vfQ-tqKsp6"
      }
    },
    {
      "cell_type": "code",
      "source": [
        "df.describe()"
      ],
      "metadata": {
        "id": "0AiOc0ZCKwxi",
        "colab": {
          "base_uri": "https://localhost:8080/",
          "height": 361
        },
        "outputId": "da29e0dd-de83-4466-b133-39fd487cd050"
      },
      "execution_count": null,
      "outputs": [
        {
          "output_type": "execute_result",
          "data": {
            "text/plain": [
              "              CRIM           ZN        INDUS        CHAS         NOX  \\\n",
              "count  1012.000000  1012.000000  1012.000000  506.000000  506.000000   \n",
              "mean    180.143778    12.008350    16.834792    0.069170    0.554695   \n",
              "std     188.132839    17.250728     9.912616    0.253994    0.115878   \n",
              "min       0.006320     0.000000     0.460000    0.000000    0.385000   \n",
              "25%       0.257830     0.000000     8.375000    0.000000    0.449000   \n",
              "50%      24.021000     7.240000    18.100000    0.000000    0.538000   \n",
              "75%     391.435000    16.780000    21.890000    0.000000    0.624000   \n",
              "max     396.900000   100.000000    50.000000    1.000000    0.871000   \n",
              "\n",
              "               RM         AGE         DIS         RAD         TAX     PTRATIO  \n",
              "count  506.000000  506.000000  506.000000  506.000000  506.000000  506.000000  \n",
              "mean     6.284634   68.574901    3.795043    9.549407  408.237154   18.455534  \n",
              "std      0.702617   28.148861    2.105710    8.707259  168.537116    2.164946  \n",
              "min      3.561000    2.900000    1.129600    1.000000  187.000000   12.600000  \n",
              "25%      5.885500   45.025000    2.100175    4.000000  279.000000   17.400000  \n",
              "50%      6.208500   77.500000    3.207450    5.000000  330.000000   19.050000  \n",
              "75%      6.623500   94.075000    5.188425   24.000000  666.000000   20.200000  \n",
              "max      8.780000  100.000000   12.126500   24.000000  711.000000   22.000000  "
            ],
            "text/html": [
              "\n",
              "  <div id=\"df-d8192af5-a175-4113-80b8-8e4c5c716c13\">\n",
              "    <div class=\"colab-df-container\">\n",
              "      <div>\n",
              "<style scoped>\n",
              "    .dataframe tbody tr th:only-of-type {\n",
              "        vertical-align: middle;\n",
              "    }\n",
              "\n",
              "    .dataframe tbody tr th {\n",
              "        vertical-align: top;\n",
              "    }\n",
              "\n",
              "    .dataframe thead th {\n",
              "        text-align: right;\n",
              "    }\n",
              "</style>\n",
              "<table border=\"1\" class=\"dataframe\">\n",
              "  <thead>\n",
              "    <tr style=\"text-align: right;\">\n",
              "      <th></th>\n",
              "      <th>CRIM</th>\n",
              "      <th>ZN</th>\n",
              "      <th>INDUS</th>\n",
              "      <th>CHAS</th>\n",
              "      <th>NOX</th>\n",
              "      <th>RM</th>\n",
              "      <th>AGE</th>\n",
              "      <th>DIS</th>\n",
              "      <th>RAD</th>\n",
              "      <th>TAX</th>\n",
              "      <th>PTRATIO</th>\n",
              "    </tr>\n",
              "  </thead>\n",
              "  <tbody>\n",
              "    <tr>\n",
              "      <th>count</th>\n",
              "      <td>1012.000000</td>\n",
              "      <td>1012.000000</td>\n",
              "      <td>1012.000000</td>\n",
              "      <td>506.000000</td>\n",
              "      <td>506.000000</td>\n",
              "      <td>506.000000</td>\n",
              "      <td>506.000000</td>\n",
              "      <td>506.000000</td>\n",
              "      <td>506.000000</td>\n",
              "      <td>506.000000</td>\n",
              "      <td>506.000000</td>\n",
              "    </tr>\n",
              "    <tr>\n",
              "      <th>mean</th>\n",
              "      <td>180.143778</td>\n",
              "      <td>12.008350</td>\n",
              "      <td>16.834792</td>\n",
              "      <td>0.069170</td>\n",
              "      <td>0.554695</td>\n",
              "      <td>6.284634</td>\n",
              "      <td>68.574901</td>\n",
              "      <td>3.795043</td>\n",
              "      <td>9.549407</td>\n",
              "      <td>408.237154</td>\n",
              "      <td>18.455534</td>\n",
              "    </tr>\n",
              "    <tr>\n",
              "      <th>std</th>\n",
              "      <td>188.132839</td>\n",
              "      <td>17.250728</td>\n",
              "      <td>9.912616</td>\n",
              "      <td>0.253994</td>\n",
              "      <td>0.115878</td>\n",
              "      <td>0.702617</td>\n",
              "      <td>28.148861</td>\n",
              "      <td>2.105710</td>\n",
              "      <td>8.707259</td>\n",
              "      <td>168.537116</td>\n",
              "      <td>2.164946</td>\n",
              "    </tr>\n",
              "    <tr>\n",
              "      <th>min</th>\n",
              "      <td>0.006320</td>\n",
              "      <td>0.000000</td>\n",
              "      <td>0.460000</td>\n",
              "      <td>0.000000</td>\n",
              "      <td>0.385000</td>\n",
              "      <td>3.561000</td>\n",
              "      <td>2.900000</td>\n",
              "      <td>1.129600</td>\n",
              "      <td>1.000000</td>\n",
              "      <td>187.000000</td>\n",
              "      <td>12.600000</td>\n",
              "    </tr>\n",
              "    <tr>\n",
              "      <th>25%</th>\n",
              "      <td>0.257830</td>\n",
              "      <td>0.000000</td>\n",
              "      <td>8.375000</td>\n",
              "      <td>0.000000</td>\n",
              "      <td>0.449000</td>\n",
              "      <td>5.885500</td>\n",
              "      <td>45.025000</td>\n",
              "      <td>2.100175</td>\n",
              "      <td>4.000000</td>\n",
              "      <td>279.000000</td>\n",
              "      <td>17.400000</td>\n",
              "    </tr>\n",
              "    <tr>\n",
              "      <th>50%</th>\n",
              "      <td>24.021000</td>\n",
              "      <td>7.240000</td>\n",
              "      <td>18.100000</td>\n",
              "      <td>0.000000</td>\n",
              "      <td>0.538000</td>\n",
              "      <td>6.208500</td>\n",
              "      <td>77.500000</td>\n",
              "      <td>3.207450</td>\n",
              "      <td>5.000000</td>\n",
              "      <td>330.000000</td>\n",
              "      <td>19.050000</td>\n",
              "    </tr>\n",
              "    <tr>\n",
              "      <th>75%</th>\n",
              "      <td>391.435000</td>\n",
              "      <td>16.780000</td>\n",
              "      <td>21.890000</td>\n",
              "      <td>0.000000</td>\n",
              "      <td>0.624000</td>\n",
              "      <td>6.623500</td>\n",
              "      <td>94.075000</td>\n",
              "      <td>5.188425</td>\n",
              "      <td>24.000000</td>\n",
              "      <td>666.000000</td>\n",
              "      <td>20.200000</td>\n",
              "    </tr>\n",
              "    <tr>\n",
              "      <th>max</th>\n",
              "      <td>396.900000</td>\n",
              "      <td>100.000000</td>\n",
              "      <td>50.000000</td>\n",
              "      <td>1.000000</td>\n",
              "      <td>0.871000</td>\n",
              "      <td>8.780000</td>\n",
              "      <td>100.000000</td>\n",
              "      <td>12.126500</td>\n",
              "      <td>24.000000</td>\n",
              "      <td>711.000000</td>\n",
              "      <td>22.000000</td>\n",
              "    </tr>\n",
              "  </tbody>\n",
              "</table>\n",
              "</div>\n",
              "      <button class=\"colab-df-convert\" onclick=\"convertToInteractive('df-d8192af5-a175-4113-80b8-8e4c5c716c13')\"\n",
              "              title=\"Convert this dataframe to an interactive table.\"\n",
              "              style=\"display:none;\">\n",
              "        \n",
              "  <svg xmlns=\"http://www.w3.org/2000/svg\" height=\"24px\"viewBox=\"0 0 24 24\"\n",
              "       width=\"24px\">\n",
              "    <path d=\"M0 0h24v24H0V0z\" fill=\"none\"/>\n",
              "    <path d=\"M18.56 5.44l.94 2.06.94-2.06 2.06-.94-2.06-.94-.94-2.06-.94 2.06-2.06.94zm-11 1L8.5 8.5l.94-2.06 2.06-.94-2.06-.94L8.5 2.5l-.94 2.06-2.06.94zm10 10l.94 2.06.94-2.06 2.06-.94-2.06-.94-.94-2.06-.94 2.06-2.06.94z\"/><path d=\"M17.41 7.96l-1.37-1.37c-.4-.4-.92-.59-1.43-.59-.52 0-1.04.2-1.43.59L10.3 9.45l-7.72 7.72c-.78.78-.78 2.05 0 2.83L4 21.41c.39.39.9.59 1.41.59.51 0 1.02-.2 1.41-.59l7.78-7.78 2.81-2.81c.8-.78.8-2.07 0-2.86zM5.41 20L4 18.59l7.72-7.72 1.47 1.35L5.41 20z\"/>\n",
              "  </svg>\n",
              "      </button>\n",
              "      \n",
              "  <style>\n",
              "    .colab-df-container {\n",
              "      display:flex;\n",
              "      flex-wrap:wrap;\n",
              "      gap: 12px;\n",
              "    }\n",
              "\n",
              "    .colab-df-convert {\n",
              "      background-color: #E8F0FE;\n",
              "      border: none;\n",
              "      border-radius: 50%;\n",
              "      cursor: pointer;\n",
              "      display: none;\n",
              "      fill: #1967D2;\n",
              "      height: 32px;\n",
              "      padding: 0 0 0 0;\n",
              "      width: 32px;\n",
              "    }\n",
              "\n",
              "    .colab-df-convert:hover {\n",
              "      background-color: #E2EBFA;\n",
              "      box-shadow: 0px 1px 2px rgba(60, 64, 67, 0.3), 0px 1px 3px 1px rgba(60, 64, 67, 0.15);\n",
              "      fill: #174EA6;\n",
              "    }\n",
              "\n",
              "    [theme=dark] .colab-df-convert {\n",
              "      background-color: #3B4455;\n",
              "      fill: #D2E3FC;\n",
              "    }\n",
              "\n",
              "    [theme=dark] .colab-df-convert:hover {\n",
              "      background-color: #434B5C;\n",
              "      box-shadow: 0px 1px 3px 1px rgba(0, 0, 0, 0.15);\n",
              "      filter: drop-shadow(0px 1px 2px rgba(0, 0, 0, 0.3));\n",
              "      fill: #FFFFFF;\n",
              "    }\n",
              "  </style>\n",
              "\n",
              "      <script>\n",
              "        const buttonEl =\n",
              "          document.querySelector('#df-d8192af5-a175-4113-80b8-8e4c5c716c13 button.colab-df-convert');\n",
              "        buttonEl.style.display =\n",
              "          google.colab.kernel.accessAllowed ? 'block' : 'none';\n",
              "\n",
              "        async function convertToInteractive(key) {\n",
              "          const element = document.querySelector('#df-d8192af5-a175-4113-80b8-8e4c5c716c13');\n",
              "          const dataTable =\n",
              "            await google.colab.kernel.invokeFunction('convertToInteractive',\n",
              "                                                     [key], {});\n",
              "          if (!dataTable) return;\n",
              "\n",
              "          const docLinkHtml = 'Like what you see? Visit the ' +\n",
              "            '<a target=\"_blank\" href=https://colab.research.google.com/notebooks/data_table.ipynb>data table notebook</a>'\n",
              "            + ' to learn more about interactive tables.';\n",
              "          element.innerHTML = '';\n",
              "          dataTable['output_type'] = 'display_data';\n",
              "          await google.colab.output.renderOutput(dataTable, element);\n",
              "          const docLink = document.createElement('div');\n",
              "          docLink.innerHTML = docLinkHtml;\n",
              "          element.appendChild(docLink);\n",
              "        }\n",
              "      </script>\n",
              "    </div>\n",
              "  </div>\n",
              "  "
            ]
          },
          "metadata": {},
          "execution_count": 11
        }
      ]
    },
    {
      "cell_type": "markdown",
      "source": [
        "### **Data Cleaning # 1 [Optional]**\n",
        "\n",
        "---\n",
        "\n",
        "Let's pretend you are a nutritionist looking at the prices of certain fruits to provide info to your client."
      ],
      "metadata": {
        "id": "DLTf_KPGKhm4"
      }
    },
    {
      "cell_type": "code",
      "source": [
        "fruit_df = pd.DataFrame({\n",
        "    'fruit': ['apple','banana','cherry',\n",
        "              'dates','elderberry'],\n",
        "    'price':[1.00 , 0.50, None, 2.50, None]})\n",
        "fruit_df"
      ],
      "metadata": {
        "colab": {
          "base_uri": "https://localhost:8080/",
          "height": 206
        },
        "id": "6OPH2Vy8P-Fu",
        "outputId": "55dd5fc9-b510-4e29-f5c9-3c00ee1ca073"
      },
      "execution_count": null,
      "outputs": [
        {
          "output_type": "execute_result",
          "data": {
            "text/plain": [
              "        fruit  price\n",
              "0       apple    1.0\n",
              "1      banana    0.5\n",
              "2      cherry    NaN\n",
              "3       dates    2.5\n",
              "4  elderberry    NaN"
            ],
            "text/html": [
              "\n",
              "  <div id=\"df-f273b071-ffe3-4cdf-81ad-e98e1358206b\">\n",
              "    <div class=\"colab-df-container\">\n",
              "      <div>\n",
              "<style scoped>\n",
              "    .dataframe tbody tr th:only-of-type {\n",
              "        vertical-align: middle;\n",
              "    }\n",
              "\n",
              "    .dataframe tbody tr th {\n",
              "        vertical-align: top;\n",
              "    }\n",
              "\n",
              "    .dataframe thead th {\n",
              "        text-align: right;\n",
              "    }\n",
              "</style>\n",
              "<table border=\"1\" class=\"dataframe\">\n",
              "  <thead>\n",
              "    <tr style=\"text-align: right;\">\n",
              "      <th></th>\n",
              "      <th>fruit</th>\n",
              "      <th>price</th>\n",
              "    </tr>\n",
              "  </thead>\n",
              "  <tbody>\n",
              "    <tr>\n",
              "      <th>0</th>\n",
              "      <td>apple</td>\n",
              "      <td>1.0</td>\n",
              "    </tr>\n",
              "    <tr>\n",
              "      <th>1</th>\n",
              "      <td>banana</td>\n",
              "      <td>0.5</td>\n",
              "    </tr>\n",
              "    <tr>\n",
              "      <th>2</th>\n",
              "      <td>cherry</td>\n",
              "      <td>NaN</td>\n",
              "    </tr>\n",
              "    <tr>\n",
              "      <th>3</th>\n",
              "      <td>dates</td>\n",
              "      <td>2.5</td>\n",
              "    </tr>\n",
              "    <tr>\n",
              "      <th>4</th>\n",
              "      <td>elderberry</td>\n",
              "      <td>NaN</td>\n",
              "    </tr>\n",
              "  </tbody>\n",
              "</table>\n",
              "</div>\n",
              "      <button class=\"colab-df-convert\" onclick=\"convertToInteractive('df-f273b071-ffe3-4cdf-81ad-e98e1358206b')\"\n",
              "              title=\"Convert this dataframe to an interactive table.\"\n",
              "              style=\"display:none;\">\n",
              "        \n",
              "  <svg xmlns=\"http://www.w3.org/2000/svg\" height=\"24px\"viewBox=\"0 0 24 24\"\n",
              "       width=\"24px\">\n",
              "    <path d=\"M0 0h24v24H0V0z\" fill=\"none\"/>\n",
              "    <path d=\"M18.56 5.44l.94 2.06.94-2.06 2.06-.94-2.06-.94-.94-2.06-.94 2.06-2.06.94zm-11 1L8.5 8.5l.94-2.06 2.06-.94-2.06-.94L8.5 2.5l-.94 2.06-2.06.94zm10 10l.94 2.06.94-2.06 2.06-.94-2.06-.94-.94-2.06-.94 2.06-2.06.94z\"/><path d=\"M17.41 7.96l-1.37-1.37c-.4-.4-.92-.59-1.43-.59-.52 0-1.04.2-1.43.59L10.3 9.45l-7.72 7.72c-.78.78-.78 2.05 0 2.83L4 21.41c.39.39.9.59 1.41.59.51 0 1.02-.2 1.41-.59l7.78-7.78 2.81-2.81c.8-.78.8-2.07 0-2.86zM5.41 20L4 18.59l7.72-7.72 1.47 1.35L5.41 20z\"/>\n",
              "  </svg>\n",
              "      </button>\n",
              "      \n",
              "  <style>\n",
              "    .colab-df-container {\n",
              "      display:flex;\n",
              "      flex-wrap:wrap;\n",
              "      gap: 12px;\n",
              "    }\n",
              "\n",
              "    .colab-df-convert {\n",
              "      background-color: #E8F0FE;\n",
              "      border: none;\n",
              "      border-radius: 50%;\n",
              "      cursor: pointer;\n",
              "      display: none;\n",
              "      fill: #1967D2;\n",
              "      height: 32px;\n",
              "      padding: 0 0 0 0;\n",
              "      width: 32px;\n",
              "    }\n",
              "\n",
              "    .colab-df-convert:hover {\n",
              "      background-color: #E2EBFA;\n",
              "      box-shadow: 0px 1px 2px rgba(60, 64, 67, 0.3), 0px 1px 3px 1px rgba(60, 64, 67, 0.15);\n",
              "      fill: #174EA6;\n",
              "    }\n",
              "\n",
              "    [theme=dark] .colab-df-convert {\n",
              "      background-color: #3B4455;\n",
              "      fill: #D2E3FC;\n",
              "    }\n",
              "\n",
              "    [theme=dark] .colab-df-convert:hover {\n",
              "      background-color: #434B5C;\n",
              "      box-shadow: 0px 1px 3px 1px rgba(0, 0, 0, 0.15);\n",
              "      filter: drop-shadow(0px 1px 2px rgba(0, 0, 0, 0.3));\n",
              "      fill: #FFFFFF;\n",
              "    }\n",
              "  </style>\n",
              "\n",
              "      <script>\n",
              "        const buttonEl =\n",
              "          document.querySelector('#df-f273b071-ffe3-4cdf-81ad-e98e1358206b button.colab-df-convert');\n",
              "        buttonEl.style.display =\n",
              "          google.colab.kernel.accessAllowed ? 'block' : 'none';\n",
              "\n",
              "        async function convertToInteractive(key) {\n",
              "          const element = document.querySelector('#df-f273b071-ffe3-4cdf-81ad-e98e1358206b');\n",
              "          const dataTable =\n",
              "            await google.colab.kernel.invokeFunction('convertToInteractive',\n",
              "                                                     [key], {});\n",
              "          if (!dataTable) return;\n",
              "\n",
              "          const docLinkHtml = 'Like what you see? Visit the ' +\n",
              "            '<a target=\"_blank\" href=https://colab.research.google.com/notebooks/data_table.ipynb>data table notebook</a>'\n",
              "            + ' to learn more about interactive tables.';\n",
              "          element.innerHTML = '';\n",
              "          dataTable['output_type'] = 'display_data';\n",
              "          await google.colab.output.renderOutput(dataTable, element);\n",
              "          const docLink = document.createElement('div');\n",
              "          docLink.innerHTML = docLinkHtml;\n",
              "          element.appendChild(docLink);\n",
              "        }\n",
              "      </script>\n",
              "    </div>\n",
              "  </div>\n",
              "  "
            ]
          },
          "metadata": {},
          "execution_count": 62
        }
      ]
    },
    {
      "cell_type": "markdown",
      "source": [
        "#### **Exercise 1:** Use mean to fill in the missing values from the `fruit_df` DataFrame given in the previous problem and save as a new DataFrame `df_filled_mean`. Then check to make sure it worked."
      ],
      "metadata": {
        "id": "TDDvPo2Ab5RI"
      }
    },
    {
      "cell_type": "code",
      "source": [],
      "metadata": {
        "id": "zYhrvL53AApb"
      },
      "execution_count": null,
      "outputs": []
    },
    {
      "cell_type": "markdown",
      "source": [
        "### **Data Cleaning # 2 [Optional]**\n",
        "---\n",
        "\n",
        "Medical data at a local urgent care is recorded in a DataFrame. Patients are given a unique id upon entry and are charged according to their age and symptoms."
      ],
      "metadata": {
        "id": "ZZ4UZBQDKuvN"
      }
    },
    {
      "cell_type": "code",
      "source": [
        "medical_df = pd.DataFrame({'patient id':[100, 101, 102, 103, 104, 105, 106, 107, 108, 109],\n",
        "                         'age': [10, 13, 15, 17, 19, 18, 16, 12, 14, 11],\n",
        "                         'symptom':[None, 'flu', 'headache', 'headache', 'flu', None, None, 'headache', 'flu', None],\n",
        "                         'charge':[30.00, None, 35.00, 36.00, 39.00, 38.00, 36.00, 32.00, 33.00, None]})"
      ],
      "metadata": {
        "id": "P0m42mWbQfk8"
      },
      "execution_count": null,
      "outputs": []
    },
    {
      "cell_type": "markdown",
      "source": [
        "#### **Exercise 1:** Using the calculated mean below, use `fillna()` to replace NA values in the `\"charge\"` column."
      ],
      "metadata": {
        "id": "KkBmCDobcur8"
      }
    },
    {
      "cell_type": "code",
      "source": [],
      "metadata": {
        "id": "l5PM47RjAB3X"
      },
      "execution_count": null,
      "outputs": []
    },
    {
      "cell_type": "markdown",
      "source": [
        "#### **Exercise 2:** Drop all the null values, and compare the shape of the DataFrame before and after. How many rows were dropped?"
      ],
      "metadata": {
        "id": "shN308ZncbU1"
      }
    },
    {
      "cell_type": "code",
      "source": [],
      "metadata": {
        "id": "Vfezw_wcABmy"
      },
      "execution_count": null,
      "outputs": []
    },
    {
      "cell_type": "markdown",
      "source": [
        "#### **Exercise 3:** What is the average cost of going to this clinic?"
      ],
      "metadata": {
        "id": "UMUNLECTSI1p"
      }
    },
    {
      "cell_type": "code",
      "source": [],
      "metadata": {
        "id": "3jJUsogMSI1y"
      },
      "execution_count": null,
      "outputs": []
    },
    {
      "cell_type": "markdown",
      "source": [
        "---\n",
        "Copyright 2022 The Coding School, All rights Reserved"
      ],
      "metadata": {
        "id": "1fKuMhTg8Sk9"
      }
    }
  ]
}