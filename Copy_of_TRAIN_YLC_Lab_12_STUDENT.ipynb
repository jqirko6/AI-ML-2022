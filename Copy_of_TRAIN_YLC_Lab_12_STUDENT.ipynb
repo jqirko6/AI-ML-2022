{
  "cells": [
    {
      "cell_type": "markdown",
      "metadata": {
        "id": "view-in-github",
        "colab_type": "text"
      },
      "source": [
        "<a href=\"https://colab.research.google.com/github/jqirko6/AI-ML-2022/blob/main/Copy_of_TRAIN_YLC_Lab_12_STUDENT.ipynb\" target=\"_parent\"><img src=\"https://colab.research.google.com/assets/colab-badge.svg\" alt=\"Open In Colab\"/></a>"
      ]
    },
    {
      "cell_type": "markdown",
      "metadata": {
        "id": "_iaXDd2j9axp"
      },
      "source": [
        "# **Lab #12: Semester 1 Review**\n",
        "---\n",
        "\n",
        "## **Description**\n",
        "In the lab you will review regression and classification models. To begin, you will use both a regression and a classification model to analyze the same dataset and determine which is a better fit for the data.<br>\n",
        "Next, you will use another data set to run a classification model using features of your choice.\n",
        "Finally, you will use a decision tree to determine the \"best features\" to use and apply those to your classification model to fin-tune your model.\n",
        "\n",
        "\n",
        "<br>\n",
        "\n",
        "### **Today's Review**:\n",
        "\n",
        "**Part 0:** Import functions <br>\n",
        "**Part 1:** Supervised Learning Review <br>\n",
        "**Part 2:** Classification Models Review <br>\n",
        "**Part 3:** Fine-Tuning a Mdodel Review <br>\n",
        "\n",
        "<br>\n",
        "\n",
        "### **Goals**:\n",
        "\n",
        "By the end of this lab, we hope that you will begin to understand how and why machine learning is used to evaluate data. We hope you understand the different models of supervised learning and what metrics are used to evaluate them. We also hope you see how difficult it can be to determine which model to use, and how not all models are applicable for all datasets.\n",
        "\n",
        "<br>\n",
        "\n",
        "\n",
        "## **Cheat Sheets**\n",
        "[Week 1 Python Basics](https://docs.google.com/document/d/1wPE-OttcW-LB92xeeFyqZUr0s2LA9Wz__WeoWsxk0Nc/edit?usp=share_link)\n",
        "\n",
        "[Week 2 EDA with pandas](https://docs.google.com/document/d/1QUChtVu2FUa7zhS0kmloUVbvxkCPe8-5kHvjKDv4Z90/edit?usp=share_link)\n",
        "\n",
        "[Week 3 Data Visualization with matplotlib](https://docs.google.com/document/d/1ZGxNRhqOYOr18uZ7CafmiHVJjs3-JkfYD-WzZVgsUF8/edit?usp=share_link)\n",
        "\n",
        "[Weeks 5 - 6 K-Nearest Neighbors with sklearn](https://docs.google.com/document/d/1zXnjxN75ppoi48qrxMw2W_rBZV2W-XKa4aaRzcOdnCs/edit?usp=share_link)\n",
        "\n",
        "[Weeks 7 - 8 Linear Regression with sklearn](https://docs.google.com/document/d/1TpbSn1kReOCahuWPSUbxPCNJpr_6jlgXvzXiY1v7y-M/edit?usp=share_link)\n",
        "\n",
        "[Weeks 10 - 11 Decision Trees with sklearn](https://docs.google.com/document/d/1eCoCpYBmwTGX2AHU0Pu1ZpIeFPU1hog8ouO_9aZpSyI/edit?usp=sharing)\n",
        "\n",
        "\n",
        "[Week 11 Images with matplotlib and numpy](https://docs.google.com/document/d/1BD7O_e95MfBTtpZOZvr1HTgf8WMGNXrqFr5sx-Lq7rw/edit?usp=sharing)\n"
      ]
    },
    {
      "cell_type": "markdown",
      "source": [
        "---\n",
        "## **Part 0: Import functions**\n",
        "---\n",
        "\n",
        "**Run the code below before continuing.**"
      ],
      "metadata": {
        "id": "XG2yroVxQvxa"
      }
    },
    {
      "cell_type": "code",
      "source": [
        "import warnings\n",
        "warnings.filterwarnings('ignore')\n",
        "\n",
        "import pandas as pd\n",
        "import numpy as np\n",
        "import matplotlib.pyplot as plt\n",
        "\n",
        "from sklearn import datasets, model_selection\n",
        "from sklearn import metrics\n",
        "\n",
        "from sklearn.model_selection import train_test_split\n",
        "from sklearn.neighbors import KNeighborsClassifier\n",
        "from sklearn.linear_model import LinearRegression\n",
        "from sklearn.tree import export_graphviz\n",
        "from sklearn.tree import DecisionTreeClassifier\n",
        "from sklearn.ensemble import RandomForestRegressor, GradientBoostingRegressor\n",
        "from sklearn.ensemble import RandomForestClassifier, GradientBoostingClassifier\n",
        "from sklearn.metrics import *\n",
        "\n",
        "import graphviz\n",
        "import warnings"
      ],
      "metadata": {
        "id": "1thh82E7QtTy"
      },
      "execution_count": 2,
      "outputs": []
    },
    {
      "cell_type": "markdown",
      "source": [
        "---\n",
        "## **Part 1: Supervised Learning Review (during lab)**\n",
        "---\n",
        "\n",
        "In this section you will review data and predict which type of supervised learning model will best illustrate the relationship between the different features in the table. Then you will create and run both a KNN and regression model to test your hypotheses.\n",
        "<br>\n",
        "\n",
        "\n"
      ],
      "metadata": {
        "id": "UBA3TtmEl65Y"
      }
    },
    {
      "cell_type": "markdown",
      "source": [
        "---\n",
        "\n",
        "<center>\n",
        "\n",
        "### **Feature Selection**\n",
        "\n",
        "</center>\n",
        "\n",
        "---"
      ],
      "metadata": {
        "id": "YLc1SDEO0jqL"
      }
    },
    {
      "cell_type": "markdown",
      "source": [
        "### **Exercise #1**\n",
        "\n",
        "You will load the dataset from a google sheet that was published as a csv file. Then you will print is out to get a first look at the data."
      ],
      "metadata": {
        "id": "6mZO0YV0ssTG"
      }
    },
    {
      "cell_type": "markdown",
      "source": [
        "**Exercise 1:** Run this code to load the data.<br>"
      ],
      "metadata": {
        "id": "QpaZy1Dpg1H8"
      }
    },
    {
      "cell_type": "code",
      "source": [
        "url = \"https://docs.google.com/spreadsheets/d/e/2PACX-1vTskkLnsDmWoUDPfQHxWZLgvaIsvp07fa-_OKTfx4nZbk3GpRgAxLR9dvyL4uBDoUL2eSfBPojlHduf/pub?output=csv\"\n",
        "df=pd.read_csv(url)\n",
        "\n",
        "print(df.head())"
      ],
      "metadata": {
        "colab": {
          "base_uri": "https://localhost:8080/"
        },
        "id": "8iKFOxrYg54p",
        "outputId": "74c1fe7c-cea9-4e71-e221-f21e7a623374"
      },
      "execution_count": 3,
      "outputs": [
        {
          "output_type": "stream",
          "name": "stdout",
          "text": [
            "       date  count  holiday  workday  temp  feels_like  humidity  wind  \\\n",
            "0  4/1/2018    436        0        0    13          11        45     4   \n",
            "1  4/2/2018    391        0        1     9           8        65     2   \n",
            "2  4/3/2018    384        0        1     8           6        73     3   \n",
            "3  4/4/2018    413        0        1    13          13        65     4   \n",
            "4  4/5/2018    489        0        1     7           4        35     5   \n",
            "\n",
            "   weather  \n",
            "0        1  \n",
            "1        1  \n",
            "2        2  \n",
            "3        1  \n",
            "4        1  \n"
          ]
        }
      ]
    },
    {
      "cell_type": "markdown",
      "metadata": {
        "id": "4hSqHdxjid5M"
      },
      "source": [
        "### **Exercise #2**\n",
        "\n",
        "Next you will determine the coorelations between the variables in the dataset and the variance of each feature.  This will help you choose features to use for your model.\n",
        "\n",
        "ENTER THE CODE TO PRINT THE CORRELATIONS AND VARIANCE.\n",
        "\n"
      ]
    },
    {
      "cell_type": "code",
      "source": [
        "df.corr()"
      ],
      "metadata": {
        "id": "NTMQbg4B541S",
        "colab": {
          "base_uri": "https://localhost:8080/",
          "height": 291
        },
        "outputId": "d4dde2a7-d63e-4d10-b0ae-4d54e9107c1a"
      },
      "execution_count": 4,
      "outputs": [
        {
          "output_type": "error",
          "ename": "ValueError",
          "evalue": "could not convert string to float: '4/1/2018'",
          "traceback": [
            "\u001b[0;31m---------------------------------------------------------------------------\u001b[0m",
            "\u001b[0;31mValueError\u001b[0m                                Traceback (most recent call last)",
            "\u001b[0;32m<ipython-input-4-2f6f6606aa2c>\u001b[0m in \u001b[0;36m<cell line: 1>\u001b[0;34m()\u001b[0m\n\u001b[0;32m----> 1\u001b[0;31m \u001b[0mdf\u001b[0m\u001b[0;34m.\u001b[0m\u001b[0mcorr\u001b[0m\u001b[0;34m(\u001b[0m\u001b[0;34m)\u001b[0m\u001b[0;34m\u001b[0m\u001b[0;34m\u001b[0m\u001b[0m\n\u001b[0m",
            "\u001b[0;32m/usr/local/lib/python3.10/dist-packages/pandas/core/frame.py\u001b[0m in \u001b[0;36mcorr\u001b[0;34m(self, method, min_periods, numeric_only)\u001b[0m\n\u001b[1;32m  11047\u001b[0m         \u001b[0mcols\u001b[0m \u001b[0;34m=\u001b[0m \u001b[0mdata\u001b[0m\u001b[0;34m.\u001b[0m\u001b[0mcolumns\u001b[0m\u001b[0;34m\u001b[0m\u001b[0;34m\u001b[0m\u001b[0m\n\u001b[1;32m  11048\u001b[0m         \u001b[0midx\u001b[0m \u001b[0;34m=\u001b[0m \u001b[0mcols\u001b[0m\u001b[0;34m.\u001b[0m\u001b[0mcopy\u001b[0m\u001b[0;34m(\u001b[0m\u001b[0;34m)\u001b[0m\u001b[0;34m\u001b[0m\u001b[0;34m\u001b[0m\u001b[0m\n\u001b[0;32m> 11049\u001b[0;31m         \u001b[0mmat\u001b[0m \u001b[0;34m=\u001b[0m \u001b[0mdata\u001b[0m\u001b[0;34m.\u001b[0m\u001b[0mto_numpy\u001b[0m\u001b[0;34m(\u001b[0m\u001b[0mdtype\u001b[0m\u001b[0;34m=\u001b[0m\u001b[0mfloat\u001b[0m\u001b[0;34m,\u001b[0m \u001b[0mna_value\u001b[0m\u001b[0;34m=\u001b[0m\u001b[0mnp\u001b[0m\u001b[0;34m.\u001b[0m\u001b[0mnan\u001b[0m\u001b[0;34m,\u001b[0m \u001b[0mcopy\u001b[0m\u001b[0;34m=\u001b[0m\u001b[0;32mFalse\u001b[0m\u001b[0;34m)\u001b[0m\u001b[0;34m\u001b[0m\u001b[0;34m\u001b[0m\u001b[0m\n\u001b[0m\u001b[1;32m  11050\u001b[0m \u001b[0;34m\u001b[0m\u001b[0m\n\u001b[1;32m  11051\u001b[0m         \u001b[0;32mif\u001b[0m \u001b[0mmethod\u001b[0m \u001b[0;34m==\u001b[0m \u001b[0;34m\"pearson\"\u001b[0m\u001b[0;34m:\u001b[0m\u001b[0;34m\u001b[0m\u001b[0;34m\u001b[0m\u001b[0m\n",
            "\u001b[0;32m/usr/local/lib/python3.10/dist-packages/pandas/core/frame.py\u001b[0m in \u001b[0;36mto_numpy\u001b[0;34m(self, dtype, copy, na_value)\u001b[0m\n\u001b[1;32m   1991\u001b[0m         \u001b[0;32mif\u001b[0m \u001b[0mdtype\u001b[0m \u001b[0;32mis\u001b[0m \u001b[0;32mnot\u001b[0m \u001b[0;32mNone\u001b[0m\u001b[0;34m:\u001b[0m\u001b[0;34m\u001b[0m\u001b[0;34m\u001b[0m\u001b[0m\n\u001b[1;32m   1992\u001b[0m             \u001b[0mdtype\u001b[0m \u001b[0;34m=\u001b[0m \u001b[0mnp\u001b[0m\u001b[0;34m.\u001b[0m\u001b[0mdtype\u001b[0m\u001b[0;34m(\u001b[0m\u001b[0mdtype\u001b[0m\u001b[0;34m)\u001b[0m\u001b[0;34m\u001b[0m\u001b[0;34m\u001b[0m\u001b[0m\n\u001b[0;32m-> 1993\u001b[0;31m         \u001b[0mresult\u001b[0m \u001b[0;34m=\u001b[0m \u001b[0mself\u001b[0m\u001b[0;34m.\u001b[0m\u001b[0m_mgr\u001b[0m\u001b[0;34m.\u001b[0m\u001b[0mas_array\u001b[0m\u001b[0;34m(\u001b[0m\u001b[0mdtype\u001b[0m\u001b[0;34m=\u001b[0m\u001b[0mdtype\u001b[0m\u001b[0;34m,\u001b[0m \u001b[0mcopy\u001b[0m\u001b[0;34m=\u001b[0m\u001b[0mcopy\u001b[0m\u001b[0;34m,\u001b[0m \u001b[0mna_value\u001b[0m\u001b[0;34m=\u001b[0m\u001b[0mna_value\u001b[0m\u001b[0;34m)\u001b[0m\u001b[0;34m\u001b[0m\u001b[0;34m\u001b[0m\u001b[0m\n\u001b[0m\u001b[1;32m   1994\u001b[0m         \u001b[0;32mif\u001b[0m \u001b[0mresult\u001b[0m\u001b[0;34m.\u001b[0m\u001b[0mdtype\u001b[0m \u001b[0;32mis\u001b[0m \u001b[0;32mnot\u001b[0m \u001b[0mdtype\u001b[0m\u001b[0;34m:\u001b[0m\u001b[0;34m\u001b[0m\u001b[0;34m\u001b[0m\u001b[0m\n\u001b[1;32m   1995\u001b[0m             \u001b[0mresult\u001b[0m \u001b[0;34m=\u001b[0m \u001b[0mnp\u001b[0m\u001b[0;34m.\u001b[0m\u001b[0masarray\u001b[0m\u001b[0;34m(\u001b[0m\u001b[0mresult\u001b[0m\u001b[0;34m,\u001b[0m \u001b[0mdtype\u001b[0m\u001b[0;34m=\u001b[0m\u001b[0mdtype\u001b[0m\u001b[0;34m)\u001b[0m\u001b[0;34m\u001b[0m\u001b[0;34m\u001b[0m\u001b[0m\n",
            "\u001b[0;32m/usr/local/lib/python3.10/dist-packages/pandas/core/internals/managers.py\u001b[0m in \u001b[0;36mas_array\u001b[0;34m(self, dtype, copy, na_value)\u001b[0m\n\u001b[1;32m   1692\u001b[0m                 \u001b[0marr\u001b[0m\u001b[0;34m.\u001b[0m\u001b[0mflags\u001b[0m\u001b[0;34m.\u001b[0m\u001b[0mwriteable\u001b[0m \u001b[0;34m=\u001b[0m \u001b[0;32mFalse\u001b[0m\u001b[0;34m\u001b[0m\u001b[0;34m\u001b[0m\u001b[0m\n\u001b[1;32m   1693\u001b[0m         \u001b[0;32melse\u001b[0m\u001b[0;34m:\u001b[0m\u001b[0;34m\u001b[0m\u001b[0;34m\u001b[0m\u001b[0m\n\u001b[0;32m-> 1694\u001b[0;31m             \u001b[0marr\u001b[0m \u001b[0;34m=\u001b[0m \u001b[0mself\u001b[0m\u001b[0;34m.\u001b[0m\u001b[0m_interleave\u001b[0m\u001b[0;34m(\u001b[0m\u001b[0mdtype\u001b[0m\u001b[0;34m=\u001b[0m\u001b[0mdtype\u001b[0m\u001b[0;34m,\u001b[0m \u001b[0mna_value\u001b[0m\u001b[0;34m=\u001b[0m\u001b[0mna_value\u001b[0m\u001b[0;34m)\u001b[0m\u001b[0;34m\u001b[0m\u001b[0;34m\u001b[0m\u001b[0m\n\u001b[0m\u001b[1;32m   1695\u001b[0m             \u001b[0;31m# The underlying data was copied within _interleave, so no need\u001b[0m\u001b[0;34m\u001b[0m\u001b[0;34m\u001b[0m\u001b[0m\n\u001b[1;32m   1696\u001b[0m             \u001b[0;31m# to further copy if copy=True or setting na_value\u001b[0m\u001b[0;34m\u001b[0m\u001b[0;34m\u001b[0m\u001b[0m\n",
            "\u001b[0;32m/usr/local/lib/python3.10/dist-packages/pandas/core/internals/managers.py\u001b[0m in \u001b[0;36m_interleave\u001b[0;34m(self, dtype, na_value)\u001b[0m\n\u001b[1;32m   1751\u001b[0m             \u001b[0;32melse\u001b[0m\u001b[0;34m:\u001b[0m\u001b[0;34m\u001b[0m\u001b[0;34m\u001b[0m\u001b[0m\n\u001b[1;32m   1752\u001b[0m                 \u001b[0marr\u001b[0m \u001b[0;34m=\u001b[0m \u001b[0mblk\u001b[0m\u001b[0;34m.\u001b[0m\u001b[0mget_values\u001b[0m\u001b[0;34m(\u001b[0m\u001b[0mdtype\u001b[0m\u001b[0;34m)\u001b[0m\u001b[0;34m\u001b[0m\u001b[0;34m\u001b[0m\u001b[0m\n\u001b[0;32m-> 1753\u001b[0;31m             \u001b[0mresult\u001b[0m\u001b[0;34m[\u001b[0m\u001b[0mrl\u001b[0m\u001b[0;34m.\u001b[0m\u001b[0mindexer\u001b[0m\u001b[0;34m]\u001b[0m \u001b[0;34m=\u001b[0m \u001b[0marr\u001b[0m\u001b[0;34m\u001b[0m\u001b[0;34m\u001b[0m\u001b[0m\n\u001b[0m\u001b[1;32m   1754\u001b[0m             \u001b[0mitemmask\u001b[0m\u001b[0;34m[\u001b[0m\u001b[0mrl\u001b[0m\u001b[0;34m.\u001b[0m\u001b[0mindexer\u001b[0m\u001b[0;34m]\u001b[0m \u001b[0;34m=\u001b[0m \u001b[0;36m1\u001b[0m\u001b[0;34m\u001b[0m\u001b[0;34m\u001b[0m\u001b[0m\n\u001b[1;32m   1755\u001b[0m \u001b[0;34m\u001b[0m\u001b[0m\n",
            "\u001b[0;31mValueError\u001b[0m: could not convert string to float: '4/1/2018'"
          ]
        }
      ]
    },
    {
      "cell_type": "code",
      "source": [
        "df.var()"
      ],
      "metadata": {
        "colab": {
          "base_uri": "https://localhost:8080/",
          "height": 415
        },
        "id": "VHnpEDoPWVVq",
        "outputId": "96a67611-e7a9-4487-8144-0866314cf1bc"
      },
      "execution_count": 5,
      "outputs": [
        {
          "output_type": "error",
          "ename": "TypeError",
          "evalue": "could not convert string to float: '4/1/2018'",
          "traceback": [
            "\u001b[0;31m---------------------------------------------------------------------------\u001b[0m",
            "\u001b[0;31mValueError\u001b[0m                                Traceback (most recent call last)",
            "\u001b[0;32m/usr/local/lib/python3.10/dist-packages/pandas/core/nanops.py\u001b[0m in \u001b[0;36m_f\u001b[0;34m(*args, **kwargs)\u001b[0m\n\u001b[1;32m     84\u001b[0m             \u001b[0;32mtry\u001b[0m\u001b[0;34m:\u001b[0m\u001b[0;34m\u001b[0m\u001b[0;34m\u001b[0m\u001b[0m\n\u001b[0;32m---> 85\u001b[0;31m                 \u001b[0;32mreturn\u001b[0m \u001b[0mf\u001b[0m\u001b[0;34m(\u001b[0m\u001b[0;34m*\u001b[0m\u001b[0margs\u001b[0m\u001b[0;34m,\u001b[0m \u001b[0;34m**\u001b[0m\u001b[0mkwargs\u001b[0m\u001b[0;34m)\u001b[0m\u001b[0;34m\u001b[0m\u001b[0;34m\u001b[0m\u001b[0m\n\u001b[0m\u001b[1;32m     86\u001b[0m             \u001b[0;32mexcept\u001b[0m \u001b[0mValueError\u001b[0m \u001b[0;32mas\u001b[0m \u001b[0me\u001b[0m\u001b[0;34m:\u001b[0m\u001b[0;34m\u001b[0m\u001b[0;34m\u001b[0m\u001b[0m\n",
            "\u001b[0;32m/usr/local/lib/python3.10/dist-packages/pandas/core/nanops.py\u001b[0m in \u001b[0;36mf\u001b[0;34m(values, axis, skipna, **kwds)\u001b[0m\n\u001b[1;32m    146\u001b[0m             \u001b[0;32melse\u001b[0m\u001b[0;34m:\u001b[0m\u001b[0;34m\u001b[0m\u001b[0;34m\u001b[0m\u001b[0m\n\u001b[0;32m--> 147\u001b[0;31m                 \u001b[0mresult\u001b[0m \u001b[0;34m=\u001b[0m \u001b[0malt\u001b[0m\u001b[0;34m(\u001b[0m\u001b[0mvalues\u001b[0m\u001b[0;34m,\u001b[0m \u001b[0maxis\u001b[0m\u001b[0;34m=\u001b[0m\u001b[0maxis\u001b[0m\u001b[0;34m,\u001b[0m \u001b[0mskipna\u001b[0m\u001b[0;34m=\u001b[0m\u001b[0mskipna\u001b[0m\u001b[0;34m,\u001b[0m \u001b[0;34m**\u001b[0m\u001b[0mkwds\u001b[0m\u001b[0;34m)\u001b[0m\u001b[0;34m\u001b[0m\u001b[0;34m\u001b[0m\u001b[0m\n\u001b[0m\u001b[1;32m    148\u001b[0m \u001b[0;34m\u001b[0m\u001b[0m\n",
            "\u001b[0;32m/usr/local/lib/python3.10/dist-packages/pandas/core/nanops.py\u001b[0m in \u001b[0;36mnanvar\u001b[0;34m(values, axis, skipna, ddof, mask)\u001b[0m\n\u001b[1;32m   1012\u001b[0m     \u001b[0;31m# See https://en.wikipedia.org/wiki/Algorithms_for_calculating_variance\u001b[0m\u001b[0;34m\u001b[0m\u001b[0;34m\u001b[0m\u001b[0m\n\u001b[0;32m-> 1013\u001b[0;31m     \u001b[0mavg\u001b[0m \u001b[0;34m=\u001b[0m \u001b[0m_ensure_numeric\u001b[0m\u001b[0;34m(\u001b[0m\u001b[0mvalues\u001b[0m\u001b[0;34m.\u001b[0m\u001b[0msum\u001b[0m\u001b[0;34m(\u001b[0m\u001b[0maxis\u001b[0m\u001b[0;34m=\u001b[0m\u001b[0maxis\u001b[0m\u001b[0;34m,\u001b[0m \u001b[0mdtype\u001b[0m\u001b[0;34m=\u001b[0m\u001b[0mnp\u001b[0m\u001b[0;34m.\u001b[0m\u001b[0mfloat64\u001b[0m\u001b[0;34m)\u001b[0m\u001b[0;34m)\u001b[0m \u001b[0;34m/\u001b[0m \u001b[0mcount\u001b[0m\u001b[0;34m\u001b[0m\u001b[0;34m\u001b[0m\u001b[0m\n\u001b[0m\u001b[1;32m   1014\u001b[0m     \u001b[0;32mif\u001b[0m \u001b[0maxis\u001b[0m \u001b[0;32mis\u001b[0m \u001b[0;32mnot\u001b[0m \u001b[0;32mNone\u001b[0m\u001b[0;34m:\u001b[0m\u001b[0;34m\u001b[0m\u001b[0;34m\u001b[0m\u001b[0m\n",
            "\u001b[0;32m/usr/local/lib/python3.10/dist-packages/numpy/core/_methods.py\u001b[0m in \u001b[0;36m_sum\u001b[0;34m(a, axis, dtype, out, keepdims, initial, where)\u001b[0m\n\u001b[1;32m     48\u001b[0m          initial=_NoValue, where=True):\n\u001b[0;32m---> 49\u001b[0;31m     \u001b[0;32mreturn\u001b[0m \u001b[0mumr_sum\u001b[0m\u001b[0;34m(\u001b[0m\u001b[0ma\u001b[0m\u001b[0;34m,\u001b[0m \u001b[0maxis\u001b[0m\u001b[0;34m,\u001b[0m \u001b[0mdtype\u001b[0m\u001b[0;34m,\u001b[0m \u001b[0mout\u001b[0m\u001b[0;34m,\u001b[0m \u001b[0mkeepdims\u001b[0m\u001b[0;34m,\u001b[0m \u001b[0minitial\u001b[0m\u001b[0;34m,\u001b[0m \u001b[0mwhere\u001b[0m\u001b[0;34m)\u001b[0m\u001b[0;34m\u001b[0m\u001b[0;34m\u001b[0m\u001b[0m\n\u001b[0m\u001b[1;32m     50\u001b[0m \u001b[0;34m\u001b[0m\u001b[0m\n",
            "\u001b[0;31mValueError\u001b[0m: could not convert string to float: '4/1/2018'",
            "\nThe above exception was the direct cause of the following exception:\n",
            "\u001b[0;31mTypeError\u001b[0m                                 Traceback (most recent call last)",
            "\u001b[0;32m<ipython-input-5-28ded241fd7c>\u001b[0m in \u001b[0;36m<cell line: 1>\u001b[0;34m()\u001b[0m\n\u001b[0;32m----> 1\u001b[0;31m \u001b[0mdf\u001b[0m\u001b[0;34m.\u001b[0m\u001b[0mvar\u001b[0m\u001b[0;34m(\u001b[0m\u001b[0;34m)\u001b[0m\u001b[0;34m\u001b[0m\u001b[0;34m\u001b[0m\u001b[0m\n\u001b[0m",
            "\u001b[0;32m/usr/local/lib/python3.10/dist-packages/pandas/core/frame.py\u001b[0m in \u001b[0;36mvar\u001b[0;34m(self, axis, skipna, ddof, numeric_only, **kwargs)\u001b[0m\n\u001b[1;32m  11732\u001b[0m         \u001b[0;34m**\u001b[0m\u001b[0mkwargs\u001b[0m\u001b[0;34m,\u001b[0m\u001b[0;34m\u001b[0m\u001b[0;34m\u001b[0m\u001b[0m\n\u001b[1;32m  11733\u001b[0m     ):\n\u001b[0;32m> 11734\u001b[0;31m         \u001b[0mresult\u001b[0m \u001b[0;34m=\u001b[0m \u001b[0msuper\u001b[0m\u001b[0;34m(\u001b[0m\u001b[0;34m)\u001b[0m\u001b[0;34m.\u001b[0m\u001b[0mvar\u001b[0m\u001b[0;34m(\u001b[0m\u001b[0maxis\u001b[0m\u001b[0;34m,\u001b[0m \u001b[0mskipna\u001b[0m\u001b[0;34m,\u001b[0m \u001b[0mddof\u001b[0m\u001b[0;34m,\u001b[0m \u001b[0mnumeric_only\u001b[0m\u001b[0;34m,\u001b[0m \u001b[0;34m**\u001b[0m\u001b[0mkwargs\u001b[0m\u001b[0;34m)\u001b[0m\u001b[0;34m\u001b[0m\u001b[0;34m\u001b[0m\u001b[0m\n\u001b[0m\u001b[1;32m  11735\u001b[0m         \u001b[0;32mif\u001b[0m \u001b[0misinstance\u001b[0m\u001b[0;34m(\u001b[0m\u001b[0mresult\u001b[0m\u001b[0;34m,\u001b[0m \u001b[0mSeries\u001b[0m\u001b[0;34m)\u001b[0m\u001b[0;34m:\u001b[0m\u001b[0;34m\u001b[0m\u001b[0;34m\u001b[0m\u001b[0m\n\u001b[1;32m  11736\u001b[0m             \u001b[0mresult\u001b[0m \u001b[0;34m=\u001b[0m \u001b[0mresult\u001b[0m\u001b[0;34m.\u001b[0m\u001b[0m__finalize__\u001b[0m\u001b[0;34m(\u001b[0m\u001b[0mself\u001b[0m\u001b[0;34m,\u001b[0m \u001b[0mmethod\u001b[0m\u001b[0;34m=\u001b[0m\u001b[0;34m\"var\"\u001b[0m\u001b[0;34m)\u001b[0m\u001b[0;34m\u001b[0m\u001b[0;34m\u001b[0m\u001b[0m\n",
            "\u001b[0;32m/usr/local/lib/python3.10/dist-packages/pandas/core/generic.py\u001b[0m in \u001b[0;36mvar\u001b[0;34m(self, axis, skipna, ddof, numeric_only, **kwargs)\u001b[0m\n\u001b[1;32m  12344\u001b[0m         \u001b[0;34m**\u001b[0m\u001b[0mkwargs\u001b[0m\u001b[0;34m,\u001b[0m\u001b[0;34m\u001b[0m\u001b[0;34m\u001b[0m\u001b[0m\n\u001b[1;32m  12345\u001b[0m     ) -> Series | float:\n\u001b[0;32m> 12346\u001b[0;31m         return self._stat_function_ddof(\n\u001b[0m\u001b[1;32m  12347\u001b[0m             \u001b[0;34m\"var\"\u001b[0m\u001b[0;34m,\u001b[0m \u001b[0mnanops\u001b[0m\u001b[0;34m.\u001b[0m\u001b[0mnanvar\u001b[0m\u001b[0;34m,\u001b[0m \u001b[0maxis\u001b[0m\u001b[0;34m,\u001b[0m \u001b[0mskipna\u001b[0m\u001b[0;34m,\u001b[0m \u001b[0mddof\u001b[0m\u001b[0;34m,\u001b[0m \u001b[0mnumeric_only\u001b[0m\u001b[0;34m,\u001b[0m \u001b[0;34m**\u001b[0m\u001b[0mkwargs\u001b[0m\u001b[0;34m\u001b[0m\u001b[0;34m\u001b[0m\u001b[0m\n\u001b[1;32m  12348\u001b[0m         )\n",
            "\u001b[0;32m/usr/local/lib/python3.10/dist-packages/pandas/core/generic.py\u001b[0m in \u001b[0;36m_stat_function_ddof\u001b[0;34m(self, name, func, axis, skipna, ddof, numeric_only, **kwargs)\u001b[0m\n\u001b[1;32m  12320\u001b[0m             \u001b[0maxis\u001b[0m \u001b[0;34m=\u001b[0m \u001b[0;36m0\u001b[0m\u001b[0;34m\u001b[0m\u001b[0;34m\u001b[0m\u001b[0m\n\u001b[1;32m  12321\u001b[0m \u001b[0;34m\u001b[0m\u001b[0m\n\u001b[0;32m> 12322\u001b[0;31m         return self._reduce(\n\u001b[0m\u001b[1;32m  12323\u001b[0m             \u001b[0mfunc\u001b[0m\u001b[0;34m,\u001b[0m \u001b[0mname\u001b[0m\u001b[0;34m,\u001b[0m \u001b[0maxis\u001b[0m\u001b[0;34m=\u001b[0m\u001b[0maxis\u001b[0m\u001b[0;34m,\u001b[0m \u001b[0mnumeric_only\u001b[0m\u001b[0;34m=\u001b[0m\u001b[0mnumeric_only\u001b[0m\u001b[0;34m,\u001b[0m \u001b[0mskipna\u001b[0m\u001b[0;34m=\u001b[0m\u001b[0mskipna\u001b[0m\u001b[0;34m,\u001b[0m \u001b[0mddof\u001b[0m\u001b[0;34m=\u001b[0m\u001b[0mddof\u001b[0m\u001b[0;34m\u001b[0m\u001b[0;34m\u001b[0m\u001b[0m\n\u001b[1;32m  12324\u001b[0m         )\n",
            "\u001b[0;32m/usr/local/lib/python3.10/dist-packages/pandas/core/frame.py\u001b[0m in \u001b[0;36m_reduce\u001b[0;34m(self, op, name, axis, skipna, numeric_only, filter_type, **kwds)\u001b[0m\n\u001b[1;32m  11560\u001b[0m         \u001b[0;31m# After possibly _get_data and transposing, we are now in the\u001b[0m\u001b[0;34m\u001b[0m\u001b[0;34m\u001b[0m\u001b[0m\n\u001b[1;32m  11561\u001b[0m         \u001b[0;31m#  simple case where we can use BlockManager.reduce\u001b[0m\u001b[0;34m\u001b[0m\u001b[0;34m\u001b[0m\u001b[0m\n\u001b[0;32m> 11562\u001b[0;31m         \u001b[0mres\u001b[0m \u001b[0;34m=\u001b[0m \u001b[0mdf\u001b[0m\u001b[0;34m.\u001b[0m\u001b[0m_mgr\u001b[0m\u001b[0;34m.\u001b[0m\u001b[0mreduce\u001b[0m\u001b[0;34m(\u001b[0m\u001b[0mblk_func\u001b[0m\u001b[0;34m)\u001b[0m\u001b[0;34m\u001b[0m\u001b[0;34m\u001b[0m\u001b[0m\n\u001b[0m\u001b[1;32m  11563\u001b[0m         \u001b[0mout\u001b[0m \u001b[0;34m=\u001b[0m \u001b[0mdf\u001b[0m\u001b[0;34m.\u001b[0m\u001b[0m_constructor_from_mgr\u001b[0m\u001b[0;34m(\u001b[0m\u001b[0mres\u001b[0m\u001b[0;34m,\u001b[0m \u001b[0maxes\u001b[0m\u001b[0;34m=\u001b[0m\u001b[0mres\u001b[0m\u001b[0;34m.\u001b[0m\u001b[0maxes\u001b[0m\u001b[0;34m)\u001b[0m\u001b[0;34m.\u001b[0m\u001b[0miloc\u001b[0m\u001b[0;34m[\u001b[0m\u001b[0;36m0\u001b[0m\u001b[0;34m]\u001b[0m\u001b[0;34m\u001b[0m\u001b[0;34m\u001b[0m\u001b[0m\n\u001b[1;32m  11564\u001b[0m         \u001b[0;32mif\u001b[0m \u001b[0mout_dtype\u001b[0m \u001b[0;32mis\u001b[0m \u001b[0;32mnot\u001b[0m \u001b[0;32mNone\u001b[0m \u001b[0;32mand\u001b[0m \u001b[0mout\u001b[0m\u001b[0;34m.\u001b[0m\u001b[0mdtype\u001b[0m \u001b[0;34m!=\u001b[0m \u001b[0;34m\"boolean\"\u001b[0m\u001b[0;34m:\u001b[0m\u001b[0;34m\u001b[0m\u001b[0;34m\u001b[0m\u001b[0m\n",
            "\u001b[0;32m/usr/local/lib/python3.10/dist-packages/pandas/core/internals/managers.py\u001b[0m in \u001b[0;36mreduce\u001b[0;34m(self, func)\u001b[0m\n\u001b[1;32m   1498\u001b[0m         \u001b[0mres_blocks\u001b[0m\u001b[0;34m:\u001b[0m \u001b[0mlist\u001b[0m\u001b[0;34m[\u001b[0m\u001b[0mBlock\u001b[0m\u001b[0;34m]\u001b[0m \u001b[0;34m=\u001b[0m \u001b[0;34m[\u001b[0m\u001b[0;34m]\u001b[0m\u001b[0;34m\u001b[0m\u001b[0;34m\u001b[0m\u001b[0m\n\u001b[1;32m   1499\u001b[0m         \u001b[0;32mfor\u001b[0m \u001b[0mblk\u001b[0m \u001b[0;32min\u001b[0m \u001b[0mself\u001b[0m\u001b[0;34m.\u001b[0m\u001b[0mblocks\u001b[0m\u001b[0;34m:\u001b[0m\u001b[0;34m\u001b[0m\u001b[0;34m\u001b[0m\u001b[0m\n\u001b[0;32m-> 1500\u001b[0;31m             \u001b[0mnbs\u001b[0m \u001b[0;34m=\u001b[0m \u001b[0mblk\u001b[0m\u001b[0;34m.\u001b[0m\u001b[0mreduce\u001b[0m\u001b[0;34m(\u001b[0m\u001b[0mfunc\u001b[0m\u001b[0;34m)\u001b[0m\u001b[0;34m\u001b[0m\u001b[0;34m\u001b[0m\u001b[0m\n\u001b[0m\u001b[1;32m   1501\u001b[0m             \u001b[0mres_blocks\u001b[0m\u001b[0;34m.\u001b[0m\u001b[0mextend\u001b[0m\u001b[0;34m(\u001b[0m\u001b[0mnbs\u001b[0m\u001b[0;34m)\u001b[0m\u001b[0;34m\u001b[0m\u001b[0;34m\u001b[0m\u001b[0m\n\u001b[1;32m   1502\u001b[0m \u001b[0;34m\u001b[0m\u001b[0m\n",
            "\u001b[0;32m/usr/local/lib/python3.10/dist-packages/pandas/core/internals/blocks.py\u001b[0m in \u001b[0;36mreduce\u001b[0;34m(self, func)\u001b[0m\n\u001b[1;32m    402\u001b[0m         \u001b[0;32massert\u001b[0m \u001b[0mself\u001b[0m\u001b[0;34m.\u001b[0m\u001b[0mndim\u001b[0m \u001b[0;34m==\u001b[0m \u001b[0;36m2\u001b[0m\u001b[0;34m\u001b[0m\u001b[0;34m\u001b[0m\u001b[0m\n\u001b[1;32m    403\u001b[0m \u001b[0;34m\u001b[0m\u001b[0m\n\u001b[0;32m--> 404\u001b[0;31m         \u001b[0mresult\u001b[0m \u001b[0;34m=\u001b[0m \u001b[0mfunc\u001b[0m\u001b[0;34m(\u001b[0m\u001b[0mself\u001b[0m\u001b[0;34m.\u001b[0m\u001b[0mvalues\u001b[0m\u001b[0;34m)\u001b[0m\u001b[0;34m\u001b[0m\u001b[0;34m\u001b[0m\u001b[0m\n\u001b[0m\u001b[1;32m    405\u001b[0m \u001b[0;34m\u001b[0m\u001b[0m\n\u001b[1;32m    406\u001b[0m         \u001b[0;32mif\u001b[0m \u001b[0mself\u001b[0m\u001b[0;34m.\u001b[0m\u001b[0mvalues\u001b[0m\u001b[0;34m.\u001b[0m\u001b[0mndim\u001b[0m \u001b[0;34m==\u001b[0m \u001b[0;36m1\u001b[0m\u001b[0;34m:\u001b[0m\u001b[0;34m\u001b[0m\u001b[0;34m\u001b[0m\u001b[0m\n",
            "\u001b[0;32m/usr/local/lib/python3.10/dist-packages/pandas/core/frame.py\u001b[0m in \u001b[0;36mblk_func\u001b[0;34m(values, axis)\u001b[0m\n\u001b[1;32m  11479\u001b[0m                     \u001b[0;32mreturn\u001b[0m \u001b[0mnp\u001b[0m\u001b[0;34m.\u001b[0m\u001b[0marray\u001b[0m\u001b[0;34m(\u001b[0m\u001b[0;34m[\u001b[0m\u001b[0mresult\u001b[0m\u001b[0;34m]\u001b[0m\u001b[0;34m)\u001b[0m\u001b[0;34m\u001b[0m\u001b[0;34m\u001b[0m\u001b[0m\n\u001b[1;32m  11480\u001b[0m             \u001b[0;32melse\u001b[0m\u001b[0;34m:\u001b[0m\u001b[0;34m\u001b[0m\u001b[0;34m\u001b[0m\u001b[0m\n\u001b[0;32m> 11481\u001b[0;31m                 \u001b[0;32mreturn\u001b[0m \u001b[0mop\u001b[0m\u001b[0;34m(\u001b[0m\u001b[0mvalues\u001b[0m\u001b[0;34m,\u001b[0m \u001b[0maxis\u001b[0m\u001b[0;34m=\u001b[0m\u001b[0maxis\u001b[0m\u001b[0;34m,\u001b[0m \u001b[0mskipna\u001b[0m\u001b[0;34m=\u001b[0m\u001b[0mskipna\u001b[0m\u001b[0;34m,\u001b[0m \u001b[0;34m**\u001b[0m\u001b[0mkwds\u001b[0m\u001b[0;34m)\u001b[0m\u001b[0;34m\u001b[0m\u001b[0;34m\u001b[0m\u001b[0m\n\u001b[0m\u001b[1;32m  11482\u001b[0m \u001b[0;34m\u001b[0m\u001b[0m\n\u001b[1;32m  11483\u001b[0m         \u001b[0;32mdef\u001b[0m \u001b[0m_get_data\u001b[0m\u001b[0;34m(\u001b[0m\u001b[0;34m)\u001b[0m \u001b[0;34m->\u001b[0m \u001b[0mDataFrame\u001b[0m\u001b[0;34m:\u001b[0m\u001b[0;34m\u001b[0m\u001b[0;34m\u001b[0m\u001b[0m\n",
            "\u001b[0;32m/usr/local/lib/python3.10/dist-packages/pandas/core/nanops.py\u001b[0m in \u001b[0;36m_f\u001b[0;34m(*args, **kwargs)\u001b[0m\n\u001b[1;32m     90\u001b[0m                 \u001b[0;31m# object arrays that contain strings\u001b[0m\u001b[0;34m\u001b[0m\u001b[0;34m\u001b[0m\u001b[0m\n\u001b[1;32m     91\u001b[0m                 \u001b[0;32mif\u001b[0m \u001b[0mis_object_dtype\u001b[0m\u001b[0;34m(\u001b[0m\u001b[0margs\u001b[0m\u001b[0;34m[\u001b[0m\u001b[0;36m0\u001b[0m\u001b[0;34m]\u001b[0m\u001b[0;34m)\u001b[0m\u001b[0;34m:\u001b[0m\u001b[0;34m\u001b[0m\u001b[0;34m\u001b[0m\u001b[0m\n\u001b[0;32m---> 92\u001b[0;31m                     \u001b[0;32mraise\u001b[0m \u001b[0mTypeError\u001b[0m\u001b[0;34m(\u001b[0m\u001b[0me\u001b[0m\u001b[0;34m)\u001b[0m \u001b[0;32mfrom\u001b[0m \u001b[0me\u001b[0m\u001b[0;34m\u001b[0m\u001b[0;34m\u001b[0m\u001b[0m\n\u001b[0m\u001b[1;32m     93\u001b[0m                 \u001b[0;32mraise\u001b[0m\u001b[0;34m\u001b[0m\u001b[0;34m\u001b[0m\u001b[0m\n\u001b[1;32m     94\u001b[0m \u001b[0;34m\u001b[0m\u001b[0m\n",
            "\u001b[0;31mTypeError\u001b[0m: could not convert string to float: '4/1/2018'"
          ]
        }
      ]
    },
    {
      "cell_type": "markdown",
      "source": [
        "### **Exercise #3**\n",
        "To help narrow down the features to use, you will train a decision tree on this data and see how it rates the importance of features.\n",
        "\n",
        "MAKE THE FOLLOWING CHANGES TO THE CODE BELOW:\n",
        "\n",
        "Rename parameter1 and parameter2 to drop the **count** and **date** fields<br>\n",
        "Change the test_size to **0.3**"
      ],
      "metadata": {
        "id": "KbG_-MrqBocH"
      }
    },
    {
      "cell_type": "code",
      "source": [
        "inputs = df.drop([\"count\",\"date\"], axis=1)\n",
        "output = df[\"count\"]\n",
        "X_train, X_test, y_train, y_test = train_test_split(inputs, output, test_size = 0.3, random_state = 42)\n",
        "\n",
        "tree = DecisionTreeClassifier()\n",
        "tree.fit(X_train, y_train)\n",
        "\n",
        "plt.figure(figsize = (8, 5))\n",
        "plt.bar(X_test.columns, tree.feature_importances_)\n",
        "\n",
        "plt.title(\"Importance of Each Feature According to Decision Tree\", fontsize = \"x-large\")\n",
        "plt.xlabel(\"Feature\", fontsize = \"x-large\")\n",
        "plt.ylabel(\"Importance\", fontsize = \"x-large\")\n",
        "\n",
        "plt.xticks(rotation = 90)\n",
        "\n",
        "plt.show()"
      ],
      "metadata": {
        "id": "kcqChyBfS4Vy",
        "colab": {
          "base_uri": "https://localhost:8080/",
          "height": 543
        },
        "outputId": "f0c4056e-23df-4dab-fc20-e953041eb56d"
      },
      "execution_count": 6,
      "outputs": [
        {
          "output_type": "display_data",
          "data": {
            "text/plain": [
              "<Figure size 800x500 with 1 Axes>"
            ],
            "image/png": "[encoded data removed]"
          },
          "metadata": {}
        }
      ]
    },
    {
      "cell_type": "markdown",
      "source": [
        "---\n",
        "\n",
        "<center>\n",
        "\n",
        "### **Linear Regression**\n",
        "\n",
        "</center>\n",
        "\n",
        "---"
      ],
      "metadata": {
        "id": "lx9Okjwa0w4Z"
      }
    },
    {
      "cell_type": "markdown",
      "source": [
        "###**Exercise #4**\n",
        "\n",
        "Now you will train and analyze a regression model using all the features, then in the next exercise you will repeat the process using only two features.  <br>\n",
        "\n",
        "MAKE THE FOLLOWING CHANGES TO THE CODE BELOW:\n",
        "\n",
        "1. Rename the variable model to **lr1_model**\n",
        "2. Rename parameter1 and parameter2 to drop the **count** and **date** fields"
      ],
      "metadata": {
        "id": "bjeq75hiiHBq"
      }
    },
    {
      "cell_type": "code",
      "source": [
        "inputs= df.drop([\"count\",\"date\"], axis=1)\n",
        "output = df[\"count\"]\n",
        "\n",
        "X_train=X_test=inputs\n",
        "y_train=y_test=output\n",
        "\n",
        "lr1_model = LinearRegression()\n",
        "lr1_model.fit(X_train,y_train)\n",
        "predictions1=lr1_model.predict(X_test)\n"
      ],
      "metadata": {
        "id": "MNJdqIixB2GJ"
      },
      "execution_count": null,
      "outputs": []
    },
    {
      "cell_type": "markdown",
      "source": [
        "Now you will plot the residuals to check for homoscedasticity.\n",
        "\n",
        "MAKE THE FOLLOWING CHANGES TO THE CODE BELOW:\n",
        "\n",
        "Change the title of the chart to **Residuals Plot using All Features**"
      ],
      "metadata": {
        "id": "vzJDTg6xi5No"
      }
    },
    {
      "cell_type": "code",
      "source": [
        "residuals1 = y_test - predictions1\n",
        "\n",
        "plt.figure(figsize = (8, 5))\n",
        "plt.scatter(predictions1, residuals1)\n",
        "\n",
        "plt.plot([predictions1.min(), predictions1.max()], [0, 0], color = \"black\")\n",
        "\n",
        "\n",
        "plt.title(\"Residuals Plot using All Features\", fontsize = \"x-large\")\n",
        "plt.xlabel(\"Predicted Value\", fontsize = \"x-large\")\n",
        "plt.ylabel(\"Residuals\", fontsize = \"x-large\")\n",
        "\n",
        "plt.show()"
      ],
      "metadata": {
        "id": "avZ9hmkDjGDQ",
        "colab": {
          "base_uri": "https://localhost:8080/",
          "height": 355
        },
        "outputId": "9b46adaf-4c6f-48bd-f67f-5bc21f4855f4"
      },
      "execution_count": null,
      "outputs": [
        {
          "output_type": "display_data",
          "data": {
            "text/plain": [
              "<Figure size 576x360 with 1 Axes>"
            ],
            "image/png": "[encoded data removed]"
          },
          "metadata": {
            "needs_background": "light"
          }
        }
      ]
    },
    {
      "cell_type": "markdown",
      "source": [
        "Now you will run evaluation metrics on the model to eventually compare it to the second model.\n"
      ],
      "metadata": {
        "id": "pMYLjI3UBRi1"
      }
    },
    {
      "cell_type": "code",
      "source": [
        "print(\"R2 for model with all features: \" + str(r2_score(y_test, predictions1)))\n",
        "\n",
        "print(\"MSE for model with all features: \" + str(mean_squared_error(y_test, predictions1)))\n",
        "print(\"MAE for model with all features: \" + str(mean_absolute_error(y_test, predictions1)))\n",
        "\n"
      ],
      "metadata": {
        "id": "KcHcpTy-WpXr",
        "colab": {
          "base_uri": "https://localhost:8080/"
        },
        "outputId": "00bf83bb-c62b-4bd0-c59c-bbae667e62e2"
      },
      "execution_count": null,
      "outputs": [
        {
          "output_type": "stream",
          "name": "stdout",
          "text": [
            "R2 for model with all features: 0.6147878873105197\n",
            "MSE for model with all features: 6454.164318080001\n",
            "MAE for model with all features: 61.98619093666411\n"
          ]
        }
      ]
    },
    {
      "cell_type": "markdown",
      "source": [
        "Finally you will run predictions using this model. In the code below, enter the labels and title for the chart.\n",
        "\n",
        "MAKE THE FOLLOWING CHANGES TO THE CODE BELOW:\n",
        "\n",
        "Change the variable model to **lr1_model**"
      ],
      "metadata": {
        "id": "GVRMvPiJBtOD"
      }
    },
    {
      "cell_type": "code",
      "source": [
        "predictions1 = lr1_model.predict(X_test)\n",
        "\n",
        "plt.figure(figsize=(8, 8))\n",
        "\n",
        "plt.scatter(y_test, predictions1)\n",
        "\n",
        "plt.plot([y_test.min(), y_test.max()], [y_test.min(), y_test.max()], color = 'black', label=\"Correct prediction\")\n",
        "\n",
        "plt.xlabel('True Value', fontsize = 'x-large')\n",
        "plt.ylabel('Predicted Value', fontsize = 'x-large')\n",
        "plt.title(\"model True vs. Predicted Values\", fontsize = 'x-large')\n",
        "plt.legend()\n",
        "plt.show()"
      ],
      "metadata": {
        "id": "NZwKAHuDSmFb",
        "colab": {
          "base_uri": "https://localhost:8080/",
          "height": 518
        },
        "outputId": "190d1aa6-4f3e-4ee4-fbea-3b1dd3b5c9c2"
      },
      "execution_count": null,
      "outputs": [
        {
          "output_type": "display_data",
          "data": {
            "text/plain": [
              "<Figure size 576x576 with 1 Axes>"
            ],
            "image/png": "[encoded data removed]"
          },
          "metadata": {
            "needs_background": "light"
          }
        }
      ]
    },
    {
      "cell_type": "markdown",
      "source": [
        "### **Exercise #5** <br>\n",
        "MAKE THE FOLLOWING CHANGES TO THE CODE BELOW:\n",
        "\n",
        "1. Rename the variable model to **lr2_model**\n",
        "2. Change the input parameters to **feels_like** and **humidity**\n"
      ],
      "metadata": {
        "id": "fb60UrvqUMWz"
      }
    },
    {
      "cell_type": "code",
      "source": [
        "inputs = df[[\"parameter1\",\"parameter2\"]]\n",
        "output = df[\"count\"]\n",
        "\n",
        "X_train=X_test=inputs\n",
        "y_train=y_test=output\n",
        "\n",
        "model = LinearRegression()\n",
        "model.fit(X_train,y_train)\n",
        "predictions2=model.predict(X_test)"
      ],
      "metadata": {
        "id": "zdqOGQqmJb5W"
      },
      "execution_count": null,
      "outputs": []
    },
    {
      "cell_type": "markdown",
      "source": [
        "Next you will plot the residuals.\n",
        "\n",
        "MAKE THE FOLLOWING CHANGES IN THE CODE BELOW:\n",
        "\n",
        "1. Change the title of the chart to **Residuals Plot using Feels_like and Humidity**\n",
        "2. Change the variable residuals to **residuals2**\n",
        "3. Change the variable predictions to **predictions2**"
      ],
      "metadata": {
        "id": "-GMRKi22U_g2"
      }
    },
    {
      "cell_type": "code",
      "source": [
        "residuals = y_test - predictions\n",
        "\n",
        "plt.figure(figsize = (8, 5))\n",
        "plt.scatter(predictions, residuals)\n",
        "\n",
        "plt.plot([predictions.min(), predictions.max()], [0, 0], color = \"black\")\n",
        "\n",
        "\n",
        "plt.title(\"Chart title\", fontsize = \"x-large\")\n",
        "plt.xlabel(\"Predicted Value\", fontsize = \"x-large\")\n",
        "plt.ylabel(\"Residuals\", fontsize = \"x-large\")\n",
        "\n",
        "plt.show()"
      ],
      "metadata": {
        "id": "JUtjaIHZJ0hG"
      },
      "execution_count": null,
      "outputs": []
    },
    {
      "cell_type": "markdown",
      "source": [
        "Now you will run evaluation metrics to compare it to the first model.\n"
      ],
      "metadata": {
        "id": "V8JjCCNDk4PG"
      }
    },
    {
      "cell_type": "code",
      "source": [
        "print(\"R2 for model with feels-Like and humidity: \" + str(r2_score(y_test, predictions2)))\n",
        "\n",
        "print(\"MSE for moel with feels_like and humidity: \" + str(mean_squared_error(y_test, predictions2)))\n",
        "print(\"MAE for model with feels_like and humidity: \" + str(mean_absolute_error(y_test, predictions2)))\n",
        "\n"
      ],
      "metadata": {
        "id": "RyAINWZUP5WF"
      },
      "execution_count": null,
      "outputs": []
    },
    {
      "cell_type": "markdown",
      "source": [
        "Finally, you will run predictions on the second model.\n",
        "\n",
        "MAKE THE FOLLOWING CHANGES TO THE CODE:\n",
        "\n",
        "1. Change the title to use the model name **lr2_model**\n",
        "2. Change the variable predictions to **predictions2**\n",
        "3. Change the variable model to **lr2_model**"
      ],
      "metadata": {
        "id": "c3zYzgPQV26N"
      }
    },
    {
      "cell_type": "code",
      "source": [
        "predictions = model.predict(X_test)\n",
        "\n",
        "plt.figure(figsize=(8, 8))\n",
        "\n",
        "plt.scatter(y_test, predictions)\n",
        "\n",
        "plt.plot([y_test.min(), y_test.max()], [y_test.min(), y_test.max()], color = 'black', label=\"Correct prediction\")\n",
        "\n",
        "plt.xlabel('True Value', fontsize = 'x-large')\n",
        "plt.ylabel('Predicted Value', fontsize = 'x-large')\n",
        "plt.title(\"True vs. Predicted Values\", fontsize = 'x-large')\n",
        "plt.legend()\n",
        "plt.show()\n"
      ],
      "metadata": {
        "id": "OjLYn1xjQWYa"
      },
      "execution_count": null,
      "outputs": []
    },
    {
      "cell_type": "markdown",
      "source": [
        "###**Exercise #6** <br>\n",
        "\n",
        "Now you can make inferences using the model you think performed the best.\n",
        "\n",
        "MAKE THE FOLLOWING CHANGES TO THE CODE:\n",
        "\n",
        "1. Change the model name to either **lr1_model** or **lr2_model** for your choice of model to run.\n",
        "2. Change the variable predictions to either **predictions1** if you are using the lr1_model or **predictions2** if you are using the lr2_model.\n",
        "3. Enter the feature for your first inference as a parameter of X_test."
      ],
      "metadata": {
        "id": "MRxfvJrkxscC"
      }
    },
    {
      "cell_type": "code",
      "source": [
        "coefficients = pd.DataFrame([model.coef_],columns=X_test.columns)\n",
        "intercept = model.intercept_\n",
        "\n",
        "print(coefficients)\n",
        "print(intercept)\n",
        "\n",
        "feature = X_test[\"parameter\"]\n",
        "\n",
        "plt.figure(figsize = (10, 8))\n",
        "plt.scatter(feature, predictions, alpha = 0.25)\n",
        "\n",
        "plt.title(\"count vs. feels_like\", fontsize = 'x-large')\n",
        "plt.xlabel(\"feels_like\", fontsize = 'x-large')\n",
        "plt.ylabel(\"Count\", fontsize = 'x-large')\n",
        "plt.show()\n"
      ],
      "metadata": {
        "id": "ApqiLt9dxsyg"
      },
      "execution_count": null,
      "outputs": []
    },
    {
      "cell_type": "markdown",
      "source": [
        "Now you will run your second inference.\n",
        "\n",
        "MAKE THE FOLLOWING CHANGES TO THE CODE BELOW:\n",
        "\n",
        "1. Change the model name to either **lr1_model** or **lr2_model** for your choice of model to run (this should be the same as you used above).\n",
        "2. Change the variable predictions to either **predictions1** if you are using the lr1_model or **predictions2** if you are using the lr2_model.\n",
        "3. Enter the feature for your second inference as a parameter of X_test."
      ],
      "metadata": {
        "id": "fBNJRRd6WsHs"
      }
    },
    {
      "cell_type": "code",
      "source": [
        "coefficients = pd.DataFrame([model.coef_],columns=X_test.columns)\n",
        "intercept = model.intercept_\n",
        "\n",
        "print(coefficients)\n",
        "print(intercept)\n",
        "\n",
        "feature = X_test[\"parameter\"]\n",
        "\n",
        "plt.figure(figsize = (10, 8))\n",
        "plt.scatter(feature, predictions, alpha = 0.25)\n",
        "\n",
        "plt.title(\"Count vs. Humidity\", fontsize = 'x-large')\n",
        "plt.xlabel(\"Humidity\", fontsize = 'x-large')\n",
        "plt.ylabel(\"Count\", fontsize = 'x-large')\n",
        "plt.show()"
      ],
      "metadata": {
        "id": "pVs5M2b9n-Es"
      },
      "execution_count": null,
      "outputs": []
    },
    {
      "cell_type": "markdown",
      "source": [
        "---\n",
        "\n",
        "<center>\n",
        "\n",
        "### **KNN**\n",
        "\n",
        "</center>\n",
        "\n",
        "---"
      ],
      "metadata": {
        "id": "G5TnnVL500nt"
      }
    },
    {
      "cell_type": "markdown",
      "source": [
        "### **Exercise #7**\n",
        "\n",
        "Now you will train and test a KNN model to see if a classification model will effectively predict a relationship between the features you chose.\n",
        "\n",
        "MAKE THE FOLLOWING CHANGES TO THE CODE:\n",
        "\n",
        "1. Enter the two features you will use as input.\n",
        "2. Enter **count** as output."
      ],
      "metadata": {
        "id": "08awIxfXnJYv"
      }
    },
    {
      "cell_type": "code",
      "source": [
        "inputs = df[[\"feature\",\"feature\"]]\n",
        "output = df[\"feature\"]\n",
        "\n",
        "X_train, X_test, y_train, y_test = train_test_split(inputs, output, test_size = 0.3, random_state = 42)\n",
        "\n",
        "mu = X_train.mean()\n",
        "sig = X_train.std()\n",
        "\n",
        "X_train = (X_train - mu)/sig\n",
        "X_test = (X_test - mu)/sig"
      ],
      "metadata": {
        "id": "nFyatNsLBBPq"
      },
      "execution_count": null,
      "outputs": []
    },
    {
      "cell_type": "markdown",
      "source": [
        "###**Exercise #8**\n",
        "\n",
        "Import the algorithms and fit the model by entering the inputs (features) and outputs (**count**)\n",
        "\n",
        "MAKE THE FOLLOWING CHANGES TO THE CODE:\n",
        "\n",
        "Change the value of k to **3**"
      ],
      "metadata": {
        "id": "tcwIWd5P4ijh"
      }
    },
    {
      "cell_type": "code",
      "execution_count": null,
      "metadata": {
        "id": "3X4RLiyYizVx"
      },
      "outputs": [],
      "source": [
        "\n",
        "cl_model = KNeighborsClassifier(n_neighbors = 1)\n",
        "\n",
        "cl_model.fit(X_train, y_train)\n",
        "\n",
        "plot_confusion_matrix(cl_model, X_test, y_test)\n",
        "\n",
        "predictions = cl_model.predict(X_test)\n"
      ]
    },
    {
      "cell_type": "markdown",
      "source": [
        "###**Exercise #9**\n",
        "\n",
        "Test the model.\n",
        "\n",
        "MAKE THE FOLLOWING CHANGES TO THE CODE:\n",
        "\n",
        "Enter **humidity** as the parameter for X-test"
      ],
      "metadata": {
        "id": "tS8gr03VB-1_"
      }
    },
    {
      "cell_type": "code",
      "source": [
        "pred = cl_model.predict(X_test)\n",
        "\n",
        "humidity = X_test[\"parameter\"]\n",
        "count = predictions\n",
        "\n",
        "plt.figure(figsize=(10,6))\n",
        "plt.scatter(humidity, predictions)\n",
        "\n",
        "plt.title(\"Effect of Humidity on Count\")\n",
        "plt.xlabel(\"Humidity\")\n",
        "plt.ylabel(\"Count\")\n",
        "\n",
        "plt.show()"
      ],
      "metadata": {
        "id": "3X01BsTlB_PP"
      },
      "execution_count": null,
      "outputs": []
    },
    {
      "cell_type": "markdown",
      "source": [
        "Test the model.\n",
        "\n",
        "MAKE THE FOLLOWING CHANGES TO THE CODE:\n",
        "\n",
        "Enter **feels_like** as the parameter for X-test"
      ],
      "metadata": {
        "id": "cjF0KK6xJm_6"
      }
    },
    {
      "cell_type": "code",
      "source": [
        "pred = cl_model.predict(X_test)\n",
        "\n",
        "feels_like = X_test[\"parameter\"]\n",
        "count = predictions\n",
        "\n",
        "plt.figure(figsize=(10,6))\n",
        "plt.scatter(feels_like, predictions)\n",
        "\n",
        "plt.title(\"Effect of Feels_like on Count\")\n",
        "plt.xlabel(\"Feels_like\")\n",
        "plt.ylabel(\"Count\")\n",
        "\n",
        "plt.show()"
      ],
      "metadata": {
        "id": "u75AnOKNJmpP"
      },
      "execution_count": null,
      "outputs": []
    },
    {
      "cell_type": "markdown",
      "source": [
        "###**Exercise #10**\n",
        "Run a classification report with metrics to evaluate your model"
      ],
      "metadata": {
        "id": "Umb9LjQCuneh"
      }
    },
    {
      "cell_type": "code",
      "source": [
        "print(classification_report(y_test,pred))\n"
      ],
      "metadata": {
        "id": "lqVeTWV-uefz"
      },
      "execution_count": null,
      "outputs": []
    },
    {
      "cell_type": "markdown",
      "source": [
        "###**Exercise #11**\n",
        "\n",
        "Run the model with the value of K adjusted to $\\sqrt{\\text{size of dataset}}$ and evaluate again.\n",
        "\n",
        "Does it make any difference?\n"
      ],
      "metadata": {
        "id": "okG48qQ6uxps"
      }
    },
    {
      "cell_type": "code",
      "source": [
        "k = int(len(X_train)**(1/2))\n",
        "cl_model = KNeighborsClassifier(n_neighbors = k)\n",
        "cl_model.fit(X_train, y_train)\n",
        "\n",
        "pred = cl_model.predict(X_test)\n",
        "\n",
        "plot_confusion_matrix(cl_model, X_test, y_test)\n",
        "\n",
        "print(classification_report(y_test,pred))"
      ],
      "metadata": {
        "id": "CBVnfU50u3Kl"
      },
      "execution_count": null,
      "outputs": []
    },
    {
      "cell_type": "markdown",
      "source": [
        "###**Exercise #12**\n",
        "\n",
        "Make Predictions with your model\n",
        "\n",
        "MAKE THE FOLLOWING CHANGES TO THE CODE:\n",
        "\n",
        "1. Enter a value for **humidity** and **feels_like** and see how well it predicts the count of bikes rented.\n",
        "2. Then enter differents number and see if the count is higher or lower as expected.\n",
        "3. Finally, enter **50** for both the humidity and feels_like to see how it performs."
      ],
      "metadata": {
        "id": "B2v2SE5jCzuo"
      }
    },
    {
      "cell_type": "code",
      "source": [
        "count = pd.DataFrame([[50,50]], columns = [\"feels_like\",\"humidity\"])\n",
        "\n",
        "predictions = cl_model.predict(count)\n",
        "\n",
        "print(\"the count is predicted to be: \", predictions)"
      ],
      "metadata": {
        "colab": {
          "base_uri": "https://localhost:8080/",
          "height": 235
        },
        "id": "jrb4d-4kCzaC",
        "outputId": "44cd5034-1fbe-488c-fd11-1bbd4d606330"
      },
      "execution_count": null,
      "outputs": [
        {
          "output_type": "error",
          "ename": "NameError",
          "evalue": "ignored",
          "traceback": [
            "\u001b[0;31m---------------------------------------------------------------------------\u001b[0m",
            "\u001b[0;31mNameError\u001b[0m                                 Traceback (most recent call last)",
            "\u001b[0;32m<ipython-input-2-4f41ad7b9e7e>\u001b[0m in \u001b[0;36m<module>\u001b[0;34m\u001b[0m\n\u001b[0;32m----> 1\u001b[0;31m \u001b[0mcount\u001b[0m \u001b[0;34m=\u001b[0m \u001b[0mpd\u001b[0m\u001b[0;34m.\u001b[0m\u001b[0mDataFrame\u001b[0m\u001b[0;34m(\u001b[0m\u001b[0;34m[\u001b[0m\u001b[0;34m[\u001b[0m\u001b[0;36m50\u001b[0m\u001b[0;34m,\u001b[0m\u001b[0;36m50\u001b[0m\u001b[0;34m]\u001b[0m\u001b[0;34m]\u001b[0m\u001b[0;34m,\u001b[0m \u001b[0mcolumns\u001b[0m \u001b[0;34m=\u001b[0m \u001b[0;34m[\u001b[0m\u001b[0;34m\"feels_like\"\u001b[0m\u001b[0;34m,\u001b[0m\u001b[0;34m\"humidity\"\u001b[0m\u001b[0;34m]\u001b[0m\u001b[0;34m)\u001b[0m\u001b[0;34m\u001b[0m\u001b[0;34m\u001b[0m\u001b[0m\n\u001b[0m\u001b[1;32m      2\u001b[0m \u001b[0;34m\u001b[0m\u001b[0m\n\u001b[1;32m      3\u001b[0m \u001b[0mpredictions\u001b[0m \u001b[0;34m=\u001b[0m \u001b[0mcl_model\u001b[0m\u001b[0;34m.\u001b[0m\u001b[0mpredict\u001b[0m\u001b[0;34m(\u001b[0m\u001b[0mcount\u001b[0m\u001b[0;34m)\u001b[0m\u001b[0;34m\u001b[0m\u001b[0;34m\u001b[0m\u001b[0m\n\u001b[1;32m      4\u001b[0m \u001b[0;34m\u001b[0m\u001b[0m\n\u001b[1;32m      5\u001b[0m \u001b[0mprint\u001b[0m\u001b[0;34m(\u001b[0m\u001b[0;34m\"the count is predicted to be: \"\u001b[0m\u001b[0;34m,\u001b[0m \u001b[0mpredictions\u001b[0m\u001b[0;34m)\u001b[0m\u001b[0;34m\u001b[0m\u001b[0;34m\u001b[0m\u001b[0m\n",
            "\u001b[0;31mNameError\u001b[0m: name 'pd' is not defined"
          ]
        }
      ]
    },
    {
      "cell_type": "markdown",
      "source": [
        "---\n",
        "\n",
        "<center>\n",
        "\n",
        "### **Random Forest and Gradient Boosting**\n",
        "\n",
        "</center>\n",
        "\n",
        "---"
      ],
      "metadata": {
        "id": "DTs8qy1I03Ns"
      }
    },
    {
      "cell_type": "markdown",
      "metadata": {
        "id": "Ta1esO7tKObA"
      },
      "source": [
        "### **Exercise #13**\n",
        "\n",
        "You should have found above the this is clearly a problem more well suited to regression than classification. So, let's see how the more advanced model's we've learned about for regression perform with this dataset.\n"
      ]
    },
    {
      "cell_type": "markdown",
      "source": [
        "Rerun `train_test_split` code below to make sure we're including all features."
      ],
      "metadata": {
        "id": "U3tCIMxGFU_e"
      }
    },
    {
      "cell_type": "code",
      "source": [
        "inputs= df.drop([\"count\",\"date\"], axis=1)\n",
        "output = df[\"count\"]\n",
        "\n",
        "X_train, X_test, y_train, y_test = train_test_split(inputs, output, test_size = 0.2, random_state = 42)"
      ],
      "metadata": {
        "id": "KGldCAI6sLHe"
      },
      "execution_count": null,
      "outputs": []
    },
    {
      "cell_type": "markdown",
      "source": [
        "Train and evaluate a **Random Forest Regressor**\n",
        "\n",
        "MAKE THE FOLLOWING CHANGES TO THE CODE:\n",
        "\n",
        "1. Specify the number of trees (`n_estimators`) to be **300**\n",
        "2. Specify the number of features to consider at random for each split (`max_features`) to be **2**. These are in line with the general rules of thumb discussed in lecture last week."
      ],
      "metadata": {
        "id": "p1MLndXhFab7"
      }
    },
    {
      "cell_type": "code",
      "source": [
        "rf = RandomForestRegressor(n_estimators = 0, max_features =0 )\n",
        "rf.fit(X_train, y_train)\n",
        "rf_predictions = rf.predict(X_test)\n",
        "\n",
        "print(\"R2: \" + str(r2_score(y_test, rf_predictions)))\n",
        "print(\"MSE: \" + str(mean_squared_error(y_test, rf_predictions)))\n",
        "print(\"MAE: \" + str(mean_absolute_error(y_test, rf_predictions)))"
      ],
      "metadata": {
        "id": "oaL2NQEsoZz4"
      },
      "execution_count": null,
      "outputs": []
    },
    {
      "cell_type": "markdown",
      "source": [
        "Tain and evaluate a **Gradient Boosted Tree Regressor**\n",
        "\n",
        "MAKE THE FOLLOWING CHANGES TO THE CODE:\n",
        "\n",
        "1. Specify the number of trees (`n_estimators`) to be **100**\n",
        "2. Specify how much we attempt to learn from each set of errors (`learning_rate`) to be **0.01**."
      ],
      "metadata": {
        "id": "kMFFYVnHFcwn"
      }
    },
    {
      "cell_type": "code",
      "source": [
        "gb = GradientBoostingRegressor(n_estimators =0, learning_rate =)\n",
        "gb.fit(X_train, y_train)\n",
        "gb_predictions = gb.predict(X_test)\n",
        "\n",
        "print(\"R2: \" + str(r2_score(y_test, gb_predictions)))\n",
        "print(\"MSE: \" + str(mean_squared_error(y_test, gb_predictions)))\n",
        "print(\"MAE: \" + str(mean_absolute_error(y_test, gb_predictions)))"
      ],
      "metadata": {
        "id": "JiM4qKNvpRTW"
      },
      "execution_count": null,
      "outputs": []
    },
    {
      "cell_type": "markdown",
      "source": [
        "---\n",
        "\n",
        "<center>\n",
        "\n",
        "### **Return to lab presentation**\n",
        "\n",
        "</center>\n",
        "\n",
        "---"
      ],
      "metadata": {
        "id": "jMti7RdL6DpZ"
      }
    },
    {
      "cell_type": "markdown",
      "source": [
        "---\n",
        "##**Part 2: Classification Model Review (optional during lab/at home)**\n",
        "---\n",
        "\n",
        "In this section you will load a new dataset that lists features of specific animals along with the class type the animal belongs to. For each feature, a 1 represents true while a 0 represents false. The class types are as follows:\n",
        "\n",
        "1=Mammal, 2=Bird, 3=Reptile, 4=Fish, 5=Amphibian, 6=Bug, 7=Invertebrate\n",
        "\n",
        "You will run different classification models to correctly predict the class type by the features provided."
      ],
      "metadata": {
        "id": "nM64KFXiviyK"
      }
    },
    {
      "cell_type": "markdown",
      "source": [
        "###**Exercise #1**\n",
        "\n",
        "First you will import and print a new dataset.\n"
      ],
      "metadata": {
        "id": "wlZuN6WSsLXm"
      }
    },
    {
      "cell_type": "code",
      "source": [
        "url = \"https://docs.google.com/spreadsheets/d/e/2PACX-1vRoFIQ4M8JcCuijWnuTZuqCrzBvGAgkVigXAcjYylLaLLycSYxDdsTMyr5272JV9u-mEMfAW87X_ccT/pub?output=csv\"\n",
        "df=pd.read_csv(url)\n",
        "\n",
        "df.head()"
      ],
      "metadata": {
        "colab": {
          "base_uri": "https://localhost:8080/",
          "height": 206
        },
        "id": "9m0yFYUnWvdr",
        "outputId": "5623eef7-4144-4490-ce78-ddc125b1db0e"
      },
      "execution_count": null,
      "outputs": [
        {
          "output_type": "execute_result",
          "data": {
            "text/plain": [
              "   hair  feathers  eggs  milk  airborne  aquatic  predator  toothed  backbone  \\\n",
              "0     1         0     0     1         0        0         1        1         1   \n",
              "1     1         0     0     1         0        0         0        1         1   \n",
              "2     0         0     1     0         0        1         1        1         1   \n",
              "3     1         0     0     1         0        0         1        1         1   \n",
              "4     1         0     0     1         0        0         1        1         1   \n",
              "\n",
              "   breathes  venomous  fins  legs  tail  domestic  catsize  class_type  \n",
              "0         1         0     0     4     0         0        1           1  \n",
              "1         1         0     0     4     1         0        1           1  \n",
              "2         0         0     1     0     1         0        0           4  \n",
              "3         1         0     0     4     0         0        1           1  \n",
              "4         1         0     0     4     1         0        1           1  "
            ],
            "text/html": [
              "\n",
              "  <div id=\"df-b613ede3-605c-4bef-b2e4-bb6bca7b74a3\">\n",
              "    <div class=\"colab-df-container\">\n",
              "      <div>\n",
              "<style scoped>\n",
              "    .dataframe tbody tr th:only-of-type {\n",
              "        vertical-align: middle;\n",
              "    }\n",
              "\n",
              "    .dataframe tbody tr th {\n",
              "        vertical-align: top;\n",
              "    }\n",
              "\n",
              "    .dataframe thead th {\n",
              "        text-align: right;\n",
              "    }\n",
              "</style>\n",
              "<table border=\"1\" class=\"dataframe\">\n",
              "  <thead>\n",
              "    <tr style=\"text-align: right;\">\n",
              "      <th></th>\n",
              "      <th>hair</th>\n",
              "      <th>feathers</th>\n",
              "      <th>eggs</th>\n",
              "      <th>milk</th>\n",
              "      <th>airborne</th>\n",
              "      <th>aquatic</th>\n",
              "      <th>predator</th>\n",
              "      <th>toothed</th>\n",
              "      <th>backbone</th>\n",
              "      <th>breathes</th>\n",
              "      <th>venomous</th>\n",
              "      <th>fins</th>\n",
              "      <th>legs</th>\n",
              "      <th>tail</th>\n",
              "      <th>domestic</th>\n",
              "      <th>catsize</th>\n",
              "      <th>class_type</th>\n",
              "    </tr>\n",
              "  </thead>\n",
              "  <tbody>\n",
              "    <tr>\n",
              "      <th>0</th>\n",
              "      <td>1</td>\n",
              "      <td>0</td>\n",
              "      <td>0</td>\n",
              "      <td>1</td>\n",
              "      <td>0</td>\n",
              "      <td>0</td>\n",
              "      <td>1</td>\n",
              "      <td>1</td>\n",
              "      <td>1</td>\n",
              "      <td>1</td>\n",
              "      <td>0</td>\n",
              "      <td>0</td>\n",
              "      <td>4</td>\n",
              "      <td>0</td>\n",
              "      <td>0</td>\n",
              "      <td>1</td>\n",
              "      <td>1</td>\n",
              "    </tr>\n",
              "    <tr>\n",
              "      <th>1</th>\n",
              "      <td>1</td>\n",
              "      <td>0</td>\n",
              "      <td>0</td>\n",
              "      <td>1</td>\n",
              "      <td>0</td>\n",
              "      <td>0</td>\n",
              "      <td>0</td>\n",
              "      <td>1</td>\n",
              "      <td>1</td>\n",
              "      <td>1</td>\n",
              "      <td>0</td>\n",
              "      <td>0</td>\n",
              "      <td>4</td>\n",
              "      <td>1</td>\n",
              "      <td>0</td>\n",
              "      <td>1</td>\n",
              "      <td>1</td>\n",
              "    </tr>\n",
              "    <tr>\n",
              "      <th>2</th>\n",
              "      <td>0</td>\n",
              "      <td>0</td>\n",
              "      <td>1</td>\n",
              "      <td>0</td>\n",
              "      <td>0</td>\n",
              "      <td>1</td>\n",
              "      <td>1</td>\n",
              "      <td>1</td>\n",
              "      <td>1</td>\n",
              "      <td>0</td>\n",
              "      <td>0</td>\n",
              "      <td>1</td>\n",
              "      <td>0</td>\n",
              "      <td>1</td>\n",
              "      <td>0</td>\n",
              "      <td>0</td>\n",
              "      <td>4</td>\n",
              "    </tr>\n",
              "    <tr>\n",
              "      <th>3</th>\n",
              "      <td>1</td>\n",
              "      <td>0</td>\n",
              "      <td>0</td>\n",
              "      <td>1</td>\n",
              "      <td>0</td>\n",
              "      <td>0</td>\n",
              "      <td>1</td>\n",
              "      <td>1</td>\n",
              "      <td>1</td>\n",
              "      <td>1</td>\n",
              "      <td>0</td>\n",
              "      <td>0</td>\n",
              "      <td>4</td>\n",
              "      <td>0</td>\n",
              "      <td>0</td>\n",
              "      <td>1</td>\n",
              "      <td>1</td>\n",
              "    </tr>\n",
              "    <tr>\n",
              "      <th>4</th>\n",
              "      <td>1</td>\n",
              "      <td>0</td>\n",
              "      <td>0</td>\n",
              "      <td>1</td>\n",
              "      <td>0</td>\n",
              "      <td>0</td>\n",
              "      <td>1</td>\n",
              "      <td>1</td>\n",
              "      <td>1</td>\n",
              "      <td>1</td>\n",
              "      <td>0</td>\n",
              "      <td>0</td>\n",
              "      <td>4</td>\n",
              "      <td>1</td>\n",
              "      <td>0</td>\n",
              "      <td>1</td>\n",
              "      <td>1</td>\n",
              "    </tr>\n",
              "  </tbody>\n",
              "</table>\n",
              "</div>\n",
              "      <button class=\"colab-df-convert\" onclick=\"convertToInteractive('df-b613ede3-605c-4bef-b2e4-bb6bca7b74a3')\"\n",
              "              title=\"Convert this dataframe to an interactive table.\"\n",
              "              style=\"display:none;\">\n",
              "        \n",
              "  <svg xmlns=\"http://www.w3.org/2000/svg\" height=\"24px\"viewBox=\"0 0 24 24\"\n",
              "       width=\"24px\">\n",
              "    <path d=\"M0 0h24v24H0V0z\" fill=\"none\"/>\n",
              "    <path d=\"M18.56 5.44l.94 2.06.94-2.06 2.06-.94-2.06-.94-.94-2.06-.94 2.06-2.06.94zm-11 1L8.5 8.5l.94-2.06 2.06-.94-2.06-.94L8.5 2.5l-.94 2.06-2.06.94zm10 10l.94 2.06.94-2.06 2.06-.94-2.06-.94-.94-2.06-.94 2.06-2.06.94z\"/><path d=\"M17.41 7.96l-1.37-1.37c-.4-.4-.92-.59-1.43-.59-.52 0-1.04.2-1.43.59L10.3 9.45l-7.72 7.72c-.78.78-.78 2.05 0 2.83L4 21.41c.39.39.9.59 1.41.59.51 0 1.02-.2 1.41-.59l7.78-7.78 2.81-2.81c.8-.78.8-2.07 0-2.86zM5.41 20L4 18.59l7.72-7.72 1.47 1.35L5.41 20z\"/>\n",
              "  </svg>\n",
              "      </button>\n",
              "      \n",
              "  <style>\n",
              "    .colab-df-container {\n",
              "      display:flex;\n",
              "      flex-wrap:wrap;\n",
              "      gap: 12px;\n",
              "    }\n",
              "\n",
              "    .colab-df-convert {\n",
              "      background-color: #E8F0FE;\n",
              "      border: none;\n",
              "      border-radius: 50%;\n",
              "      cursor: pointer;\n",
              "      display: none;\n",
              "      fill: #1967D2;\n",
              "      height: 32px;\n",
              "      padding: 0 0 0 0;\n",
              "      width: 32px;\n",
              "    }\n",
              "\n",
              "    .colab-df-convert:hover {\n",
              "      background-color: #E2EBFA;\n",
              "      box-shadow: 0px 1px 2px rgba(60, 64, 67, 0.3), 0px 1px 3px 1px rgba(60, 64, 67, 0.15);\n",
              "      fill: #174EA6;\n",
              "    }\n",
              "\n",
              "    [theme=dark] .colab-df-convert {\n",
              "      background-color: #3B4455;\n",
              "      fill: #D2E3FC;\n",
              "    }\n",
              "\n",
              "    [theme=dark] .colab-df-convert:hover {\n",
              "      background-color: #434B5C;\n",
              "      box-shadow: 0px 1px 3px 1px rgba(0, 0, 0, 0.15);\n",
              "      filter: drop-shadow(0px 1px 2px rgba(0, 0, 0, 0.3));\n",
              "      fill: #FFFFFF;\n",
              "    }\n",
              "  </style>\n",
              "\n",
              "      <script>\n",
              "        const buttonEl =\n",
              "          document.querySelector('#df-b613ede3-605c-4bef-b2e4-bb6bca7b74a3 button.colab-df-convert');\n",
              "        buttonEl.style.display =\n",
              "          google.colab.kernel.accessAllowed ? 'block' : 'none';\n",
              "\n",
              "        async function convertToInteractive(key) {\n",
              "          const element = document.querySelector('#df-b613ede3-605c-4bef-b2e4-bb6bca7b74a3');\n",
              "          const dataTable =\n",
              "            await google.colab.kernel.invokeFunction('convertToInteractive',\n",
              "                                                     [key], {});\n",
              "          if (!dataTable) return;\n",
              "\n",
              "          const docLinkHtml = 'Like what you see? Visit the ' +\n",
              "            '<a target=\"_blank\" href=https://colab.research.google.com/notebooks/data_table.ipynb>data table notebook</a>'\n",
              "            + ' to learn more about interactive tables.';\n",
              "          element.innerHTML = '';\n",
              "          dataTable['output_type'] = 'display_data';\n",
              "          await google.colab.output.renderOutput(dataTable, element);\n",
              "          const docLink = document.createElement('div');\n",
              "          docLink.innerHTML = docLinkHtml;\n",
              "          element.appendChild(docLink);\n",
              "        }\n",
              "      </script>\n",
              "    </div>\n",
              "  </div>\n",
              "  "
            ]
          },
          "metadata": {},
          "execution_count": 35
        }
      ]
    },
    {
      "cell_type": "markdown",
      "source": [
        "###**Exercise #2**\n",
        "\n",
        "You will start by chooing all the variables and splitting the data.\n",
        "\n",
        "\n",
        "MAKE THE FOLLOWING CHANGES TO THE CODE:\n",
        "\n",
        "1. Drop **class_type** from inputs.\n",
        "2. Change the test_size to **30%**"
      ],
      "metadata": {
        "id": "Ufc7PLkDXj41"
      }
    },
    {
      "cell_type": "code",
      "source": [
        "inputs = df.drop(columns = [\"feature\"], axis = 1)\n",
        "output = df[\"class_type\"]\n",
        "\n",
        "X_train, X_test, y_train, y_test = train_test_split(inputs, output, test_size = 0.1, random_state = 42)\n"
      ],
      "metadata": {
        "id": "A1GAXJhHXkKR"
      },
      "execution_count": null,
      "outputs": []
    },
    {
      "cell_type": "markdown",
      "source": [
        "---\n",
        "\n",
        "<center>\n",
        "\n",
        "### **Decision Tree**\n",
        "\n",
        "</center>\n",
        "\n",
        "---"
      ],
      "metadata": {
        "id": "--fGcKyJ7lBH"
      }
    },
    {
      "cell_type": "markdown",
      "source": [
        "###**Exercise #3**\n",
        "Run the code below to initialize and fit the decision tree model"
      ],
      "metadata": {
        "id": "w9940zpoYWTt"
      }
    },
    {
      "cell_type": "code",
      "source": [
        "tree = DecisionTreeClassifier()\n",
        "tree.fit(X_train, y_train)"
      ],
      "metadata": {
        "colab": {
          "base_uri": "https://localhost:8080/"
        },
        "id": "OD2a2J-uYV-9",
        "outputId": "692289f7-29fc-4f7f-c069-5d6a6dfb13ac"
      },
      "execution_count": null,
      "outputs": [
        {
          "output_type": "execute_result",
          "data": {
            "text/plain": [
              "DecisionTreeClassifier()"
            ]
          },
          "metadata": {},
          "execution_count": 146
        }
      ]
    },
    {
      "cell_type": "markdown",
      "source": [
        "###**Exercise #4**\n",
        "Run the code below to create a classification report to test predictions."
      ],
      "metadata": {
        "id": "7_htZZ0GsUf1"
      }
    },
    {
      "cell_type": "code",
      "source": [
        "predictions = tree.predict(X_test)\n",
        "\n",
        "plot_confusion_matrix(tree, X_test, y_test)\n",
        "\n",
        "print(\"Report: \" + str(classification_report(y_test, predictions)))\n"
      ],
      "metadata": {
        "colab": {
          "base_uri": "https://localhost:8080/",
          "height": 681
        },
        "id": "89Dt2vcQsUot",
        "outputId": "1038938e-316f-408d-a89e-093627167218"
      },
      "execution_count": null,
      "outputs": [
        {
          "output_type": "stream",
          "name": "stderr",
          "text": [
            "/usr/local/lib/python3.8/dist-packages/sklearn/utils/deprecation.py:87: FutureWarning: Function plot_confusion_matrix is deprecated; Function `plot_confusion_matrix` is deprecated in 1.0 and will be removed in 1.2. Use one of the class methods: ConfusionMatrixDisplay.from_predictions or ConfusionMatrixDisplay.from_estimator.\n",
            "  warnings.warn(msg, category=FutureWarning)\n",
            "/usr/local/lib/python3.8/dist-packages/sklearn/metrics/_classification.py:1318: UndefinedMetricWarning: Precision and F-score are ill-defined and being set to 0.0 in labels with no predicted samples. Use `zero_division` parameter to control this behavior.\n",
            "  _warn_prf(average, modifier, msg_start, len(result))\n",
            "/usr/local/lib/python3.8/dist-packages/sklearn/metrics/_classification.py:1318: UndefinedMetricWarning: Precision and F-score are ill-defined and being set to 0.0 in labels with no predicted samples. Use `zero_division` parameter to control this behavior.\n",
            "  _warn_prf(average, modifier, msg_start, len(result))\n",
            "/usr/local/lib/python3.8/dist-packages/sklearn/metrics/_classification.py:1318: UndefinedMetricWarning: Precision and F-score are ill-defined and being set to 0.0 in labels with no predicted samples. Use `zero_division` parameter to control this behavior.\n",
            "  _warn_prf(average, modifier, msg_start, len(result))\n"
          ]
        },
        {
          "output_type": "stream",
          "name": "stdout",
          "text": [
            "Report:               precision    recall  f1-score   support\n",
            "\n",
            "           1       1.00      1.00      1.00        15\n",
            "           2       1.00      1.00      1.00         3\n",
            "           3       0.00      0.00      0.00         1\n",
            "           4       1.00      1.00      1.00         2\n",
            "           5       0.67      1.00      0.80         2\n",
            "           6       1.00      0.80      0.89         5\n",
            "           7       0.75      1.00      0.86         3\n",
            "\n",
            "    accuracy                           0.94        31\n",
            "   macro avg       0.77      0.83      0.79        31\n",
            "weighted avg       0.92      0.94      0.92        31\n",
            "\n"
          ]
        },
        {
          "output_type": "display_data",
          "data": {
            "text/plain": [
              "<Figure size 432x288 with 2 Axes>"
            ],
            "image/png": "[encoded data removed]"
          },
          "metadata": {
            "needs_background": "light"
          }
        }
      ]
    },
    {
      "cell_type": "markdown",
      "source": [
        "###**Exercise #5**\n",
        "Run the code below then evaluate the depth of model and visualize the tree.\n",
        "\n",
        "How deep is the tree?\n",
        "How many leaves are there?\n",
        "\n"
      ],
      "metadata": {
        "id": "-mh28xx1YlSJ"
      }
    },
    {
      "cell_type": "code",
      "source": [
        "print(\"Depth: \" + str(tree.get_depth()))\n",
        "print(\"Number of Leaves: \" + str(tree.get_n_leaves()))\n",
        "\n",
        "dot_data = export_graphviz(tree, feature_names = X_test.columns, class_names= \"class type\", filled = True)\n",
        "graphviz.Source(dot_data, format=\"png\")\n",
        "\n"
      ],
      "metadata": {
        "colab": {
          "base_uri": "https://localhost:8080/",
          "height": 1000
        },
        "id": "515MBU1wYlvb",
        "outputId": "8aea171f-e694-40b7-b9c4-8f079b4da4ef"
      },
      "execution_count": null,
      "outputs": [
        {
          "output_type": "stream",
          "name": "stdout",
          "text": [
            "Depth: 6\n",
            "Number of Leaves: 8\n"
          ]
        },
        {
          "output_type": "execute_result",
          "data": {
            "text/plain": [
              "<graphviz.files.Source at 0x7f7f13082ac0>"
            ],
            "image/svg+xml": "<?xml version=\"1.0\" encoding=\"UTF-8\" standalone=\"no\"?>\n<!DOCTYPE svg PUBLIC \"-//W3C//DTD SVG 1.1//EN\"\n \"http://www.w3.org/Graphics/SVG/1.1/DTD/svg11.dtd\">\n<!-- Generated by graphviz version 2.40.1 (20161225.0304)\n -->\n<!-- Title: Tree Pages: 1 -->\n<svg width=\"992pt\" height=\"790pt\"\n viewBox=\"0.00 0.00 992.00 790.00\" xmlns=\"http://www.w3.org/2000/svg\" xmlns:xlink=\"http://www.w3.org/1999/xlink\">\n<g id=\"graph0\" class=\"graph\" transform=\"scale(1 1) rotate(0) translate(4 786)\">\n<title>Tree</title>\n<polygon fill=\"#ffffff\" stroke=\"transparent\" points=\"-4,4 -4,-786 988,-786 988,4 -4,4\"/>\n<!-- 0 -->\n<g id=\"node1\" class=\"node\">\n<title>0</title>\n<polygon fill=\"#fbeadd\" stroke=\"#000000\" points=\"888.5,-782 685.5,-782 685.5,-699 888.5,-699 888.5,-782\"/>\n<text text-anchor=\"middle\" x=\"787\" y=\"-766.8\" font-family=\"Helvetica,sans-Serif\" font-size=\"14.00\" fill=\"#000000\">milk &lt;= 0.5</text>\n<text text-anchor=\"middle\" x=\"787\" y=\"-751.8\" font-family=\"Helvetica,sans-Serif\" font-size=\"14.00\" fill=\"#000000\">gini = 0.762</text>\n<text text-anchor=\"middle\" x=\"787\" y=\"-736.8\" font-family=\"Helvetica,sans-Serif\" font-size=\"14.00\" fill=\"#000000\">samples = 70</text>\n<text text-anchor=\"middle\" x=\"787\" y=\"-721.8\" font-family=\"Helvetica,sans-Serif\" font-size=\"14.00\" fill=\"#000000\">value = [26, 17, 4, 11, 2, 3, 7]</text>\n<text text-anchor=\"middle\" x=\"787\" y=\"-706.8\" font-family=\"Helvetica,sans-Serif\" font-size=\"14.00\" fill=\"#000000\">class = c</text>\n</g>\n<!-- 1 -->\n<g id=\"node2\" class=\"node\">\n<title>1</title>\n<polygon fill=\"#f2fadb\" stroke=\"#000000\" points=\"780,-663 586,-663 586,-580 780,-580 780,-663\"/>\n<text text-anchor=\"middle\" x=\"683\" y=\"-647.8\" font-family=\"Helvetica,sans-Serif\" font-size=\"14.00\" fill=\"#000000\">feathers &lt;= 0.5</text>\n<text text-anchor=\"middle\" x=\"683\" y=\"-632.8\" font-family=\"Helvetica,sans-Serif\" font-size=\"14.00\" fill=\"#000000\">gini = 0.748</text>\n<text text-anchor=\"middle\" x=\"683\" y=\"-617.8\" font-family=\"Helvetica,sans-Serif\" font-size=\"14.00\" fill=\"#000000\">samples = 44</text>\n<text text-anchor=\"middle\" x=\"683\" y=\"-602.8\" font-family=\"Helvetica,sans-Serif\" font-size=\"14.00\" fill=\"#000000\">value = [0, 17, 4, 11, 2, 3, 7]</text>\n<text text-anchor=\"middle\" x=\"683\" y=\"-587.8\" font-family=\"Helvetica,sans-Serif\" font-size=\"14.00\" fill=\"#000000\">class = l</text>\n</g>\n<!-- 0&#45;&gt;1 -->\n<g id=\"edge1\" class=\"edge\">\n<title>0&#45;&gt;1</title>\n<path fill=\"none\" stroke=\"#000000\" d=\"M750.6258,-698.8796C742.7548,-689.8733 734.3571,-680.2644 726.2515,-670.9897\"/>\n<polygon fill=\"#000000\" stroke=\"#000000\" points=\"728.7454,-668.5246 719.5294,-663.2981 723.4746,-673.131 728.7454,-668.5246\"/>\n<text text-anchor=\"middle\" x=\"717.8516\" y=\"-684.5417\" font-family=\"Helvetica,sans-Serif\" font-size=\"14.00\" fill=\"#000000\">True</text>\n</g>\n<!-- 14 -->\n<g id=\"node15\" class=\"node\">\n<title>14</title>\n<polygon fill=\"#e58139\" stroke=\"#000000\" points=\"984,-655.5 798,-655.5 798,-587.5 984,-587.5 984,-655.5\"/>\n<text text-anchor=\"middle\" x=\"891\" y=\"-640.3\" font-family=\"Helvetica,sans-Serif\" font-size=\"14.00\" fill=\"#000000\">gini = 0.0</text>\n<text text-anchor=\"middle\" x=\"891\" y=\"-625.3\" font-family=\"Helvetica,sans-Serif\" font-size=\"14.00\" fill=\"#000000\">samples = 26</text>\n<text text-anchor=\"middle\" x=\"891\" y=\"-610.3\" font-family=\"Helvetica,sans-Serif\" font-size=\"14.00\" fill=\"#000000\">value = [26, 0, 0, 0, 0, 0, 0]</text>\n<text text-anchor=\"middle\" x=\"891\" y=\"-595.3\" font-family=\"Helvetica,sans-Serif\" font-size=\"14.00\" fill=\"#000000\">class = c</text>\n</g>\n<!-- 0&#45;&gt;14 -->\n<g id=\"edge14\" class=\"edge\">\n<title>0&#45;&gt;14</title>\n<path fill=\"none\" stroke=\"#000000\" d=\"M823.3742,-698.8796C833.3686,-687.4436 844.212,-675.0363 854.2286,-663.575\"/>\n<polygon fill=\"#000000\" stroke=\"#000000\" points=\"857.0653,-665.6479 861.0105,-655.8149 851.7945,-661.0414 857.0653,-665.6479\"/>\n<text text-anchor=\"middle\" x=\"862.6883\" y=\"-677.0586\" font-family=\"Helvetica,sans-Serif\" font-size=\"14.00\" fill=\"#000000\">False</text>\n</g>\n<!-- 2 -->\n<g id=\"node3\" class=\"node\">\n<title>2</title>\n<polygon fill=\"#d7faf9\" stroke=\"#000000\" points=\"674,-544 488,-544 488,-461 674,-461 674,-544\"/>\n<text text-anchor=\"middle\" x=\"581\" y=\"-528.8\" font-family=\"Helvetica,sans-Serif\" font-size=\"14.00\" fill=\"#000000\">fins &lt;= 0.5</text>\n<text text-anchor=\"middle\" x=\"581\" y=\"-513.8\" font-family=\"Helvetica,sans-Serif\" font-size=\"14.00\" fill=\"#000000\">gini = 0.727</text>\n<text text-anchor=\"middle\" x=\"581\" y=\"-498.8\" font-family=\"Helvetica,sans-Serif\" font-size=\"14.00\" fill=\"#000000\">samples = 27</text>\n<text text-anchor=\"middle\" x=\"581\" y=\"-483.8\" font-family=\"Helvetica,sans-Serif\" font-size=\"14.00\" fill=\"#000000\">value = [0, 0, 4, 11, 2, 3, 7]</text>\n<text text-anchor=\"middle\" x=\"581\" y=\"-468.8\" font-family=\"Helvetica,sans-Serif\" font-size=\"14.00\" fill=\"#000000\">class = s</text>\n</g>\n<!-- 1&#45;&gt;2 -->\n<g id=\"edge2\" class=\"edge\">\n<title>1&#45;&gt;2</title>\n<path fill=\"none\" stroke=\"#000000\" d=\"M647.3253,-579.8796C639.6057,-570.8733 631.3695,-561.2644 623.4197,-551.9897\"/>\n<polygon fill=\"#000000\" stroke=\"#000000\" points=\"625.9923,-549.6129 616.8269,-544.2981 620.6775,-554.1684 625.9923,-549.6129\"/>\n</g>\n<!-- 13 -->\n<g id=\"node14\" class=\"node\">\n<title>13</title>\n<polygon fill=\"#b7e539\" stroke=\"#000000\" points=\"878,-536.5 692,-536.5 692,-468.5 878,-468.5 878,-536.5\"/>\n<text text-anchor=\"middle\" x=\"785\" y=\"-521.3\" font-family=\"Helvetica,sans-Serif\" font-size=\"14.00\" fill=\"#000000\">gini = 0.0</text>\n<text text-anchor=\"middle\" x=\"785\" y=\"-506.3\" font-family=\"Helvetica,sans-Serif\" font-size=\"14.00\" fill=\"#000000\">samples = 17</text>\n<text text-anchor=\"middle\" x=\"785\" y=\"-491.3\" font-family=\"Helvetica,sans-Serif\" font-size=\"14.00\" fill=\"#000000\">value = [0, 17, 0, 0, 0, 0, 0]</text>\n<text text-anchor=\"middle\" x=\"785\" y=\"-476.3\" font-family=\"Helvetica,sans-Serif\" font-size=\"14.00\" fill=\"#000000\">class = l</text>\n</g>\n<!-- 1&#45;&gt;13 -->\n<g id=\"edge13\" class=\"edge\">\n<title>1&#45;&gt;13</title>\n<path fill=\"none\" stroke=\"#000000\" d=\"M718.6747,-579.8796C728.4769,-568.4436 739.1118,-556.0363 748.9357,-544.575\"/>\n<polygon fill=\"#000000\" stroke=\"#000000\" points=\"751.7367,-546.6853 755.5872,-536.8149 746.4218,-542.1297 751.7367,-546.6853\"/>\n</g>\n<!-- 3 -->\n<g id=\"node4\" class=\"node\">\n<title>3</title>\n<polygon fill=\"#f8cee1\" stroke=\"#000000\" points=\"570,-425 392,-425 392,-342 570,-342 570,-425\"/>\n<text text-anchor=\"middle\" x=\"481\" y=\"-409.8\" font-family=\"Helvetica,sans-Serif\" font-size=\"14.00\" fill=\"#000000\">backbone &lt;= 0.5</text>\n<text text-anchor=\"middle\" x=\"481\" y=\"-394.8\" font-family=\"Helvetica,sans-Serif\" font-size=\"14.00\" fill=\"#000000\">gini = 0.695</text>\n<text text-anchor=\"middle\" x=\"481\" y=\"-379.8\" font-family=\"Helvetica,sans-Serif\" font-size=\"14.00\" fill=\"#000000\">samples = 16</text>\n<text text-anchor=\"middle\" x=\"481\" y=\"-364.8\" font-family=\"Helvetica,sans-Serif\" font-size=\"14.00\" fill=\"#000000\">value = [0, 0, 4, 0, 2, 3, 7]</text>\n<text text-anchor=\"middle\" x=\"481\" y=\"-349.8\" font-family=\"Helvetica,sans-Serif\" font-size=\"14.00\" fill=\"#000000\">class = t</text>\n</g>\n<!-- 2&#45;&gt;3 -->\n<g id=\"edge3\" class=\"edge\">\n<title>2&#45;&gt;3</title>\n<path fill=\"none\" stroke=\"#000000\" d=\"M546.0249,-460.8796C538.4565,-451.8733 530.3819,-442.2644 522.588,-432.9897\"/>\n<polygon fill=\"#000000\" stroke=\"#000000\" points=\"525.2374,-430.7022 516.1244,-425.2981 519.8784,-435.2056 525.2374,-430.7022\"/>\n</g>\n<!-- 12 -->\n<g id=\"node13\" class=\"node\">\n<title>12</title>\n<polygon fill=\"#39e5e2\" stroke=\"#000000\" points=\"774,-417.5 588,-417.5 588,-349.5 774,-349.5 774,-417.5\"/>\n<text text-anchor=\"middle\" x=\"681\" y=\"-402.3\" font-family=\"Helvetica,sans-Serif\" font-size=\"14.00\" fill=\"#000000\">gini = 0.0</text>\n<text text-anchor=\"middle\" x=\"681\" y=\"-387.3\" font-family=\"Helvetica,sans-Serif\" font-size=\"14.00\" fill=\"#000000\">samples = 11</text>\n<text text-anchor=\"middle\" x=\"681\" y=\"-372.3\" font-family=\"Helvetica,sans-Serif\" font-size=\"14.00\" fill=\"#000000\">value = [0, 0, 0, 11, 0, 0, 0]</text>\n<text text-anchor=\"middle\" x=\"681\" y=\"-357.3\" font-family=\"Helvetica,sans-Serif\" font-size=\"14.00\" fill=\"#000000\">class = s</text>\n</g>\n<!-- 2&#45;&gt;12 -->\n<g id=\"edge12\" class=\"edge\">\n<title>2&#45;&gt;12</title>\n<path fill=\"none\" stroke=\"#000000\" d=\"M615.9751,-460.8796C625.5852,-449.4436 636.0115,-437.0363 645.6429,-425.575\"/>\n<polygon fill=\"#000000\" stroke=\"#000000\" points=\"648.41,-427.7225 652.1639,-417.8149 643.0509,-423.219 648.41,-427.7225\"/>\n</g>\n<!-- 4 -->\n<g id=\"node5\" class=\"node\">\n<title>4</title>\n<polygon fill=\"#f08eba\" stroke=\"#000000\" points=\"472,-306 294,-306 294,-223 472,-223 472,-306\"/>\n<text text-anchor=\"middle\" x=\"383\" y=\"-290.8\" font-family=\"Helvetica,sans-Serif\" font-size=\"14.00\" fill=\"#000000\">predator &lt;= 0.5</text>\n<text text-anchor=\"middle\" x=\"383\" y=\"-275.8\" font-family=\"Helvetica,sans-Serif\" font-size=\"14.00\" fill=\"#000000\">gini = 0.42</text>\n<text text-anchor=\"middle\" x=\"383\" y=\"-260.8\" font-family=\"Helvetica,sans-Serif\" font-size=\"14.00\" fill=\"#000000\">samples = 10</text>\n<text text-anchor=\"middle\" x=\"383\" y=\"-245.8\" font-family=\"Helvetica,sans-Serif\" font-size=\"14.00\" fill=\"#000000\">value = [0, 0, 0, 0, 0, 3, 7]</text>\n<text text-anchor=\"middle\" x=\"383\" y=\"-230.8\" font-family=\"Helvetica,sans-Serif\" font-size=\"14.00\" fill=\"#000000\">class = t</text>\n</g>\n<!-- 3&#45;&gt;4 -->\n<g id=\"edge4\" class=\"edge\">\n<title>3&#45;&gt;4</title>\n<path fill=\"none\" stroke=\"#000000\" d=\"M446.7244,-341.8796C439.3816,-332.9633 431.5524,-323.4565 423.9854,-314.268\"/>\n<polygon fill=\"#000000\" stroke=\"#000000\" points=\"426.4808,-311.7924 417.4219,-306.2981 421.0773,-316.2424 426.4808,-311.7924\"/>\n</g>\n<!-- 9 -->\n<g id=\"node10\" class=\"node\">\n<title>9</title>\n<polygon fill=\"#9cf2a6\" stroke=\"#000000\" points=\"668,-306 490,-306 490,-223 668,-223 668,-306\"/>\n<text text-anchor=\"middle\" x=\"579\" y=\"-290.8\" font-family=\"Helvetica,sans-Serif\" font-size=\"14.00\" fill=\"#000000\">aquatic &lt;= 0.5</text>\n<text text-anchor=\"middle\" x=\"579\" y=\"-275.8\" font-family=\"Helvetica,sans-Serif\" font-size=\"14.00\" fill=\"#000000\">gini = 0.444</text>\n<text text-anchor=\"middle\" x=\"579\" y=\"-260.8\" font-family=\"Helvetica,sans-Serif\" font-size=\"14.00\" fill=\"#000000\">samples = 6</text>\n<text text-anchor=\"middle\" x=\"579\" y=\"-245.8\" font-family=\"Helvetica,sans-Serif\" font-size=\"14.00\" fill=\"#000000\">value = [0, 0, 4, 0, 2, 0, 0]</text>\n<text text-anchor=\"middle\" x=\"579\" y=\"-230.8\" font-family=\"Helvetica,sans-Serif\" font-size=\"14.00\" fill=\"#000000\">class = a</text>\n</g>\n<!-- 3&#45;&gt;9 -->\n<g id=\"edge9\" class=\"edge\">\n<title>3&#45;&gt;9</title>\n<path fill=\"none\" stroke=\"#000000\" d=\"M515.2756,-341.8796C522.6184,-332.9633 530.4476,-323.4565 538.0146,-314.268\"/>\n<polygon fill=\"#000000\" stroke=\"#000000\" points=\"540.9227,-316.2424 544.5781,-306.2981 535.5192,-311.7924 540.9227,-316.2424\"/>\n</g>\n<!-- 5 -->\n<g id=\"node6\" class=\"node\">\n<title>5</title>\n<polygon fill=\"#e5bdf6\" stroke=\"#000000\" points=\"276,-187 98,-187 98,-104 276,-104 276,-187\"/>\n<text text-anchor=\"middle\" x=\"187\" y=\"-171.8\" font-family=\"Helvetica,sans-Serif\" font-size=\"14.00\" fill=\"#000000\">legs &lt;= 3.0</text>\n<text text-anchor=\"middle\" x=\"187\" y=\"-156.8\" font-family=\"Helvetica,sans-Serif\" font-size=\"14.00\" fill=\"#000000\">gini = 0.48</text>\n<text text-anchor=\"middle\" x=\"187\" y=\"-141.8\" font-family=\"Helvetica,sans-Serif\" font-size=\"14.00\" fill=\"#000000\">samples = 5</text>\n<text text-anchor=\"middle\" x=\"187\" y=\"-126.8\" font-family=\"Helvetica,sans-Serif\" font-size=\"14.00\" fill=\"#000000\">value = [0, 0, 0, 0, 0, 3, 2]</text>\n<text text-anchor=\"middle\" x=\"187\" y=\"-111.8\" font-family=\"Helvetica,sans-Serif\" font-size=\"14.00\" fill=\"#000000\">class = &#160;</text>\n</g>\n<!-- 4&#45;&gt;5 -->\n<g id=\"edge5\" class=\"edge\">\n<title>4&#45;&gt;5</title>\n<path fill=\"none\" stroke=\"#000000\" d=\"M314.4487,-222.8796C298.1857,-213.0056 280.7299,-202.4075 264.1142,-192.3193\"/>\n<polygon fill=\"#000000\" stroke=\"#000000\" points=\"265.8769,-189.295 255.5126,-187.0969 262.244,-195.2785 265.8769,-189.295\"/>\n</g>\n<!-- 8 -->\n<g id=\"node9\" class=\"node\">\n<title>8</title>\n<polygon fill=\"#e53986\" stroke=\"#000000\" points=\"472,-179.5 294,-179.5 294,-111.5 472,-111.5 472,-179.5\"/>\n<text text-anchor=\"middle\" x=\"383\" y=\"-164.3\" font-family=\"Helvetica,sans-Serif\" font-size=\"14.00\" fill=\"#000000\">gini = 0.0</text>\n<text text-anchor=\"middle\" x=\"383\" y=\"-149.3\" font-family=\"Helvetica,sans-Serif\" font-size=\"14.00\" fill=\"#000000\">samples = 5</text>\n<text text-anchor=\"middle\" x=\"383\" y=\"-134.3\" font-family=\"Helvetica,sans-Serif\" font-size=\"14.00\" fill=\"#000000\">value = [0, 0, 0, 0, 0, 0, 5]</text>\n<text text-anchor=\"middle\" x=\"383\" y=\"-119.3\" font-family=\"Helvetica,sans-Serif\" font-size=\"14.00\" fill=\"#000000\">class = t</text>\n</g>\n<!-- 4&#45;&gt;8 -->\n<g id=\"edge8\" class=\"edge\">\n<title>4&#45;&gt;8</title>\n<path fill=\"none\" stroke=\"#000000\" d=\"M383,-222.8796C383,-212.2134 383,-200.7021 383,-189.9015\"/>\n<polygon fill=\"#000000\" stroke=\"#000000\" points=\"386.5001,-189.8149 383,-179.8149 379.5001,-189.815 386.5001,-189.8149\"/>\n</g>\n<!-- 6 -->\n<g id=\"node7\" class=\"node\">\n<title>6</title>\n<polygon fill=\"#e53986\" stroke=\"#000000\" points=\"178,-68 0,-68 0,0 178,0 178,-68\"/>\n<text text-anchor=\"middle\" x=\"89\" y=\"-52.8\" font-family=\"Helvetica,sans-Serif\" font-size=\"14.00\" fill=\"#000000\">gini = 0.0</text>\n<text text-anchor=\"middle\" x=\"89\" y=\"-37.8\" font-family=\"Helvetica,sans-Serif\" font-size=\"14.00\" fill=\"#000000\">samples = 2</text>\n<text text-anchor=\"middle\" x=\"89\" y=\"-22.8\" font-family=\"Helvetica,sans-Serif\" font-size=\"14.00\" fill=\"#000000\">value = [0, 0, 0, 0, 0, 0, 2]</text>\n<text text-anchor=\"middle\" x=\"89\" y=\"-7.8\" font-family=\"Helvetica,sans-Serif\" font-size=\"14.00\" fill=\"#000000\">class = t</text>\n</g>\n<!-- 5&#45;&gt;6 -->\n<g id=\"edge6\" class=\"edge\">\n<title>5&#45;&gt;6</title>\n<path fill=\"none\" stroke=\"#000000\" d=\"M150.5084,-103.9815C142.4305,-94.7908 133.8666,-85.0472 125.7774,-75.8436\"/>\n<polygon fill=\"#000000\" stroke=\"#000000\" points=\"128.3458,-73.4642 119.1152,-68.2637 123.088,-78.0855 128.3458,-73.4642\"/>\n</g>\n<!-- 7 -->\n<g id=\"node8\" class=\"node\">\n<title>7</title>\n<polygon fill=\"#b139e5\" stroke=\"#000000\" points=\"374,-68 196,-68 196,0 374,0 374,-68\"/>\n<text text-anchor=\"middle\" x=\"285\" y=\"-52.8\" font-family=\"Helvetica,sans-Serif\" font-size=\"14.00\" fill=\"#000000\">gini = 0.0</text>\n<text text-anchor=\"middle\" x=\"285\" y=\"-37.8\" font-family=\"Helvetica,sans-Serif\" font-size=\"14.00\" fill=\"#000000\">samples = 3</text>\n<text text-anchor=\"middle\" x=\"285\" y=\"-22.8\" font-family=\"Helvetica,sans-Serif\" font-size=\"14.00\" fill=\"#000000\">value = [0, 0, 0, 0, 0, 3, 0]</text>\n<text text-anchor=\"middle\" x=\"285\" y=\"-7.8\" font-family=\"Helvetica,sans-Serif\" font-size=\"14.00\" fill=\"#000000\">class = &#160;</text>\n</g>\n<!-- 5&#45;&gt;7 -->\n<g id=\"edge7\" class=\"edge\">\n<title>5&#45;&gt;7</title>\n<path fill=\"none\" stroke=\"#000000\" d=\"M223.4916,-103.9815C231.5695,-94.7908 240.1334,-85.0472 248.2226,-75.8436\"/>\n<polygon fill=\"#000000\" stroke=\"#000000\" points=\"250.912,-78.0855 254.8848,-68.2637 245.6542,-73.4642 250.912,-78.0855\"/>\n</g>\n<!-- 10 -->\n<g id=\"node11\" class=\"node\">\n<title>10</title>\n<polygon fill=\"#39e54d\" stroke=\"#000000\" points=\"668,-179.5 490,-179.5 490,-111.5 668,-111.5 668,-179.5\"/>\n<text text-anchor=\"middle\" x=\"579\" y=\"-164.3\" font-family=\"Helvetica,sans-Serif\" font-size=\"14.00\" fill=\"#000000\">gini = 0.0</text>\n<text text-anchor=\"middle\" x=\"579\" y=\"-149.3\" font-family=\"Helvetica,sans-Serif\" font-size=\"14.00\" fill=\"#000000\">samples = 4</text>\n<text text-anchor=\"middle\" x=\"579\" y=\"-134.3\" font-family=\"Helvetica,sans-Serif\" font-size=\"14.00\" fill=\"#000000\">value = [0, 0, 4, 0, 0, 0, 0]</text>\n<text text-anchor=\"middle\" x=\"579\" y=\"-119.3\" font-family=\"Helvetica,sans-Serif\" font-size=\"14.00\" fill=\"#000000\">class = a</text>\n</g>\n<!-- 9&#45;&gt;10 -->\n<g id=\"edge10\" class=\"edge\">\n<title>9&#45;&gt;10</title>\n<path fill=\"none\" stroke=\"#000000\" d=\"M579,-222.8796C579,-212.2134 579,-200.7021 579,-189.9015\"/>\n<polygon fill=\"#000000\" stroke=\"#000000\" points=\"582.5001,-189.8149 579,-179.8149 575.5001,-189.815 582.5001,-189.8149\"/>\n</g>\n<!-- 11 -->\n<g id=\"node12\" class=\"node\">\n<title>11</title>\n<polygon fill=\"#3956e5\" stroke=\"#000000\" points=\"864,-179.5 686,-179.5 686,-111.5 864,-111.5 864,-179.5\"/>\n<text text-anchor=\"middle\" x=\"775\" y=\"-164.3\" font-family=\"Helvetica,sans-Serif\" font-size=\"14.00\" fill=\"#000000\">gini = 0.0</text>\n<text text-anchor=\"middle\" x=\"775\" y=\"-149.3\" font-family=\"Helvetica,sans-Serif\" font-size=\"14.00\" fill=\"#000000\">samples = 2</text>\n<text text-anchor=\"middle\" x=\"775\" y=\"-134.3\" font-family=\"Helvetica,sans-Serif\" font-size=\"14.00\" fill=\"#000000\">value = [0, 0, 0, 0, 2, 0, 0]</text>\n<text text-anchor=\"middle\" x=\"775\" y=\"-119.3\" font-family=\"Helvetica,sans-Serif\" font-size=\"14.00\" fill=\"#000000\">class = s</text>\n</g>\n<!-- 9&#45;&gt;11 -->\n<g id=\"edge11\" class=\"edge\">\n<title>9&#45;&gt;11</title>\n<path fill=\"none\" stroke=\"#000000\" d=\"M647.5513,-222.8796C667.8414,-210.5606 689.9883,-197.1143 710.0439,-184.9376\"/>\n<polygon fill=\"#000000\" stroke=\"#000000\" points=\"712.0659,-187.8046 718.7974,-179.623 708.433,-181.8211 712.0659,-187.8046\"/>\n</g>\n</g>\n</svg>\n"
          },
          "metadata": {},
          "execution_count": 148
        }
      ]
    },
    {
      "cell_type": "code",
      "source": [],
      "metadata": {
        "id": "lmcLx0fdJbfT"
      },
      "execution_count": null,
      "outputs": []
    },
    {
      "cell_type": "markdown",
      "source": [
        "###**Exercise #6**\n",
        "Runt he following code to visualize the feature importance. Which features are considered most important based on this analysis?"
      ],
      "metadata": {
        "id": "6zJhEg1eZOVn"
      }
    },
    {
      "cell_type": "code",
      "source": [
        "plt.figure(figsize = (8, 5))\n",
        "plt.bar(X_test.columns, tree.feature_importances_)\n",
        "\n",
        "plt.title(\"Importance of Each Feature According to Decision Tree\", fontsize = \"x-large\")\n",
        "plt.xlabel(\"Feature\", fontsize = \"x-large\")\n",
        "plt.ylabel(\"Importance\", fontsize = \"x-large\")\n",
        "\n",
        "plt.xticks(rotation = 90)\n",
        "\n",
        "plt.show()"
      ],
      "metadata": {
        "colab": {
          "base_uri": "https://localhost:8080/",
          "height": 396
        },
        "id": "bImFPqG3ZOC6",
        "outputId": "cefb4f3c-71d7-426a-c15f-3afedb5b158d"
      },
      "execution_count": null,
      "outputs": [
        {
          "output_type": "display_data",
          "data": {
            "text/plain": [
              "<Figure size 576x360 with 1 Axes>"
            ],
            "image/png": "[encoded data removed]"
          },
          "metadata": {
            "needs_background": "light"
          }
        }
      ]
    },
    {
      "cell_type": "code",
      "source": [],
      "metadata": {
        "id": "p-XudgoTJpBp"
      },
      "execution_count": null,
      "outputs": []
    },
    {
      "cell_type": "markdown",
      "source": [
        "###**Exercise #7**\n",
        "Run the code below to initialize and train three separate models with depths: 1, 2, and 3."
      ],
      "metadata": {
        "id": "ZsknqERlsmN-"
      }
    },
    {
      "cell_type": "code",
      "source": [
        "d1_tree = DecisionTreeClassifier(max_depth = 1)\n",
        "d2_tree = DecisionTreeClassifier(max_depth = 2)\n",
        "d3_tree = DecisionTreeClassifier(max_depth = 3)\n",
        "\n",
        "d1_tree.fit(X_train, y_train)\n",
        "d2_tree.fit(X_train, y_train)\n",
        "d3_tree.fit(X_train, y_train)"
      ],
      "metadata": {
        "colab": {
          "base_uri": "https://localhost:8080/"
        },
        "id": "Gt8IYgYAsmYa",
        "outputId": "185a9a6c-591c-4399-d9f4-022089247cee"
      },
      "execution_count": null,
      "outputs": [
        {
          "output_type": "execute_result",
          "data": {
            "text/plain": [
              "DecisionTreeClassifier(max_depth=3)"
            ]
          },
          "metadata": {},
          "execution_count": 150
        }
      ]
    },
    {
      "cell_type": "markdown",
      "source": [
        "**Evaluate decision tree with depth 1**"
      ],
      "metadata": {
        "id": "UQrKjdbkZ3TJ"
      }
    },
    {
      "cell_type": "code",
      "source": [
        "predictions = d1_tree.predict(X_test)\n",
        "\n",
        "plot_confusion_matrix(d1_tree, X_test, y_test)\n",
        "\n",
        "print(classification_report(y_test, predictions))\n"
      ],
      "metadata": {
        "colab": {
          "base_uri": "https://localhost:8080/",
          "height": 681
        },
        "id": "c0nWnHfiZ2Cx",
        "outputId": "eb8523f8-b762-4fb1-d8aa-e77e9a367eee"
      },
      "execution_count": null,
      "outputs": [
        {
          "output_type": "stream",
          "name": "stderr",
          "text": [
            "/usr/local/lib/python3.8/dist-packages/sklearn/utils/deprecation.py:87: FutureWarning: Function plot_confusion_matrix is deprecated; Function `plot_confusion_matrix` is deprecated in 1.0 and will be removed in 1.2. Use one of the class methods: ConfusionMatrixDisplay.from_predictions or ConfusionMatrixDisplay.from_estimator.\n",
            "  warnings.warn(msg, category=FutureWarning)\n",
            "/usr/local/lib/python3.8/dist-packages/sklearn/metrics/_classification.py:1318: UndefinedMetricWarning: Precision and F-score are ill-defined and being set to 0.0 in labels with no predicted samples. Use `zero_division` parameter to control this behavior.\n",
            "  _warn_prf(average, modifier, msg_start, len(result))\n",
            "/usr/local/lib/python3.8/dist-packages/sklearn/metrics/_classification.py:1318: UndefinedMetricWarning: Precision and F-score are ill-defined and being set to 0.0 in labels with no predicted samples. Use `zero_division` parameter to control this behavior.\n",
            "  _warn_prf(average, modifier, msg_start, len(result))\n",
            "/usr/local/lib/python3.8/dist-packages/sklearn/metrics/_classification.py:1318: UndefinedMetricWarning: Precision and F-score are ill-defined and being set to 0.0 in labels with no predicted samples. Use `zero_division` parameter to control this behavior.\n",
            "  _warn_prf(average, modifier, msg_start, len(result))\n"
          ]
        },
        {
          "output_type": "stream",
          "name": "stdout",
          "text": [
            "              precision    recall  f1-score   support\n",
            "\n",
            "           1       1.00      1.00      1.00        15\n",
            "           2       0.19      1.00      0.32         3\n",
            "           3       0.00      0.00      0.00         1\n",
            "           4       0.00      0.00      0.00         2\n",
            "           5       0.00      0.00      0.00         2\n",
            "           6       0.00      0.00      0.00         5\n",
            "           7       0.00      0.00      0.00         3\n",
            "\n",
            "    accuracy                           0.58        31\n",
            "   macro avg       0.17      0.29      0.19        31\n",
            "weighted avg       0.50      0.58      0.51        31\n",
            "\n"
          ]
        },
        {
          "output_type": "display_data",
          "data": {
            "text/plain": [
              "<Figure size 432x288 with 2 Axes>"
            ],
            "image/png": "[encoded data removed]"
          },
          "metadata": {
            "needs_background": "light"
          }
        }
      ]
    },
    {
      "cell_type": "markdown",
      "source": [
        "**Evaluate decision tree with depth 2**"
      ],
      "metadata": {
        "id": "w73r38fWaALZ"
      }
    },
    {
      "cell_type": "code",
      "source": [
        "predictions = d2_tree.predict(X_test)\n",
        "\n",
        "plot_confusion_matrix(d2_tree, X_test, y_test)\n",
        "\n",
        "print(classification_report(y_test, predictions))\n"
      ],
      "metadata": {
        "colab": {
          "base_uri": "https://localhost:8080/",
          "height": 681
        },
        "id": "Wh3ltY21aB-w",
        "outputId": "c6e70dae-2fb6-4767-c439-394bebef44e6"
      },
      "execution_count": null,
      "outputs": [
        {
          "output_type": "stream",
          "name": "stderr",
          "text": [
            "/usr/local/lib/python3.8/dist-packages/sklearn/utils/deprecation.py:87: FutureWarning: Function plot_confusion_matrix is deprecated; Function `plot_confusion_matrix` is deprecated in 1.0 and will be removed in 1.2. Use one of the class methods: ConfusionMatrixDisplay.from_predictions or ConfusionMatrixDisplay.from_estimator.\n",
            "  warnings.warn(msg, category=FutureWarning)\n",
            "/usr/local/lib/python3.8/dist-packages/sklearn/metrics/_classification.py:1318: UndefinedMetricWarning: Precision and F-score are ill-defined and being set to 0.0 in labels with no predicted samples. Use `zero_division` parameter to control this behavior.\n",
            "  _warn_prf(average, modifier, msg_start, len(result))\n",
            "/usr/local/lib/python3.8/dist-packages/sklearn/metrics/_classification.py:1318: UndefinedMetricWarning: Precision and F-score are ill-defined and being set to 0.0 in labels with no predicted samples. Use `zero_division` parameter to control this behavior.\n",
            "  _warn_prf(average, modifier, msg_start, len(result))\n",
            "/usr/local/lib/python3.8/dist-packages/sklearn/metrics/_classification.py:1318: UndefinedMetricWarning: Precision and F-score are ill-defined and being set to 0.0 in labels with no predicted samples. Use `zero_division` parameter to control this behavior.\n",
            "  _warn_prf(average, modifier, msg_start, len(result))\n"
          ]
        },
        {
          "output_type": "stream",
          "name": "stdout",
          "text": [
            "              precision    recall  f1-score   support\n",
            "\n",
            "           1       1.00      1.00      1.00        15\n",
            "           2       1.00      1.00      1.00         3\n",
            "           3       0.00      0.00      0.00         1\n",
            "           4       0.15      1.00      0.27         2\n",
            "           5       0.00      0.00      0.00         2\n",
            "           6       0.00      0.00      0.00         5\n",
            "           7       0.00      0.00      0.00         3\n",
            "\n",
            "    accuracy                           0.65        31\n",
            "   macro avg       0.31      0.43      0.32        31\n",
            "weighted avg       0.59      0.65      0.60        31\n",
            "\n"
          ]
        },
        {
          "output_type": "display_data",
          "data": {
            "text/plain": [
              "<Figure size 432x288 with 2 Axes>"
            ],
            "image/png": "[encoded data removed]"
          },
          "metadata": {
            "needs_background": "light"
          }
        }
      ]
    },
    {
      "cell_type": "markdown",
      "source": [
        "**Evaluate decision tree with depth 3**\n",
        "\n",
        "\n"
      ],
      "metadata": {
        "id": "u4zFOjT7s0LA"
      }
    },
    {
      "cell_type": "code",
      "source": [
        "predictions = d3_tree.predict(X_test)\n",
        "\n",
        "plot_confusion_matrix(d3_tree, X_test, y_test)\n",
        "\n",
        "print(classification_report(y_test, predictions))\n",
        "\n"
      ],
      "metadata": {
        "colab": {
          "base_uri": "https://localhost:8080/",
          "height": 681
        },
        "id": "ppNrjZDls0TV",
        "outputId": "2eea09d3-5ea1-41e0-f4f0-17b5b8519121"
      },
      "execution_count": null,
      "outputs": [
        {
          "output_type": "stream",
          "name": "stderr",
          "text": [
            "/usr/local/lib/python3.8/dist-packages/sklearn/utils/deprecation.py:87: FutureWarning: Function plot_confusion_matrix is deprecated; Function `plot_confusion_matrix` is deprecated in 1.0 and will be removed in 1.2. Use one of the class methods: ConfusionMatrixDisplay.from_predictions or ConfusionMatrixDisplay.from_estimator.\n",
            "  warnings.warn(msg, category=FutureWarning)\n",
            "/usr/local/lib/python3.8/dist-packages/sklearn/metrics/_classification.py:1318: UndefinedMetricWarning: Precision and F-score are ill-defined and being set to 0.0 in labels with no predicted samples. Use `zero_division` parameter to control this behavior.\n",
            "  _warn_prf(average, modifier, msg_start, len(result))\n",
            "/usr/local/lib/python3.8/dist-packages/sklearn/metrics/_classification.py:1318: UndefinedMetricWarning: Precision and F-score are ill-defined and being set to 0.0 in labels with no predicted samples. Use `zero_division` parameter to control this behavior.\n",
            "  _warn_prf(average, modifier, msg_start, len(result))\n",
            "/usr/local/lib/python3.8/dist-packages/sklearn/metrics/_classification.py:1318: UndefinedMetricWarning: Precision and F-score are ill-defined and being set to 0.0 in labels with no predicted samples. Use `zero_division` parameter to control this behavior.\n",
            "  _warn_prf(average, modifier, msg_start, len(result))\n"
          ]
        },
        {
          "output_type": "stream",
          "name": "stdout",
          "text": [
            "              precision    recall  f1-score   support\n",
            "\n",
            "           1       1.00      1.00      1.00        15\n",
            "           2       1.00      1.00      1.00         3\n",
            "           3       0.00      0.00      0.00         1\n",
            "           4       1.00      1.00      1.00         2\n",
            "           5       0.00      0.00      0.00         2\n",
            "           6       0.00      0.00      0.00         5\n",
            "           7       0.27      1.00      0.43         3\n",
            "\n",
            "    accuracy                           0.74        31\n",
            "   macro avg       0.47      0.57      0.49        31\n",
            "weighted avg       0.67      0.74      0.69        31\n",
            "\n"
          ]
        },
        {
          "output_type": "display_data",
          "data": {
            "text/plain": [
              "<Figure size 432x288 with 2 Axes>"
            ],
            "image/png": "[encoded data removed]"
          },
          "metadata": {
            "needs_background": "light"
          }
        }
      ]
    },
    {
      "cell_type": "markdown",
      "source": [
        "**Run to visualize the worst performing pruned tree**"
      ],
      "metadata": {
        "id": "LjuGhSiuaZUo"
      }
    },
    {
      "cell_type": "code",
      "source": [
        "\n",
        "dot_data = export_graphviz(d1_tree, feature_names = X_test.columns, class_names= \"class_type\", filled = True)\n",
        "graph = graphviz.Source(dot_data, format=\"png\")\n",
        "graph"
      ],
      "metadata": {
        "colab": {
          "base_uri": "https://localhost:8080/",
          "height": 281
        },
        "id": "25L7oe8daZmd",
        "outputId": "96f7768f-fd9c-4a62-9a59-68ed0668a112"
      },
      "execution_count": null,
      "outputs": [
        {
          "output_type": "execute_result",
          "data": {
            "text/plain": [
              "<graphviz.files.Source at 0x7f7f12df10a0>"
            ],
            "image/svg+xml": "<?xml version=\"1.0\" encoding=\"UTF-8\" standalone=\"no\"?>\n<!DOCTYPE svg PUBLIC \"-//W3C//DTD SVG 1.1//EN\"\n \"http://www.w3.org/Graphics/SVG/1.1/DTD/svg11.dtd\">\n<!-- Generated by graphviz version 2.40.1 (20161225.0304)\n -->\n<!-- Title: Tree Pages: 1 -->\n<svg width=\"406pt\" height=\"195pt\"\n viewBox=\"0.00 0.00 406.00 195.00\" xmlns=\"http://www.w3.org/2000/svg\" xmlns:xlink=\"http://www.w3.org/1999/xlink\">\n<g id=\"graph0\" class=\"graph\" transform=\"scale(1 1) rotate(0) translate(4 191)\">\n<title>Tree</title>\n<polygon fill=\"#ffffff\" stroke=\"transparent\" points=\"-4,4 -4,-191 402,-191 402,4 -4,4\"/>\n<!-- 0 -->\n<g id=\"node1\" class=\"node\">\n<title>0</title>\n<polygon fill=\"#fbeadd\" stroke=\"#000000\" points=\"302.5,-187 99.5,-187 99.5,-104 302.5,-104 302.5,-187\"/>\n<text text-anchor=\"middle\" x=\"201\" y=\"-171.8\" font-family=\"Helvetica,sans-Serif\" font-size=\"14.00\" fill=\"#000000\">milk &lt;= 0.5</text>\n<text text-anchor=\"middle\" x=\"201\" y=\"-156.8\" font-family=\"Helvetica,sans-Serif\" font-size=\"14.00\" fill=\"#000000\">gini = 0.762</text>\n<text text-anchor=\"middle\" x=\"201\" y=\"-141.8\" font-family=\"Helvetica,sans-Serif\" font-size=\"14.00\" fill=\"#000000\">samples = 70</text>\n<text text-anchor=\"middle\" x=\"201\" y=\"-126.8\" font-family=\"Helvetica,sans-Serif\" font-size=\"14.00\" fill=\"#000000\">value = [26, 17, 4, 11, 2, 3, 7]</text>\n<text text-anchor=\"middle\" x=\"201\" y=\"-111.8\" font-family=\"Helvetica,sans-Serif\" font-size=\"14.00\" fill=\"#000000\">class = c</text>\n</g>\n<!-- 1 -->\n<g id=\"node2\" class=\"node\">\n<title>1</title>\n<polygon fill=\"#f2fadb\" stroke=\"#000000\" points=\"194,-68 0,-68 0,0 194,0 194,-68\"/>\n<text text-anchor=\"middle\" x=\"97\" y=\"-52.8\" font-family=\"Helvetica,sans-Serif\" font-size=\"14.00\" fill=\"#000000\">gini = 0.748</text>\n<text text-anchor=\"middle\" x=\"97\" y=\"-37.8\" font-family=\"Helvetica,sans-Serif\" font-size=\"14.00\" fill=\"#000000\">samples = 44</text>\n<text text-anchor=\"middle\" x=\"97\" y=\"-22.8\" font-family=\"Helvetica,sans-Serif\" font-size=\"14.00\" fill=\"#000000\">value = [0, 17, 4, 11, 2, 3, 7]</text>\n<text text-anchor=\"middle\" x=\"97\" y=\"-7.8\" font-family=\"Helvetica,sans-Serif\" font-size=\"14.00\" fill=\"#000000\">class = l</text>\n</g>\n<!-- 0&#45;&gt;1 -->\n<g id=\"edge1\" class=\"edge\">\n<title>0&#45;&gt;1</title>\n<path fill=\"none\" stroke=\"#000000\" d=\"M162.2742,-103.9815C153.7018,-94.7908 144.6135,-85.0472 136.029,-75.8436\"/>\n<polygon fill=\"#000000\" stroke=\"#000000\" points=\"138.3393,-73.1891 128.9589,-68.2637 133.2204,-77.9637 138.3393,-73.1891\"/>\n<text text-anchor=\"middle\" x=\"128.0894\" y=\"-89.5485\" font-family=\"Helvetica,sans-Serif\" font-size=\"14.00\" fill=\"#000000\">True</text>\n</g>\n<!-- 2 -->\n<g id=\"node3\" class=\"node\">\n<title>2</title>\n<polygon fill=\"#e58139\" stroke=\"#000000\" points=\"398,-68 212,-68 212,0 398,0 398,-68\"/>\n<text text-anchor=\"middle\" x=\"305\" y=\"-52.8\" font-family=\"Helvetica,sans-Serif\" font-size=\"14.00\" fill=\"#000000\">gini = 0.0</text>\n<text text-anchor=\"middle\" x=\"305\" y=\"-37.8\" font-family=\"Helvetica,sans-Serif\" font-size=\"14.00\" fill=\"#000000\">samples = 26</text>\n<text text-anchor=\"middle\" x=\"305\" y=\"-22.8\" font-family=\"Helvetica,sans-Serif\" font-size=\"14.00\" fill=\"#000000\">value = [26, 0, 0, 0, 0, 0, 0]</text>\n<text text-anchor=\"middle\" x=\"305\" y=\"-7.8\" font-family=\"Helvetica,sans-Serif\" font-size=\"14.00\" fill=\"#000000\">class = c</text>\n</g>\n<!-- 0&#45;&gt;2 -->\n<g id=\"edge2\" class=\"edge\">\n<title>0&#45;&gt;2</title>\n<path fill=\"none\" stroke=\"#000000\" d=\"M239.7258,-103.9815C248.2982,-94.7908 257.3865,-85.0472 265.971,-75.8436\"/>\n<polygon fill=\"#000000\" stroke=\"#000000\" points=\"268.7796,-77.9637 273.0411,-68.2637 263.6607,-73.1891 268.7796,-77.9637\"/>\n<text text-anchor=\"middle\" x=\"273.9106\" y=\"-89.5485\" font-family=\"Helvetica,sans-Serif\" font-size=\"14.00\" fill=\"#000000\">False</text>\n</g>\n</g>\n</svg>\n"
          },
          "metadata": {},
          "execution_count": 154
        }
      ]
    },
    {
      "cell_type": "markdown",
      "source": [
        "---\n",
        "\n",
        "<center>\n",
        "\n",
        "### **KNN**\n",
        "\n",
        "</center>\n",
        "\n",
        "---"
      ],
      "metadata": {
        "id": "wrSOFHhL7tbw"
      }
    },
    {
      "cell_type": "markdown",
      "source": [
        "### **Exercise #8**\n",
        "\n",
        "Using the same dataset as above, use the features determined by the decision tree (**milk** and **feathers**) to train a KNN model.\n",
        "\n",
        "MAKE THE FOLLOWING CHANGES TO THE CODE:\n",
        "\n",
        "1. Change variable1 to **milk**.\n",
        "2. Change variable2 to **feathers**.\n",
        "3. Change the x and y axis labels to the correct feature names."
      ],
      "metadata": {
        "id": "zrUwXcamSQiW"
      }
    },
    {
      "cell_type": "code",
      "source": [
        "variable1 = df[\"variable1\"]\n",
        "variable2 = df[\"variable2\"]\n",
        "class_type = df[\"class_type\"]\n",
        "\n",
        "plt.figure(figsize=(10,6))\n",
        "plt.scatter(variable1, variable2, c = class_type)\n",
        "\n",
        "plt.title(\"Milk vs. Feathers determining Class Type\")\n",
        "plt.xlabel(\"v1\")\n",
        "plt.ylabel(\"v2\")\n",
        "\n",
        "plt.show()"
      ],
      "metadata": {
        "colab": {
          "base_uri": "https://localhost:8080/",
          "height": 235
        },
        "id": "1k7x8_qXrjqg",
        "outputId": "fd3fc11d-8b70-4e8c-adda-467283ffd71f"
      },
      "execution_count": null,
      "outputs": [
        {
          "output_type": "error",
          "ename": "NameError",
          "evalue": "ignored",
          "traceback": [
            "\u001b[0;31m---------------------------------------------------------------------------\u001b[0m",
            "\u001b[0;31mNameError\u001b[0m                                 Traceback (most recent call last)",
            "\u001b[0;32m<ipython-input-4-889da266895b>\u001b[0m in \u001b[0;36m<module>\u001b[0;34m\u001b[0m\n\u001b[0;32m----> 1\u001b[0;31m \u001b[0mmilk\u001b[0m \u001b[0;34m=\u001b[0m \u001b[0mdf\u001b[0m\u001b[0;34m[\u001b[0m\u001b[0;34m\"milk\"\u001b[0m\u001b[0;34m]\u001b[0m\u001b[0;34m\u001b[0m\u001b[0;34m\u001b[0m\u001b[0m\n\u001b[0m\u001b[1;32m      2\u001b[0m \u001b[0mfeathers\u001b[0m \u001b[0;34m=\u001b[0m \u001b[0mdf\u001b[0m\u001b[0;34m[\u001b[0m\u001b[0;34m\"feathers\"\u001b[0m\u001b[0;34m]\u001b[0m\u001b[0;34m\u001b[0m\u001b[0;34m\u001b[0m\u001b[0m\n\u001b[1;32m      3\u001b[0m \u001b[0mclass_type\u001b[0m \u001b[0;34m=\u001b[0m \u001b[0mdf\u001b[0m\u001b[0;34m[\u001b[0m\u001b[0;34m\"class_type\"\u001b[0m\u001b[0;34m]\u001b[0m\u001b[0;34m\u001b[0m\u001b[0;34m\u001b[0m\u001b[0m\n\u001b[1;32m      4\u001b[0m \u001b[0;34m\u001b[0m\u001b[0m\n\u001b[1;32m      5\u001b[0m \u001b[0mplt\u001b[0m\u001b[0;34m.\u001b[0m\u001b[0mfigure\u001b[0m\u001b[0;34m(\u001b[0m\u001b[0mfigsize\u001b[0m\u001b[0;34m=\u001b[0m\u001b[0;34m(\u001b[0m\u001b[0;36m10\u001b[0m\u001b[0;34m,\u001b[0m\u001b[0;36m6\u001b[0m\u001b[0;34m)\u001b[0m\u001b[0;34m)\u001b[0m\u001b[0;34m\u001b[0m\u001b[0;34m\u001b[0m\u001b[0m\n",
            "\u001b[0;31mNameError\u001b[0m: name 'df' is not defined"
          ]
        }
      ]
    },
    {
      "cell_type": "markdown",
      "source": [
        "###**Exercise #9**\n",
        "\n",
        "Run the code to pplit and scale the data."
      ],
      "metadata": {
        "id": "s9n_9nnyq2WU"
      }
    },
    {
      "cell_type": "code",
      "source": [
        "inputs = df[[\"hair\", \"feathers\", \"eggs\", \"milk\", \"airborne\",\"aquatic\", \"predator\",\n",
        "             \"toothed\",\"backbone\", \"breathes\", \"venomous\", \"fins\", \"legs\",\n",
        "             \"tail\", \"domestic\", \"catsize\"]]\n",
        "output = df[\"class_type\"]\n",
        "\n",
        "X_train, X_test, y_train, y_test = train_test_split(inputs, output, test_size = 0.3, random_state = 42)\n",
        "\n",
        "mu = X_train.mean()\n",
        "sig = X_train.std()\n",
        "\n",
        "X_train = (X_train - mu)/sig\n",
        "X_test = (X_test - mu)/sig\n",
        "\n"
      ],
      "metadata": {
        "id": "zZ3NY2tvq2jT"
      },
      "execution_count": null,
      "outputs": []
    },
    {
      "cell_type": "markdown",
      "source": [
        "**Now, initialize and fit the model.**"
      ],
      "metadata": {
        "id": "uWiOxwIYrVEN"
      }
    },
    {
      "cell_type": "code",
      "source": [
        "k = int(len(X_train)**(1/2))\n",
        "model = KNeighborsClassifier(n_neighbors = k)\n",
        "\n",
        "model.fit(X_train, y_train)"
      ],
      "metadata": {
        "colab": {
          "base_uri": "https://localhost:8080/"
        },
        "id": "6kAf53l_rVU5",
        "outputId": "a50b5eac-14d9-4948-d361-05e7b3e29431"
      },
      "execution_count": null,
      "outputs": [
        {
          "output_type": "execute_result",
          "data": {
            "text/plain": [
              "KNeighborsClassifier(n_neighbors=8)"
            ]
          },
          "metadata": {},
          "execution_count": 55
        }
      ]
    },
    {
      "cell_type": "markdown",
      "source": [
        "###**Exercise #10**\n",
        "\n",
        "Now you can make predictions using your model.\n",
        "\n",
        "MAKE THE FOLLOWING CHANGES TO THE CODE:\n",
        "\n",
        "1. Enter the following parameters for a mammal: **1,0,0,0,0,0,1,1,1,1,0,0,1,1,0,1**\n",
        "2. Check the prediction.\n",
        "3. Enter the following parameters for a bird: **0,1,1,0,1,0,1,0,0,1,0,0,1,1,0,0**\n",
        "4. Check the prediction.\n"
      ],
      "metadata": {
        "id": "YK3sCnxFTFva"
      }
    },
    {
      "cell_type": "code",
      "source": [
        "class_type = pd.DataFrame([[  ]], columns = [\"hair\", \"feathers\", \"eggs\", \"milk\", \"airborne\",\"aquatic\", \"predator\",\n",
        "             \"toothed\",\"backbone\", \"breathes\", \"venomous\", \"fins\", \"legs\",\n",
        "             \"tail\", \"domestic\", \"catsize\"])\n",
        "\n",
        "prediction = model.predict(class_type)\n",
        "\n",
        "print(\"class_type predicted is: \",prediction)\n",
        "print(\"where 1= Mammal, 2=Bird, 3=Reptile, 4=Fish, 5=Amphibian, 6=Bug, 7=Invertebrate\")"
      ],
      "metadata": {
        "colab": {
          "base_uri": "https://localhost:8080/"
        },
        "id": "s5qydHCEbYYp",
        "outputId": "c85fa81d-2920-4fb0-e88d-16d72e101b09"
      },
      "execution_count": null,
      "outputs": [
        {
          "output_type": "stream",
          "name": "stdout",
          "text": [
            "class_type predicted is:  [2]\n",
            "where 1= Mammal, 2=Bird, 3=Reptile, 4=Fish, 5=Amphibian, 6=Bug, 7=Invertebrate\n"
          ]
        }
      ]
    },
    {
      "cell_type": "markdown",
      "source": [
        "###**Exercise #11**\n",
        "Run the code to evaluate your model"
      ],
      "metadata": {
        "id": "6crN888HTNRd"
      }
    },
    {
      "cell_type": "code",
      "source": [
        "metrics.classification_report(y_test, predictions)\n",
        "print(classification_report(y_test, predictions))\n",
        "metrics.plot_confusion_matrix(model, X_test, y_test)"
      ],
      "metadata": {
        "colab": {
          "base_uri": "https://localhost:8080/",
          "height": 802
        },
        "id": "9USwIJ0GhVSG",
        "outputId": "6320018b-6555-4e2a-de9c-1fd44af37da5"
      },
      "execution_count": null,
      "outputs": [
        {
          "output_type": "stream",
          "name": "stdout",
          "text": [
            "              precision    recall  f1-score   support\n",
            "\n",
            "           1       1.00      1.00      1.00        15\n",
            "           2       1.00      1.00      1.00         3\n",
            "           3       0.00      0.00      0.00         1\n",
            "           4       1.00      1.00      1.00         2\n",
            "           5       0.00      0.00      0.00         2\n",
            "           6       0.00      0.00      0.00         5\n",
            "           7       0.27      1.00      0.43         3\n",
            "\n",
            "    accuracy                           0.74        31\n",
            "   macro avg       0.47      0.57      0.49        31\n",
            "weighted avg       0.67      0.74      0.69        31\n",
            "\n"
          ]
        },
        {
          "output_type": "stream",
          "name": "stderr",
          "text": [
            "/usr/local/lib/python3.8/dist-packages/sklearn/metrics/_classification.py:1318: UndefinedMetricWarning: Precision and F-score are ill-defined and being set to 0.0 in labels with no predicted samples. Use `zero_division` parameter to control this behavior.\n",
            "  _warn_prf(average, modifier, msg_start, len(result))\n",
            "/usr/local/lib/python3.8/dist-packages/sklearn/metrics/_classification.py:1318: UndefinedMetricWarning: Precision and F-score are ill-defined and being set to 0.0 in labels with no predicted samples. Use `zero_division` parameter to control this behavior.\n",
            "  _warn_prf(average, modifier, msg_start, len(result))\n",
            "/usr/local/lib/python3.8/dist-packages/sklearn/metrics/_classification.py:1318: UndefinedMetricWarning: Precision and F-score are ill-defined and being set to 0.0 in labels with no predicted samples. Use `zero_division` parameter to control this behavior.\n",
            "  _warn_prf(average, modifier, msg_start, len(result))\n",
            "/usr/local/lib/python3.8/dist-packages/sklearn/metrics/_classification.py:1318: UndefinedMetricWarning: Precision and F-score are ill-defined and being set to 0.0 in labels with no predicted samples. Use `zero_division` parameter to control this behavior.\n",
            "  _warn_prf(average, modifier, msg_start, len(result))\n",
            "/usr/local/lib/python3.8/dist-packages/sklearn/metrics/_classification.py:1318: UndefinedMetricWarning: Precision and F-score are ill-defined and being set to 0.0 in labels with no predicted samples. Use `zero_division` parameter to control this behavior.\n",
            "  _warn_prf(average, modifier, msg_start, len(result))\n",
            "/usr/local/lib/python3.8/dist-packages/sklearn/metrics/_classification.py:1318: UndefinedMetricWarning: Precision and F-score are ill-defined and being set to 0.0 in labels with no predicted samples. Use `zero_division` parameter to control this behavior.\n",
            "  _warn_prf(average, modifier, msg_start, len(result))\n",
            "/usr/local/lib/python3.8/dist-packages/sklearn/utils/deprecation.py:87: FutureWarning: Function plot_confusion_matrix is deprecated; Function `plot_confusion_matrix` is deprecated in 1.0 and will be removed in 1.2. Use one of the class methods: ConfusionMatrixDisplay.from_predictions or ConfusionMatrixDisplay.from_estimator.\n",
            "  warnings.warn(msg, category=FutureWarning)\n"
          ]
        },
        {
          "output_type": "execute_result",
          "data": {
            "text/plain": [
              "<sklearn.metrics._plot.confusion_matrix.ConfusionMatrixDisplay at 0x7f7f12ce1460>"
            ]
          },
          "metadata": {},
          "execution_count": 162
        },
        {
          "output_type": "display_data",
          "data": {
            "text/plain": [
              "<Figure size 432x288 with 2 Axes>"
            ],
            "image/png": "[encoded data removed]"
          },
          "metadata": {
            "needs_background": "light"
          }
        }
      ]
    },
    {
      "cell_type": "markdown",
      "source": [
        "---\n",
        "\n",
        "<center>\n",
        "\n",
        "### **Random Forest and Gradient Boosting**\n",
        "\n",
        "</center>\n",
        "\n",
        "---"
      ],
      "metadata": {
        "id": "FgUZ0LQ37wIP"
      }
    },
    {
      "cell_type": "markdown",
      "metadata": {
        "id": "D4ei2uBC71nM"
      },
      "source": [
        "### **Exercise #12**\n",
        "\n",
        "Let's see how the more advanced model's we've learned about for classification perform with this dataset."
      ]
    },
    {
      "cell_type": "markdown",
      "source": [
        "Run the code for `train_test_split` to make sure we're including all features."
      ],
      "metadata": {
        "id": "MO8JisiE71nM"
      }
    },
    {
      "cell_type": "code",
      "source": [
        "inputs = df.drop(columns = [\"class_type\"], axis = 1)\n",
        "output = df[\"class_type\"]\n",
        "\n",
        "X_train, X_test, y_train, y_test = train_test_split(inputs, output, test_size = 0.3, random_state = 42)"
      ],
      "metadata": {
        "id": "FG5VlLs671nM"
      },
      "execution_count": null,
      "outputs": []
    },
    {
      "cell_type": "markdown",
      "source": [
        "Train and evaluate a **Random Forest Classifier**\n",
        "\n",
        "MAKE THE FOLLOWING CHANGES TO THE CODE:\n",
        "\n",
        "1. Specify the number of trees (`n_estimators`) to be **1000**\n",
        "2. Specify the number of features to consider at random for each split (`max_features`) to be **4**."
      ],
      "metadata": {
        "id": "FPTU2Ui_71nM"
      }
    },
    {
      "cell_type": "code",
      "source": [
        "rf = RandomForestClassifier(n_estimators =0, max_features = 0)\n",
        "rf.fit(X_train, y_train)\n",
        "rf_predictions = rf.predict(X_test)\n",
        "\n",
        "\n",
        "plot_confusion_matrix(rf, X_test, y_test)\n",
        "print(classification_report(y_test, rf_predictions))"
      ],
      "metadata": {
        "colab": {
          "base_uri": "https://localhost:8080/",
          "height": 692
        },
        "outputId": "a8c2012e-4d45-4a5d-8641-d87036d9994a",
        "id": "u23t5KGj71nM"
      },
      "execution_count": null,
      "outputs": [
        {
          "output_type": "stream",
          "name": "stderr",
          "text": [
            "/usr/local/lib/python3.8/dist-packages/sklearn/utils/deprecation.py:87: FutureWarning: Function plot_confusion_matrix is deprecated; Function `plot_confusion_matrix` is deprecated in 1.0 and will be removed in 1.2. Use one of the class methods: ConfusionMatrixDisplay.from_predictions or ConfusionMatrixDisplay.from_estimator.\n",
            "  warnings.warn(msg, category=FutureWarning)\n",
            "/usr/local/lib/python3.8/dist-packages/sklearn/metrics/_classification.py:1318: UndefinedMetricWarning: Precision and F-score are ill-defined and being set to 0.0 in labels with no predicted samples. Use `zero_division` parameter to control this behavior.\n",
            "  _warn_prf(average, modifier, msg_start, len(result))\n",
            "/usr/local/lib/python3.8/dist-packages/sklearn/metrics/_classification.py:1318: UndefinedMetricWarning: Precision and F-score are ill-defined and being set to 0.0 in labels with no predicted samples. Use `zero_division` parameter to control this behavior.\n",
            "  _warn_prf(average, modifier, msg_start, len(result))\n",
            "/usr/local/lib/python3.8/dist-packages/sklearn/metrics/_classification.py:1318: UndefinedMetricWarning: Precision and F-score are ill-defined and being set to 0.0 in labels with no predicted samples. Use `zero_division` parameter to control this behavior.\n",
            "  _warn_prf(average, modifier, msg_start, len(result))\n"
          ]
        },
        {
          "output_type": "stream",
          "name": "stdout",
          "text": [
            "              precision    recall  f1-score   support\n",
            "\n",
            "           1       0.94      1.00      0.97        15\n",
            "           2       1.00      1.00      1.00         3\n",
            "           3       0.00      0.00      0.00         1\n",
            "           4       0.67      1.00      0.80         2\n",
            "           5       1.00      1.00      1.00         2\n",
            "           6       1.00      1.00      1.00         5\n",
            "           7       1.00      0.67      0.80         3\n",
            "\n",
            "    accuracy                           0.94        31\n",
            "   macro avg       0.80      0.81      0.80        31\n",
            "weighted avg       0.92      0.94      0.92        31\n",
            "\n"
          ]
        },
        {
          "output_type": "display_data",
          "data": {
            "text/plain": [
              "<Figure size 432x288 with 2 Axes>"
            ],
            "image/png": "[encoded data removed]"
          },
          "metadata": {
            "needs_background": "light"
          }
        }
      ]
    },
    {
      "cell_type": "markdown",
      "source": [
        "Train and evaluate a **Gradient Boosted Tree Classifier**\n",
        "\n",
        "MAKE THE FOLLOWING CHANGES TO THE CODE:\n",
        "\n",
        "1. Specify the number of trees (`n_estimators`) to be **1000**\n",
        "2. Specify how much we attempt to learn from each set of errors (`learning_rate`) to be **0.01**"
      ],
      "metadata": {
        "id": "fEmtfL-K71nM"
      }
    },
    {
      "cell_type": "code",
      "source": [
        "gb = GradientBoostingClassifier(n_estimators = 0, learning_rate =0 )\n",
        "gb.fit(X_train, y_train)\n",
        "gb_predictions = gb.predict(X_test)\n",
        "\n",
        "plot_confusion_matrix(gb, X_test, y_test)\n",
        "print(classification_report(y_test, gb_predictions))"
      ],
      "metadata": {
        "colab": {
          "base_uri": "https://localhost:8080/",
          "height": 585
        },
        "outputId": "6eb79429-fbd9-4134-d1ef-e6bb8abc7c7d",
        "id": "p3xG47-O71nM"
      },
      "execution_count": null,
      "outputs": [
        {
          "output_type": "stream",
          "name": "stderr",
          "text": [
            "/usr/local/lib/python3.8/dist-packages/sklearn/utils/deprecation.py:87: FutureWarning: Function plot_confusion_matrix is deprecated; Function `plot_confusion_matrix` is deprecated in 1.0 and will be removed in 1.2. Use one of the class methods: ConfusionMatrixDisplay.from_predictions or ConfusionMatrixDisplay.from_estimator.\n",
            "  warnings.warn(msg, category=FutureWarning)\n"
          ]
        },
        {
          "output_type": "stream",
          "name": "stdout",
          "text": [
            "              precision    recall  f1-score   support\n",
            "\n",
            "           1       1.00      1.00      1.00        15\n",
            "           2       1.00      1.00      1.00         3\n",
            "           3       1.00      1.00      1.00         1\n",
            "           4       1.00      1.00      1.00         2\n",
            "           5       1.00      1.00      1.00         2\n",
            "           6       0.83      1.00      0.91         5\n",
            "           7       1.00      0.67      0.80         3\n",
            "\n",
            "    accuracy                           0.97        31\n",
            "   macro avg       0.98      0.95      0.96        31\n",
            "weighted avg       0.97      0.97      0.97        31\n",
            "\n"
          ]
        },
        {
          "output_type": "display_data",
          "data": {
            "text/plain": [
              "<Figure size 432x288 with 2 Axes>"
            ],
            "image/png": "[encoded data removed]"
          },
          "metadata": {
            "needs_background": "light"
          }
        }
      ]
    },
    {
      "cell_type": "markdown",
      "source": [
        "---\n",
        "##**Part 3: Fine-Tuning a Model Review (optional at home)**\n",
        "---\n",
        "\n",
        "Part of building a machine learning model is trial and error. Practice changing the following parameters in part 1 and observe how the models change: <br>\n",
        "\n",
        "*   test_size of dataset\n",
        "*   input features\n",
        "*   value of k\n",
        "*   maximum depth of trees used\n",
        "*   number of trees used in ensemble methods\n",
        "*   number of features considered in random forest\n",
        "*   learning rate\n",
        "\n",
        "**Consider the following questions after you make the changes:**<br>\n",
        "Which changes made the biggest difference in the models?<br>\n",
        "Which changes made the models appear more accurate?<br>\n",
        "Do you think classification is the best method of supervised learning for this dataset? Why or why not?\n"
      ],
      "metadata": {
        "id": "d4QirZ9MtjwC"
      }
    },
    {
      "cell_type": "markdown",
      "source": [
        "---\n",
        "## **Part 4: Classifying Handwritten Digts (optional at home)**\n",
        "---\n",
        "\n",
        "Here, you are given a dataset with 1797 images of handwritten digits. Much like the face completion task from last week that some of you may have done, you will try to use machine learning to model these images and learn meaningful relationships between them. However, this time we will focus on a *single output classification problem*: identifying what number each image represents. As such, we have:\n",
        "\n",
        "<br>\n",
        "\n",
        "**The features**: 64 pixels representing a handwritten digit (to be displayed in an 8X8 square)\n",
        "\n",
        "**The target**: 1 number from 0 to 9 (since the outputs are numeric, we could technically perform regression here, but there are only a small number of discrete values allowed so classification is a more logical choice to start with)\n",
        "\n",
        "\n",
        "<br>\n",
        "\n",
        "*NOTE: There is a cheat sheet provided at the top of this notebook that can help you with manipulating and showing images like these.*\n",
        "\n",
        "---"
      ],
      "metadata": {
        "id": "5KQKs8jyD0mf"
      }
    },
    {
      "cell_type": "markdown",
      "source": [
        "#### **Exercise #1**\n",
        "\n",
        "**Run the code below to load the digit dataset in from sklearn and then split this into the images themselves and the numbers (labels/targets) for each one.**"
      ],
      "metadata": {
        "id": "9jBUSXc6RnJt"
      }
    },
    {
      "cell_type": "code",
      "source": [
        "from sklearn.datasets import load_digits\n",
        "\n",
        "images, numbers = load_digits(return_X_y = True)"
      ],
      "metadata": {
        "id": "inijd-5vEIOX"
      },
      "execution_count": null,
      "outputs": []
    },
    {
      "cell_type": "markdown",
      "source": [
        "#### **Exercise #2**\n",
        "\n",
        "**Run the code below to show the digits using what these images look like using matplotlib's `imshow(...)` function.**\n",
        "\n",
        "Feel free to change the index for each image/number to see what different handwritten digits look like."
      ],
      "metadata": {
        "id": "dzkX8taYSYg-"
      }
    },
    {
      "cell_type": "code",
      "source": [
        "plt.imshow(images[0].reshape((8, 8)))\n",
        "plt.title(numbers[0])\n",
        "plt.show()\n",
        "\n",
        "plt.imshow(images[3].reshape((8, 8)))\n",
        "plt.title(numbers[3])\n",
        "plt.show()\n",
        "\n",
        "plt.imshow(images[1000].reshape((8, 8)))\n",
        "plt.title(numbers[1000])\n",
        "plt.show()"
      ],
      "metadata": {
        "colab": {
          "base_uri": "https://localhost:8080/",
          "height": 809
        },
        "id": "pC6RMN3Heoz9",
        "outputId": "1f08abec-42e5-47b3-ae57-ab7b506dab65"
      },
      "execution_count": null,
      "outputs": [
        {
          "output_type": "display_data",
          "data": {
            "text/plain": [
              "<Figure size 432x288 with 1 Axes>"
            ],
            "image/png": "[encoded data removed]"
          },
          "metadata": {
            "needs_background": "light"
          }
        },
        {
          "output_type": "display_data",
          "data": {
            "text/plain": [
              "<Figure size 432x288 with 1 Axes>"
            ],
            "image/png": "[encoded data removed]"
          },
          "metadata": {
            "needs_background": "light"
          }
        },
        {
          "output_type": "display_data",
          "data": {
            "text/plain": [
              "<Figure size 432x288 with 1 Axes>"
            ],
            "image/png": "[encoded data removed]"
          },
          "metadata": {
            "needs_background": "light"
          }
        }
      ]
    },
    {
      "cell_type": "markdown",
      "source": [
        "#### **Exercise #3**\n",
        "\n",
        "Complete the code below to train 4 different models to predict the number that an image corresponds to as follows:\n",
        "\n",
        "1. Split the data into 70% training and 30% test sets\n",
        "\n",
        "2. Train a KNN Classifier with `K = 5` and make predictions on the test set\n",
        "\n",
        "3. Train a Decision Tree Classifier with no pruning and make predictions on the test set\n",
        "\n",
        "4. Train a Random Forest Classifier with `n_estimators = 100` and `max_features = 8` and make predictions on the test set\n",
        "\n",
        "5. Train a Gradient Boosted Tree Classifier with `n_estimators = 100` and `learning_rate = 0.1` and make predictions on the test set\n",
        "\n",
        "---"
      ],
      "metadata": {
        "id": "HQWEy8tQSkP8"
      }
    },
    {
      "cell_type": "markdown",
      "source": [
        "**1. Split the data into 70% training and 30% test sets**"
      ],
      "metadata": {
        "id": "okaxAm9W6h7P"
      }
    },
    {
      "cell_type": "code",
      "source": [
        "X_train, X_test, y_train, y_test = train_test_split(images, numbers, test_size = 0.1, random_state = 42)"
      ],
      "metadata": {
        "id": "zfqzHuwffYXl"
      },
      "execution_count": null,
      "outputs": []
    },
    {
      "cell_type": "markdown",
      "source": [
        "**2. Train a KNN Classifier with `K = 5` and make predictions on the test set**"
      ],
      "metadata": {
        "id": "sLlHgpGF6tZw"
      }
    },
    {
      "cell_type": "code",
      "source": [
        "knn = KNeighborsClassifier(n_neighbors = 1)\n",
        "knn.fit(X_train, y_train)\n",
        "knn_preds = knn.predict(X_test)"
      ],
      "metadata": {
        "id": "noZXDdUb6nO0"
      },
      "execution_count": null,
      "outputs": []
    },
    {
      "cell_type": "markdown",
      "source": [
        "**3. Train a Decision Tree Classifier with no pruning and make predictions on the test set**"
      ],
      "metadata": {
        "id": "9sbklGFH6vtq"
      }
    },
    {
      "cell_type": "code",
      "source": [
        "tree = DecisionTreeClassifier()\n",
        "tree.fit(X_train, y_train)\n",
        "tree_preds = tree.predict(X_test)"
      ],
      "metadata": {
        "id": "8nGiMAlU6pJQ"
      },
      "execution_count": null,
      "outputs": []
    },
    {
      "cell_type": "markdown",
      "source": [
        "**4. Train a Random Forest Classifier with `n_estimators = 100` and `max_features = 8` and make predictions on the test set**"
      ],
      "metadata": {
        "id": "M3Sk9EAr6xsx"
      }
    },
    {
      "cell_type": "code",
      "source": [
        "rf = RandomForestClassifier(n_estimators = 0, max_features = 0)\n",
        "rf.fit(X_train, y_train)\n",
        "rf_preds = rf.predict(X_test)"
      ],
      "metadata": {
        "id": "qbRcGOwO6qrV"
      },
      "execution_count": null,
      "outputs": []
    },
    {
      "cell_type": "markdown",
      "source": [
        "**5. Train a Gradient Boosted Tree Classifier with `n_estimators = 100` and `learning_rate = 0.1` and make predictions on the test set**"
      ],
      "metadata": {
        "id": "KSONEBCp60xq"
      }
    },
    {
      "cell_type": "code",
      "source": [
        "gb = GradientBoostingClassifier(n_estimators = 0, learning_rate = 0)\n",
        "gb.fit(X_train, y_train)\n",
        "gb_preds = gb.predict(X_test)"
      ],
      "metadata": {
        "id": "ziN3ayCH6sNE"
      },
      "execution_count": null,
      "outputs": []
    },
    {
      "cell_type": "markdown",
      "source": [
        "#### **Exercise #4**\n",
        "\n",
        "Let's see how each model did! Specifically print the classification report and plot the confusion matrix for each model.\n",
        "\n",
        "**1. KNN**"
      ],
      "metadata": {
        "id": "2WvM73gjXahU"
      }
    },
    {
      "cell_type": "code",
      "source": [
        "print(classification_report(y_test, knn_preds))\n",
        "plot_confusion_matrix(knn, X_test, y_test)"
      ],
      "metadata": {
        "colab": {
          "base_uri": "https://localhost:8080/",
          "height": 600
        },
        "id": "1IS-zsLB2NTQ",
        "outputId": "80de0347-328f-4014-a583-ad0bcb5eb552"
      },
      "execution_count": null,
      "outputs": [
        {
          "output_type": "stream",
          "name": "stdout",
          "text": [
            "              precision    recall  f1-score   support\n",
            "\n",
            "           0       1.00      1.00      1.00        53\n",
            "           1       1.00      1.00      1.00        50\n",
            "           2       1.00      1.00      1.00        47\n",
            "           3       0.98      1.00      0.99        54\n",
            "           4       0.98      1.00      0.99        60\n",
            "           5       0.98      0.98      0.98        66\n",
            "           6       1.00      1.00      1.00        53\n",
            "           7       1.00      1.00      1.00        55\n",
            "           8       1.00      1.00      1.00        43\n",
            "           9       0.98      0.95      0.97        59\n",
            "\n",
            "    accuracy                           0.99       540\n",
            "   macro avg       0.99      0.99      0.99       540\n",
            "weighted avg       0.99      0.99      0.99       540\n",
            "\n"
          ]
        },
        {
          "output_type": "execute_result",
          "data": {
            "text/plain": [
              "<sklearn.metrics._plot.confusion_matrix.ConfusionMatrixDisplay at 0x7fd59c479b50>"
            ]
          },
          "metadata": {},
          "execution_count": 43
        },
        {
          "output_type": "display_data",
          "data": {
            "text/plain": [
              "<Figure size 432x288 with 2 Axes>"
            ],
            "image/png": "[encoded data removed]"
          },
          "metadata": {
            "needs_background": "light"
          }
        }
      ]
    },
    {
      "cell_type": "markdown",
      "source": [
        "**Decision Tree**"
      ],
      "metadata": {
        "id": "ins9FVGy7Q-A"
      }
    },
    {
      "cell_type": "code",
      "source": [
        "print(classification_report(y_test, tree_preds))\n",
        "plot_confusion_matrix(tree, X_test, y_test)"
      ],
      "metadata": {
        "colab": {
          "base_uri": "https://localhost:8080/",
          "height": 600
        },
        "id": "ia4dHzpI2bgX",
        "outputId": "22e8c6c2-bf46-40ec-e1f6-1b7f41422c93"
      },
      "execution_count": null,
      "outputs": [
        {
          "output_type": "stream",
          "name": "stdout",
          "text": [
            "              precision    recall  f1-score   support\n",
            "\n",
            "           0       0.98      0.91      0.94        53\n",
            "           1       0.84      0.72      0.77        50\n",
            "           2       0.79      0.79      0.79        47\n",
            "           3       0.73      0.85      0.79        54\n",
            "           4       0.81      0.83      0.82        60\n",
            "           5       0.95      0.85      0.90        66\n",
            "           6       0.86      0.92      0.89        53\n",
            "           7       0.87      0.85      0.86        55\n",
            "           8       0.76      0.88      0.82        43\n",
            "           9       0.86      0.81      0.83        59\n",
            "\n",
            "    accuracy                           0.84       540\n",
            "   macro avg       0.84      0.84      0.84       540\n",
            "weighted avg       0.85      0.84      0.84       540\n",
            "\n"
          ]
        },
        {
          "output_type": "execute_result",
          "data": {
            "text/plain": [
              "<sklearn.metrics._plot.confusion_matrix.ConfusionMatrixDisplay at 0x7fd59c3f3a60>"
            ]
          },
          "metadata": {},
          "execution_count": 45
        },
        {
          "output_type": "display_data",
          "data": {
            "text/plain": [
              "<Figure size 432x288 with 2 Axes>"
            ],
            "image/png": "[encoded data removed]"
          },
          "metadata": {
            "needs_background": "light"
          }
        }
      ]
    },
    {
      "cell_type": "markdown",
      "source": [
        "**Random Forest**"
      ],
      "metadata": {
        "id": "dpNiLPKu7SZk"
      }
    },
    {
      "cell_type": "code",
      "source": [
        "print(classification_report(y_test, rf_preds))\n",
        "plot_confusion_matrix(rf, X_test, y_test)"
      ],
      "metadata": {
        "colab": {
          "base_uri": "https://localhost:8080/",
          "height": 600
        },
        "id": "5lcn7nNR2b7R",
        "outputId": "3d62e174-8ee8-4708-daa9-9a70b2a37873"
      },
      "execution_count": null,
      "outputs": [
        {
          "output_type": "stream",
          "name": "stdout",
          "text": [
            "              precision    recall  f1-score   support\n",
            "\n",
            "           0       1.00      0.98      0.99        53\n",
            "           1       1.00      1.00      1.00        50\n",
            "           2       1.00      1.00      1.00        47\n",
            "           3       0.98      0.94      0.96        54\n",
            "           4       0.97      1.00      0.98        60\n",
            "           5       0.95      0.95      0.95        66\n",
            "           6       0.98      0.98      0.98        53\n",
            "           7       0.96      0.98      0.97        55\n",
            "           8       0.96      1.00      0.98        43\n",
            "           9       0.96      0.93      0.95        59\n",
            "\n",
            "    accuracy                           0.98       540\n",
            "   macro avg       0.98      0.98      0.98       540\n",
            "weighted avg       0.98      0.98      0.98       540\n",
            "\n"
          ]
        },
        {
          "output_type": "execute_result",
          "data": {
            "text/plain": [
              "<sklearn.metrics._plot.confusion_matrix.ConfusionMatrixDisplay at 0x7fd59c3cdfd0>"
            ]
          },
          "metadata": {},
          "execution_count": 41
        },
        {
          "output_type": "display_data",
          "data": {
            "text/plain": [
              "<Figure size 432x288 with 2 Axes>"
            ],
            "image/png": "[encoded data removed]"
          },
          "metadata": {
            "needs_background": "light"
          }
        }
      ]
    },
    {
      "cell_type": "markdown",
      "source": [
        "**Gradient Boosting**"
      ],
      "metadata": {
        "id": "6zGXfauh7UKr"
      }
    },
    {
      "cell_type": "code",
      "source": [
        "print(classification_report(y_test, gb_preds))\n",
        "plot_confusion_matrix(gb, X_test, y_test)"
      ],
      "metadata": {
        "colab": {
          "base_uri": "https://localhost:8080/",
          "height": 600
        },
        "id": "Dd6dmonx2cZz",
        "outputId": "04fc41ca-7412-4636-dccf-1a8345404c7e"
      },
      "execution_count": null,
      "outputs": [
        {
          "output_type": "stream",
          "name": "stdout",
          "text": [
            "              precision    recall  f1-score   support\n",
            "\n",
            "           0       1.00      0.98      0.99        53\n",
            "           1       0.98      1.00      0.99        50\n",
            "           2       1.00      0.98      0.99        47\n",
            "           3       1.00      0.96      0.98        54\n",
            "           4       0.98      0.97      0.97        60\n",
            "           5       0.98      0.94      0.96        66\n",
            "           6       0.98      0.96      0.97        53\n",
            "           7       0.95      0.98      0.96        55\n",
            "           8       0.90      1.00      0.95        43\n",
            "           9       0.92      0.93      0.92        59\n",
            "\n",
            "    accuracy                           0.97       540\n",
            "   macro avg       0.97      0.97      0.97       540\n",
            "weighted avg       0.97      0.97      0.97       540\n",
            "\n"
          ]
        },
        {
          "output_type": "execute_result",
          "data": {
            "text/plain": [
              "<sklearn.metrics._plot.confusion_matrix.ConfusionMatrixDisplay at 0x7fd59befe670>"
            ]
          },
          "metadata": {},
          "execution_count": 48
        },
        {
          "output_type": "display_data",
          "data": {
            "text/plain": [
              "<Figure size 432x288 with 2 Axes>"
            ],
            "image/png": "[encoded data removed]"
          },
          "metadata": {
            "needs_background": "light"
          }
        }
      ]
    },
    {
      "cell_type": "markdown",
      "source": [
        "#### **Exercise #5**\n",
        "\n",
        "Now, let's get a visual sense of how these models did! Specifically, show one of the test images and the predicted number for each model by running the code below.\n",
        "\n",
        "Change the value of the variable `digit_id` to see the results for a different digit. There are 540 digits in the test set."
      ],
      "metadata": {
        "id": "B7gGT1VfS1bo"
      }
    },
    {
      "cell_type": "code",
      "source": [
        "digit_id = 0\n",
        "\n",
        "plt.imshow(X_test[digit_id].reshape(8,8))\n",
        "plt.title(\"Test Digit Number: \" + str(digit_id))\n",
        "plt.show()\n",
        "\n",
        "print(\"True Value: \" + str(y_test[digit_id]))\n",
        "print(\"KNN: \" + str(knn_preds[digit_id]))\n",
        "print(\"Decision Tree: \" + str(tree_preds[digit_id]))\n",
        "print(\"Random Forest: \" + str(rf_preds[digit_id]))\n",
        "print(\"Gradient Boosting: \" + str(gb_preds[digit_id]))"
      ],
      "metadata": {
        "colab": {
          "base_uri": "https://localhost:8080/",
          "height": 370
        },
        "id": "uay8Ljv272r2",
        "outputId": "182e087d-8346-4b84-c88b-a97cab0d58b6"
      },
      "execution_count": null,
      "outputs": [
        {
          "output_type": "display_data",
          "data": {
            "text/plain": [
              "<Figure size 432x288 with 1 Axes>"
            ],
            "image/png": "[encoded data removed]"
          },
          "metadata": {
            "needs_background": "light"
          }
        },
        {
          "output_type": "stream",
          "name": "stdout",
          "text": [
            "True Value: 3\n",
            "KNN: 3\n",
            "Decision Tree: 3\n",
            "Random Forest: 3\n",
            "Gradient Boosting: 3\n"
          ]
        }
      ]
    },
    {
      "cell_type": "markdown",
      "source": [
        "**Exercise #6**\n",
        "\n",
        "Here are some key questions to reflect upon and perhaps test out yourself:\n",
        "* Which model performed the best? Why? Is this what you expected?\n",
        "\n",
        "* Which model performed the worst? Why? Is this what you expected?\n",
        "\n",
        "* Are there specific numbers that the models generally struggled with more? (Hint. Consult the confusion matrices)\n",
        "\n",
        "* Did each model struggle with different numbers? (Hint. Consult the confusion matrices)\n",
        "\n",
        "* Are there specific numbers that got mixed up more often? Why? (Hint. Consult the confusion matrices)\n",
        "\n",
        "* Can we increase the quality of any of these models by tuning their hyperparameters differently?\n",
        "\n",
        "* How would these models perform if they were only trained on some digits (ex: 0 - 5), but tested on all of them (0 - 9)?\n",
        "\n",
        "* How would these models perform if they were only given half or some other portion of each digit's image?"
      ],
      "metadata": {
        "id": "nFfqeYJ09zf0"
      }
    },
    {
      "cell_type": "markdown",
      "source": [
        "# End of Lab\n",
        "\n",
        "---\n",
        "\n",
        "© 2022 The Coding School, All rights reserved"
      ],
      "metadata": {
        "id": "SoNbH8tbBt3W"
      }
    }
  ],
  "metadata": {
    "colab": {
      "provenance": [],
      "collapsed_sections": [
        "6mZO0YV0ssTG",
        "4hSqHdxjid5M",
        "KbG_-MrqBocH",
        "bjeq75hiiHBq",
        "fb60UrvqUMWz",
        "MRxfvJrkxscC",
        "G5TnnVL500nt",
        "okG48qQ6uxps",
        "DTs8qy1I03Ns",
        "jMti7RdL6DpZ",
        "wlZuN6WSsLXm",
        "--fGcKyJ7lBH",
        "w9940zpoYWTt",
        "wrSOFHhL7tbw",
        "s9n_9nnyq2WU",
        "6crN888HTNRd",
        "FgUZ0LQ37wIP"
      ],
      "include_colab_link": true
    },
    "kernelspec": {
      "display_name": "Python 3 (ipykernel)",
      "language": "python",
      "name": "python3"
    },
    "language_info": {
      "codemirror_mode": {
        "name": "ipython",
        "version": 3
      },
      "file_extension": ".py",
      "mimetype": "text/x-python",
      "name": "python",
      "nbconvert_exporter": "python",
      "pygments_lexer": "ipython3",
      "version": "3.9.7"
    }
  },
  "nbformat": 4,
  "nbformat_minor": 0
}